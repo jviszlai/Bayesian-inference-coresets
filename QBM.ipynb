{
 "cells": [
  {
   "cell_type": "code",
   "execution_count": 11,
   "id": "84bf0a24-4082-42b2-be17-8f33ecff1270",
   "metadata": {},
   "outputs": [],
   "source": [
    "from typing import List, Tuple, Iterable\n",
    "\n",
    "import numpy as np\n",
    "import networkx as nx\n",
    "import matplotlib.pyplot as plt\n",
    "import copy\n",
    "import scipy\n",
    "import qiskit\n",
    "from qiskit import opflow\n",
    "from qiskit.opflow.primitive_ops import PauliSumOp"
   ]
  },
  {
   "cell_type": "code",
   "execution_count": 20,
   "id": "adaa4d72-2090-47c3-bcb9-205822037546",
   "metadata": {},
   "outputs": [],
   "source": [
    "def ising_hamiltonian(pauli_list: List[Tuple[str, float]]) -> PauliSumOp:\n",
    "    return PauliSumOp.from_list(pauli_list)\n",
    "\n",
    "def get_thermal_state(H: PauliSumOp, beta: float) -> qiskit.quantum_info.DensityMatrix:\n",
    "    H = H.mul(-1 * beta) # returns -beta*H\n",
    "    exp_H = scipy.linalg.expm(H.to_matrix()) # returns e^H\n",
    "    partition_function = np.trace(exp_H)\n",
    "    return qiskit.quantum_info.DensityMatrix(exp_H / partition_function)"
   ]
  },
  {
   "cell_type": "code",
   "execution_count": 54,
   "id": "9b744202-1f36-4051-b943-c627a84824ec",
   "metadata": {},
   "outputs": [
    {
     "name": "stdout",
     "output_type": "stream",
     "text": [
      "-1.0 * ZZ\n",
      "- 1.0 * IZ\n",
      "+ 1.0 * ZI\n"
     ]
    },
    {
     "data": {
      "text/plain": [
       "<matplotlib.legend.Legend at 0x7f81cdbdfb80>"
      ]
     },
     "execution_count": 54,
     "metadata": {},
     "output_type": "execute_result"
    },
    {
     "data": {
      "image/png": "[encoded data removed]",
      "text/plain": [
       "<Figure size 600x400 with 1 Axes>"
      ]
     },
     "metadata": {
      "needs_background": "light"
     },
     "output_type": "display_data"
    }
   ],
   "source": [
    "temp_range = list(np.arange(100, 1, -10)) + list(np.arange(9,0,-1)) + list(np.arange(0.9, 0, -0.1))\n",
    "\n",
    "pauli_list = [('ZZ', -1), ('IZ', -1), ('ZI', 1)]\n",
    "H = ising_hamiltonian(pauli_list)\n",
    "print(H)\n",
    "energy = []\n",
    "avg_mag = []\n",
    "for t in temp_range:\n",
    "    beta = 1/t    \n",
    "    rho = get_thermal_state(H, beta)\n",
    "    energy.append(rho.expectation_value(H).real)\n",
    "    spin0 = rho.expectation_value(PauliSumOp.from_list([('IZ', 1)])).real\n",
    "    spin1 = rho.expectation_value(PauliSumOp.from_list([('ZI', 1)])).real\n",
    "    avg_mag.append((spin0, spin1))\n",
    "    \n",
    "fig, ax = plt.subplots(dpi=100)\n",
    "ax.plot(temp_range, energy, label='<H>')\n",
    "ax.plot(temp_range, [m[0] for m in avg_mag], ls='--', label='<IZ>')\n",
    "ax.plot(temp_range, [m[1] for m in avg_mag], ls='--', label='<ZI>')\n",
    "ax.legend()"
   ]
  },
  {
   "cell_type": "code",
   "execution_count": null,
   "id": "1c0643b2-e61a-42c3-be61-d8ca89f291ac",
   "metadata": {},
   "outputs": [],
   "source": []
  },
  {
   "cell_type": "code",
   "execution_count": 73,
   "id": "ac6386a2-e648-4c53-ac3a-66ce443e4c8d",
   "metadata": {},
   "outputs": [],
   "source": [
    "class QuantumBoltzmannMachine:\n",
    "    def __init__(self, graph: nx.Graph, visible_nodes: List[int], hidden_nodes: List[int]) -> None:\n",
    "        self.graph = graph\n",
    "        self.num_units = len(list(self.graph.nodes))\n",
    "        \n",
    "        # Check valid input\n",
    "        for i, j in zip(sorted(visible_nodes + hidden_nodes), range(self.num_units)):\n",
    "            if i != j:\n",
    "                raise ValueError(f\"The given visible: {visible_nodes} and hidden: {hidden_nodes} nodes are invalid for a BM with {self.num_units} nodes\")\n",
    "        if len(visible_nodes) + len(hidden_nodes) != self.num_units:\n",
    "            raise ValueError(f\"The given visible: {visible_nodes} and hidden: {hidden_nodes} nodes are invalid for a BM with {self.num_units} nodes\")\n",
    "        \n",
    "        self.visible_nodes = visible_nodes\n",
    "        self.hidden_nodes = hidden_nodes\n",
    "        \n",
    "        # Parameter initialization\n",
    "        self.single_params = np.array([np.random.uniform(low=-1.0, high=1.0) for _ in range(self.num_units)])\n",
    "        self.double_params = {edge: np.random.uniform(low=-1.0, high=1.0) for edge in self.graph.edges}\n",
    "\n",
    "    \n",
    "    def get_hamiltonian(self, clamped: bool = False) -> PauliSumOp:\n",
    "        pauli_list = []\n",
    "        \n",
    "        # single terms\n",
    "        for node, param in enumerate(self.single_params):\n",
    "            if clamped and node in self.visible_nodes:\n",
    "                continue\n",
    "            pauli = ['I'] * self.num_units\n",
    "            pauli[node] = 'Z'\n",
    "            pauli_list.append((''.join(reversed(pauli)), -1*param))\n",
    "        \n",
    "        # double terms\n",
    "        for edge in self.graph.edges():\n",
    "            if clamped and edge[0] in self.visible_nodes and edge[1] in self.visible_nodes:\n",
    "                continue\n",
    "            param = self.double_params[edge]\n",
    "            pauli = ['I'] * self.num_units\n",
    "            pauli[edge[0]] = 'Z'\n",
    "            pauli[edge[1]] = 'Z'\n",
    "            pauli_list.append((''.join(reversed(pauli)), -1*param))\n",
    "        \n",
    "        return PauliSumOp.from_list(pauli_list)\n",
    "\n",
    "\n",
    "    def get_thermal_state(H: PauliSumOp, beta: float) -> qiskit.quantum_info.DensityMatrix:\n",
    "        H = H.mul(-1 * beta) # returns -beta*H\n",
    "        exp_H = scipy.linalg.expm(H.to_matrix()) # returns e^H\n",
    "        partition_function = np.trace(exp_H)\n",
    "        return qiskit.quantum_info.DensityMatrix(exp_H / partition_function)\n",
    "\n",
    "\n",
    "    def exact_optimization(self, data_dist: dict, step_size: float = 0.1, cutoff: float = 1e-3,\n",
    "                           max_epoch: int = 100, verbose: int = 0, beta: float = 10.0) -> None:\n",
    "        cur_epoch = 1\n",
    "        progress = 100\n",
    "        while progress > cutoff and cur_epoch <= max_epoch:\n",
    "            # Get clamped and unclamped Hamiltonians\n",
    "            unclamped_hamiltonian = self.get_hamiltonian(clamped=False)\n",
    "            clamped_hamiltonian   = self.get_hamiltonian(clamped=True)\n",
    "            \n",
    "            # Get their respective low-temperature thermal states\n",
    "            unclamped_rho = self.get_thermal_state(unclamped_hamiltonian, beta)\n",
    "            clamped_rho = self.get_thermal_state(clamped_hamiltonian, beta)\n",
    "            \n",
    "            # Update parameters, Theta(n) -> Theta(n+1)\n",
    "            "
   ]
  },
  {
   "cell_type": "code",
   "execution_count": 74,
   "id": "6610f807-5088-4524-89db-eb8018471c48",
   "metadata": {},
   "outputs": [
    {
     "name": "stdout",
     "output_type": "stream",
     "text": [
      "[0, 1] [2]\n",
      "[-0.0370276  -0.98955041 -0.20774664]\n",
      "{(0, 1): -0.6836169242200705, (0, 2): -0.3662454894256406, (1, 2): 0.4125514383916917}\n",
      "0.20774664100873697 * ZII\n",
      "+ 0.3662454894256406 * ZIZ\n",
      "- 0.4125514383916917 * ZZI\n"
     ]
    },
    {
     "data": {
      "image/png": "[encoded data removed]",
      "text/plain": [
       "<Figure size 432x288 with 1 Axes>"
      ]
     },
     "metadata": {},
     "output_type": "display_data"
    }
   ],
   "source": [
    "#G = nx.generators.classic.complete_graph(7)\n",
    "G = nx.Graph()\n",
    "G.add_edges_from([(0,1), (0,2), (1,2)])#, (0,4), (0,5), (0,6),\n",
    "                  #(1,3), (1,4), (1,5), (1,6),\n",
    "                  #(2,3), (2,4), (2,5), (2,6),])\n",
    "nx.draw_spring(G, with_labels=True, node_color='gold')\n",
    "\n",
    "visible = [0,1]\n",
    "hidden = [2]\n",
    "bm = QuantumBoltzmannMachine(G, visible, hidden)\n",
    "print(bm.visible_nodes, bm.hidden_nodes)\n",
    "print(bm.single_params)\n",
    "print(bm.double_params)\n",
    "print(bm.get_hamiltonian(clamped=True))"
   ]
  },
  {
   "cell_type": "code",
   "execution_count": null,
   "id": "90102d8f-94fa-4526-89a8-05b8e4e7ade3",
   "metadata": {},
   "outputs": [],
   "source": []
  }
 ],
 "metadata": {
  "kernelspec": {
   "display_name": "Python 3 (ipykernel)",
   "language": "python",
   "name": "python3"
  },
  "language_info": {
   "codemirror_mode": {
    "name": "ipython",
    "version": 3
   },
   "file_extension": ".py",
   "mimetype": "text/x-python",
   "name": "python",
   "nbconvert_exporter": "python",
   "pygments_lexer": "ipython3",
   "version": "3.8.10"
  }
 },
 "nbformat": 4,
 "nbformat_minor": 5
}
