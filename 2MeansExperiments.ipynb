{
    "cells": [
        {
            "cell_type": "code",
            "execution_count": 227,
            "source": [
                "import numpy as np\n",
                "from numpy.random import shuffle\n",
                "import matplotlib.pyplot as plt\n",
                "import scipy.stats as stats\n",
                "\n",
                "def gen_gaussian_data(n1, n2, dim=2, dist=1, stddev=1.0):\n",
                "    # generate N random data vectors from two Gaussian clusters\n",
                "    data = []\n",
                "    # first cluster is always centered on [0, 0, 0, ...]\n",
                "    cluster1mean = np.zeros(dim)\n",
                "    for i in range(n1):\n",
                "        data.append(np.random.normal(cluster1mean, stddev, (dim)))\n",
                "\n",
                "    # second cluster is placed along the vector dist*[1, 1, 1, ...]\n",
                "    cluster2mean = np.zeros(dim) + dist\n",
                "    for i in range(n2):\n",
                "        data.append(np.random.normal(cluster2mean, stddev, (dim)))\n",
                "    return np.array(data), cluster1mean, cluster2mean\n",
                "\n",
                "\n",
                "def plot_data(data):\n",
                "    fig, ax = plt.subplots(figsize=[4,4])\n",
                "    ax.scatter(data[:,0], data[:,1])\n",
                "    ax.axvline(0, ls='--', c='grey')\n",
                "    ax.axhline(0, ls='--', c='grey')\n",
                "    plt.show()\n",
                "    plt.close()\n",
                "\n",
                "def plot_cluster(data, cluster0, cluster1):\n",
                "    cluster0 = np.array(cluster0)\n",
                "    cluster1 = np.array(cluster1)\n",
                "    fig, ax = plt.subplots(figsize=[4,4])\n",
                "    ax.scatter(cluster0[:,0], cluster0[:,1], c='r')\n",
                "    ax.scatter(cluster1[:,0], cluster1[:,1], c='b')\n",
                "    plt.show()\n",
                "    plt.close()"
            ],
            "outputs": [],
            "metadata": {}
        },
        {
            "cell_type": "code",
            "execution_count": 22,
            "source": [
                "from active_coresets.coreset_algorithms import bayesian_inference\n",
                "from active_coresets.classical_algorithms import RandomSampler, GIGACoreset\n",
                "from active_coresets.quantum_algorithms import ClassicalExponentialSampler, VQT, QAOA\n",
                "from active_coresets.data_structures import Coreset, Model\n",
                "\n",
                "from typing import List, Tuple"
            ],
            "outputs": [],
            "metadata": {}
        },
        {
            "cell_type": "code",
            "execution_count": 4,
            "source": [
                "num_data = 10\n",
                "data, c1, c2 = gen_gaussian_data(num_data, stddev=0.1)\n",
                "shuffle(data)\n",
                "plot_data(data)"
            ],
            "outputs": [
                {
                    "output_type": "display_data",
                    "data": {
                        "text/plain": [
                            "<Figure size 288x288 with 1 Axes>"
                        ],
                        "image/png": "[encoded data removed]"
                    },
                    "metadata": {
                        "needs_background": "light"
                    }
                }
            ],
            "metadata": {}
        },
        {
            "cell_type": "code",
            "execution_count": 5,
            "source": [
                "class ClusteringModel(Model):\n",
                "    def __init__(self, clusters: Tuple[List[np.ndarray], List[np.ndarray]]):\n",
                "        self.clusters = clusters\n",
                "        self.cluster0_center = np.average(clusters[0], axis=0) if len(clusters[0]) > 0 else [0.0, 0.0]\n",
                "        self.cluster1_center = np.average(clusters[1], axis=0) if len(clusters[1]) > 0 else [0.0, 0.0]\n",
                "    \n",
                "    def evaluate_on_coreset(self, coreset: Coreset) -> float:\n",
                "        total_dist = 0.0\n",
                "        for data, weight in coreset.coreset:\n",
                "            if any((data == x).all() for x in self.clusters[0]):\n",
                "                total_dist += weight * np.linalg.norm(data - self.cluster0_center)\n",
                "            else:\n",
                "                total_dist += weight * np.linalg.norm(data - self.cluster1_center)\n",
                "        return -total_dist\n",
                "    \n",
                "    def evaluate_on_point(self, data: np.ndarray) -> float:\n",
                "        if any((data == x).all() for x in self.clusters[0]):\n",
                "            return np.linalg.norm(data - self.cluster0_center)\n",
                "        else:\n",
                "            return np.linalg.norm(data - self.cluster1_center)\n",
                "        "
            ],
            "outputs": [],
            "metadata": {}
        },
        {
            "cell_type": "code",
            "execution_count": 41,
            "source": [
                "def cluster_loglikelihood(data: np.ndarray, models: List[ClusteringModel]) -> np.ndarray:\n",
                "    #TODO: maybe optimize this better\n",
                "    ll_vecs = np.zeros((data.shape[0], len(models)))\n",
                "    for i in range(data.shape[0]):\n",
                "        for j in range(len(models)):\n",
                "            ll_vecs[i][j] = models[j].evaluate_on_point(data[i])\n",
                "    return ll_vecs\n"
            ],
            "outputs": [],
            "metadata": {}
        },
        {
            "cell_type": "code",
            "execution_count": 69,
            "source": [
                "def cluster_from_bitstring(bitstring: str) -> Model:\n",
                "    cluster0 = []\n",
                "    cluster1 = []\n",
                "    for i in range(len(bitstring)):\n",
                "        if bitstring[i] == '0':\n",
                "            cluster0.append(data[num_data - 1 - i])\n",
                "        else:\n",
                "            cluster1.append(data[num_data - 1 - i])\n",
                "    return ClusteringModel((cluster0, cluster1))"
            ],
            "outputs": [],
            "metadata": {}
        },
        {
            "cell_type": "code",
            "execution_count": 7,
            "source": [
                "Y = []\n",
                "for model_bitstring in range(2**(num_data)):\n",
                "    cluster0 = []\n",
                "    cluster1 = []\n",
                "    for i in range(num_data):\n",
                "        if (model_bitstring >> i) & 0x1 == 0:\n",
                "            cluster0.append(data[i])\n",
                "        else:\n",
                "            cluster1.append(data[i])\n",
                "    Y.append(ClusteringModel((cluster0, cluster1)))"
            ],
            "outputs": [],
            "metadata": {}
        },
        {
            "cell_type": "code",
            "execution_count": 12,
            "source": [
                "A = RandomSampler()\n",
                "B = VQT(0)\n",
                "\n",
                "final_model, coreset = bayesian_inference(list(data), cluster_from_bitstring, num_data, 6, A, B)"
            ],
            "outputs": [
                {
                    "output_type": "stream",
                    "name": "stdout",
                    "text": [
                        "{(1, 1): -0.3366721855635702}\n",
                        "[(-0.3366721855635702, ['Z', 'Z'])]\n",
                        "Cost at step 0: -0.7139004095037876\n",
                        "Cost at step 20: -0.769066419860976\n",
                        "Cost at step 40: -1.0990302867858261\n",
                        "Cost at step 60: -1.2580070503901128\n",
                        "Cost at step 80: -1.320955380069423\n",
                        "Cost at step 100: -1.3737046327736138\n",
                        "Cost at step 120: -1.3719616959894598\n",
                        "Cost at step 140: -1.3788871932833349\n",
                        "Cost at step 160: -1.384358774343312\n",
                        "Cost at step 180: -1.3853545857252763\n",
                        "Cost at step 200: -1.3862032120793675\n",
                        "Cost at step 220: -1.3862878019943854\n",
                        "Cost at step 240: -1.3862931696521743\n",
                        "Cost at step 260: -1.3862940710289906\n",
                        "Cost at step 280: -1.3862943158406746\n",
                        "Cost at step 300: -1.386294338861481\n",
                        "Cost at step 320: -1.3862943560641638\n",
                        "Cost at step 340: -1.3862943602041824\n",
                        "Cost at step 360: -1.3862943599915516\n",
                        "Cost at step 380: -1.3862943608934915\n",
                        " final_simplex: (array([[5.08645631, 4.39423781, 0.79899351, 4.73173185, 2.79506144,\n",
                        "        0.27555624, 3.24397053, 0.69314825, 0.69315217],\n",
                        "       [5.08646961, 4.39430011, 0.79899823, 4.73172354, 2.79509161,\n",
                        "        0.27555558, 3.2439633 , 0.69314202, 0.69314828],\n",
                        "       [5.08645183, 4.39421287, 0.79899107, 4.73172162, 2.79499347,\n",
                        "        0.27555756, 3.24399051, 0.69315171, 0.69314205],\n",
                        "       [5.08645369, 4.39423898, 0.79899713, 4.73173891, 2.79505818,\n",
                        "        0.27555507, 3.24396465, 0.69314821, 0.69313873],\n",
                        "       [5.08646993, 4.39429359, 0.79900107, 4.7317353 , 2.79507686,\n",
                        "        0.2755571 , 3.24396258, 0.69313973, 0.69314076],\n",
                        "       [5.08646367, 4.39422453, 0.79899367, 4.7317367 , 2.79501227,\n",
                        "        0.27555686, 3.24397862, 0.69314778, 0.69315704],\n",
                        "       [5.08647221, 4.3942511 , 0.79899451, 4.73173063, 2.79507727,\n",
                        "        0.27555392, 3.24396815, 0.69314795, 0.69313669],\n",
                        "       [5.08643459, 4.39418371, 0.79898476, 4.73172445, 2.79497066,\n",
                        "        0.27555682, 3.24399749, 0.69315772, 0.69314792],\n",
                        "       [5.08647212, 4.39430573, 0.79899828, 4.73170767, 2.79508657,\n",
                        "        0.27555592, 3.24396481, 0.69314113, 0.69315634],\n",
                        "       [5.08640481, 4.39427751, 0.79899018, 4.73171959, 2.79511782,\n",
                        "        0.27555619, 3.24396808, 0.69315028, 0.69313565]]), array([-1.38629436, -1.38629436, -1.38629436, -1.38629436, -1.38629436,\n",
                        "       -1.38629436, -1.38629436, -1.38629436, -1.38629436, -1.38629436]))\n",
                        "           fun: -1.3862943611068728\n",
                        "       message: 'Optimization terminated successfully.'\n",
                        "          nfev: 388\n",
                        "           nit: 224\n",
                        "        status: 0\n",
                        "       success: True\n",
                        "             x: array([5.08645631, 4.39423781, 0.79899351, 4.73173185, 2.79506144,\n",
                        "       0.27555624, 3.24397053, 0.69314825, 0.69315217])\n"
                    ]
                },
                {
                    "output_type": "display_data",
                    "data": {
                        "text/plain": [
                            "<Figure size 288x288 with 2 Axes>"
                        ],
                        "image/png": "[encoded data removed]"
                    },
                    "metadata": {
                        "needs_background": "light"
                    }
                },
                {
                    "output_type": "stream",
                    "name": "stdout",
                    "text": [
                        "Final Entropy: 1.3862943611068728\n",
                        "Final Expectation Value: -4.7062203160919136e-07\n",
                        "Final Cost: -1.3862943611068728\n",
                        "10\n",
                        "1100101100\n",
                        "{(0, 1, 1): 4.342177144365026, (1, 0, 1): -0.2984618105755552, (1, 1, 0): -0.3366721855635702}\n",
                        "[(-0.3366721855635702, ['Z', 'Z', 'I']), (-0.2984618105755552, ['Z', 'I', 'Z']), (4.342177144365026, ['I', 'Z', 'Z'])]\n",
                        "Cost at step 0: -0.6752018179546154\n",
                        "Cost at step 20: -0.6931570015460853\n",
                        "Cost at step 40: -0.7819841644487979\n",
                        "Cost at step 60: -1.2820817634941173\n",
                        "Cost at step 80: -1.2640854752802742\n",
                        "Cost at step 100: -1.3510574590699518\n",
                        "Cost at step 120: -1.343662412312586\n",
                        "Cost at step 140: -1.3712191808268055\n",
                        "Cost at step 160: -1.4274909873493968\n",
                        "Cost at step 180: -1.6312133214389184\n",
                        "Cost at step 200: -1.640013244785616\n",
                        "Cost at step 220: -1.9463154088528651\n",
                        "Cost at step 240: -1.994000107534774\n",
                        "Cost at step 260: -2.0399680998329406\n",
                        "Cost at step 280: -2.058589717957031\n",
                        "Cost at step 300: -2.057127833749624\n",
                        "Cost at step 320: -2.0608396335701507\n",
                        "Cost at step 340: -2.0620097317252557\n",
                        "Cost at step 360: -2.061614205636568\n",
                        "Cost at step 380: -2.064621464147325\n",
                        "Cost at step 400: -2.0707272972065818\n",
                        "Cost at step 420: -2.074644789890286\n",
                        "Cost at step 440: -2.0763993351790226\n",
                        "Cost at step 460: -2.079229957291311\n",
                        "Cost at step 480: -2.0793855844504305\n",
                        "Cost at step 500: -2.0793415696681645\n",
                        "Cost at step 520: -2.07941328690665\n",
                        "Cost at step 540: -2.079439497124202\n",
                        "Cost at step 560: -2.0794392244955304\n",
                        "Cost at step 580: -2.0794404929523633\n",
                        "Cost at step 600: -2.0794414870226734\n",
                        "Cost at step 620: -2.0794415220680573\n",
                        "Cost at step 640: -2.079441504187913\n",
                        "Cost at step 660: -2.07944152834228\n",
                        "Cost at step 680: -2.079441536710416\n",
                        "Cost at step 700: -2.079441540399898\n",
                        "Cost at step 720: -2.0794415413143663\n",
                        "Cost at step 740: -2.079441541548185\n",
                        "Cost at step 760: -2.0794415416388\n",
                        " final_simplex: (array([[0.61238518, 1.39323138, 8.36709699, 3.70991101, 4.27266967,\n",
                        "        1.55628443, 2.46011549, 0.25619845, 2.10677891, 0.69314967,\n",
                        "        0.69314587, 0.69314749],\n",
                        "       [0.61238601, 1.39323591, 8.36702371, 3.70995206, 4.27270617,\n",
                        "        1.55627608, 2.46014764, 0.25620005, 2.10680844, 0.69314474,\n",
                        "        0.69314825, 0.69314834],\n",
                        "       [0.61238502, 1.39323479, 8.36703896, 3.70993388, 4.27268947,\n",
                        "        1.55627886, 2.46014201, 0.25619965, 2.10679735, 0.6931466 ,\n",
                        "        0.69315013, 0.69314668],\n",
                        "       [0.61238518, 1.39322986, 8.36710024, 3.70990532, 4.27267455,\n",
                        "        1.55628556, 2.46011479, 0.25619786, 2.1067779 , 0.69314966,\n",
                        "        0.69314799, 0.69314881],\n",
                        "       [0.61238574, 1.39323488, 8.36704133, 3.70993615, 4.27269292,\n",
                        "        1.55627881, 2.46014027, 0.25619952, 2.10680039, 0.69314627,\n",
                        "        0.69315   , 0.69314531],\n",
                        "       [0.61238538, 1.39323644, 8.36703081, 3.70993765, 4.27269046,\n",
                        "        1.55627804, 2.4601466 , 0.25620009, 2.10680066, 0.69314595,\n",
                        "        0.69314375, 0.69314734],\n",
                        "       [0.61238562, 1.39322837, 8.3671239 , 3.70989895, 4.2726619 ,\n",
                        "        1.55628806, 2.46010658, 0.2561972 , 2.10677278, 0.69315048,\n",
                        "        0.69314543, 0.69314753],\n",
                        "       [0.61238595, 1.39323375, 8.36705054, 3.70993743, 4.27270029,\n",
                        "        1.55627856, 2.46013516, 0.25619932, 2.10680101, 0.69314627,\n",
                        "        0.6931495 , 0.69315047],\n",
                        "       [0.61238526, 1.39323243, 8.36707678, 3.7099275 , 4.27268051,\n",
                        "        1.55628128, 2.46012506, 0.25619902, 2.10678602, 0.69314849,\n",
                        "        0.69314353, 0.69314559],\n",
                        "       [0.61238681, 1.39323639, 8.36701277, 3.70995412, 4.27270208,\n",
                        "        1.5562763 , 2.46015822, 0.25619962, 2.10681746, 0.69314344,\n",
                        "        0.69314485, 0.69314709],\n",
                        "       [0.61238643, 1.39323652, 8.36701874, 3.70995129, 4.27271146,\n",
                        "        1.5562777 , 2.46014772, 0.25619949, 2.10680276, 0.69314437,\n",
                        "        0.69314863, 0.69314335],\n",
                        "       [0.61238551, 1.39323433, 8.36704232, 3.70994478, 4.2727013 ,\n",
                        "        1.55627709, 2.46013858, 0.25619994, 2.10680212, 0.69314599,\n",
                        "        0.69314873, 0.6931521 ],\n",
                        "       [0.61238568, 1.39323106, 8.36707894, 3.70992202, 4.27269074,\n",
                        "        1.55628346, 2.46012512, 0.25619824, 2.10678385, 0.69314765,\n",
                        "        0.69314281, 0.6931506 ]]), array([-2.07944154, -2.07944154, -2.07944154, -2.07944154, -2.07944154,\n",
                        "       -2.07944154, -2.07944154, -2.07944154, -2.07944154, -2.07944154,\n",
                        "       -2.07944154, -2.07944154, -2.07944154]))\n",
                        "           fun: -2.079441541675818\n",
                        "       message: 'Optimization terminated successfully.'\n",
                        "          nfev: 774\n",
                        "           nit: 490\n",
                        "        status: 0\n",
                        "       success: True\n",
                        "             x: array([0.61238518, 1.39323138, 8.36709699, 3.70991101, 4.27266967,\n",
                        "       1.55628443, 2.46011549, 0.25619845, 2.10677891, 0.69314967,\n",
                        "       0.69314587, 0.69314749])\n"
                    ]
                },
                {
                    "output_type": "display_data",
                    "data": {
                        "text/plain": [
                            "<Figure size 288x288 with 2 Axes>"
                        ],
                        "image/png": "[encoded data removed]"
                    },
                    "metadata": {
                        "needs_background": "light"
                    }
                },
                {
                    "output_type": "stream",
                    "name": "stdout",
                    "text": [
                        "Final Entropy: 2.079441541675818\n",
                        "Final Expectation Value: -6.677084380957155e-07\n",
                        "Final Cost: -2.079441541675818\n",
                        "110\n",
                        "1100101100\n",
                        "{(0, 0, 1, 1): 3.889078604799108, (0, 1, 1, 0): 4.342177144365026, (0, 1, 0, 1): 3.7831881402545156, (1, 0, 1, 0): -0.2984618105755552, (1, 0, 0, 1): -0.3041295564224072, (1, 1, 0, 0): -0.3366721855635702}\n",
                        "[(-0.3366721855635702, ['Z', 'Z', 'I', 'I']), (-0.2984618105755552, ['Z', 'I', 'Z', 'I']), (-0.3041295564224072, ['Z', 'I', 'I', 'Z']), (4.342177144365026, ['I', 'Z', 'Z', 'I']), (3.7831881402545156, ['I', 'Z', 'I', 'Z']), (3.889078604799108, ['I', 'I', 'Z', 'Z'])]\n",
                        "Cost at step 0: -1.4115753249410337\n",
                        "Cost at step 20: -1.4224420865819272\n",
                        "Cost at step 40: -1.4447086542923517\n",
                        "Cost at step 60: -1.4863202212130133\n",
                        "Cost at step 80: -1.5222433518287906\n",
                        "Cost at step 100: -1.552154941676325\n",
                        "Cost at step 120: -1.5785873852952381\n",
                        "Cost at step 140: -1.720200097759644\n",
                        "Cost at step 160: -2.130902074913723\n",
                        "Cost at step 180: -2.2621229487454935\n",
                        "Cost at step 200: -2.2928978833643803\n",
                        "Cost at step 220: -2.458054358009689\n",
                        "Cost at step 240: -2.5585964652559556\n",
                        "Cost at step 260: -2.6521110292402663\n",
                        "Cost at step 280: -2.624261379180896\n",
                        "Cost at step 300: -2.7319550319209718\n",
                        "Cost at step 320: -2.735029501333522\n",
                        "Cost at step 340: -2.7296527161730664\n",
                        "Cost at step 360: -2.7324183160293414\n",
                        "Cost at step 380: -2.7501414883986017\n",
                        "Cost at step 400: -2.7605971466578003\n",
                        "Cost at step 420: -2.76381374511723\n",
                        "Cost at step 440: -2.770251939605273\n",
                        "Cost at step 460: -2.768802641637591\n",
                        "Cost at step 480: -2.772195947880733\n",
                        "Cost at step 500: -2.7713818274714184\n",
                        "Cost at step 520: -2.7720330155912984\n",
                        "Cost at step 540: -2.772301983349104\n",
                        "Cost at step 560: -2.7725136435674305\n",
                        "Cost at step 580: -2.772531017250178\n",
                        "Cost at step 600: -2.772562822583928\n",
                        "Cost at step 620: -2.7725870205150436\n",
                        "Cost at step 640: -2.77258350916933\n",
                        "Cost at step 660: -2.7725862543062347\n",
                        "Cost at step 680: -2.7725885526754444\n",
                        "Cost at step 700: -2.7725883123484403\n",
                        "Cost at step 720: -2.7725885786037585\n",
                        " final_simplex: (array([[2.73193185, 0.16529487, 1.51567067, 0.53522285, 7.0718997 ,\n",
                        "        4.68922693, 8.8399247 , 5.03462687, 4.87275463, 3.4991248 ,\n",
                        "        5.80346333, 9.89677064, 0.69312182, 0.69325643, 0.69325746,\n",
                        "        0.6930575 ],\n",
                        "       [2.7317384 , 0.16531833, 1.51569567, 0.53527476, 7.07180511,\n",
                        "        4.68956991, 8.83930237, 5.03445987, 4.87241926, 3.49929496,\n",
                        "        5.80312934, 9.89685232, 0.69306795, 0.6929788 , 0.69319561,\n",
                        "        0.69314254],\n",
                        "       [2.73180372, 0.16529446, 1.51572245, 0.53525402, 7.07145333,\n",
                        "        4.6898717 , 8.83919053, 5.03559689, 4.87283275, 3.4993183 ,\n",
                        "        5.80256322, 9.89684686, 0.69297912, 0.69306582, 0.69322693,\n",
                        "        0.69314678],\n",
                        "       [2.73228118, 0.16528656, 1.51565238, 0.53517025, 7.0722889 ,\n",
                        "        4.6879151 , 8.84063082, 5.03398202, 4.8725283 , 3.49884049,\n",
                        "        5.80495197, 9.89618237, 0.69329838, 0.69316902, 0.69300951,\n",
                        "        0.6931329 ],\n",
                        "       [2.73233172, 0.16527982, 1.51561806, 0.53520094, 7.07244955,\n",
                        "        4.68811606, 8.84042876, 5.03364862, 4.87243723, 3.49884158,\n",
                        "        5.80470618, 9.89617959, 0.69331527, 0.69322336, 0.69324324,\n",
                        "        0.69313103],\n",
                        "       [2.73187724, 0.16528178, 1.51566209, 0.53523575, 7.07205628,\n",
                        "        4.68880654, 8.83993825, 5.0342828 , 4.87268695, 3.49907752,\n",
                        "        5.80382989, 9.89666545, 0.69316659, 0.69296413, 0.69323418,\n",
                        "        0.6931984 ],\n",
                        "       [2.73175553, 0.16528075, 1.51564909, 0.53521994, 7.07215674,\n",
                        "        4.68867547, 8.83962018, 5.03478978, 4.87290508, 3.49898619,\n",
                        "        5.80361637, 9.89685918, 0.6931338 , 0.69300034, 0.6932523 ,\n",
                        "        0.69329278],\n",
                        "       [2.73216169, 0.16529169, 1.51571204, 0.53521147, 7.07167943,\n",
                        "        4.68919776, 8.84008912, 5.03487125, 4.87283121, 3.49908381,\n",
                        "        5.80368545, 9.89671313, 0.69314273, 0.69320969, 0.69320809,\n",
                        "        0.69290966],\n",
                        "       [2.73185304, 0.1652872 , 1.51564768, 0.5352389 , 7.07203112,\n",
                        "        4.68879525, 8.83939458, 5.03456713, 4.87264626, 3.49907281,\n",
                        "        5.80357266, 9.89664637, 0.69313336, 0.69304756, 0.69328574,\n",
                        "        0.69333395],\n",
                        "       [2.73165767, 0.16529791, 1.51571463, 0.53528965, 7.07149962,\n",
                        "        4.68926329, 8.83922385, 5.03449048, 4.87252634, 3.49922773,\n",
                        "        5.80319484, 9.89675135, 0.69309137, 0.69323455, 0.69298018,\n",
                        "        0.69331852],\n",
                        "       [2.73182537, 0.16529529, 1.51572669, 0.5352577 , 7.07111213,\n",
                        "        4.68970911, 8.83918906, 5.03536421, 4.87299508, 3.49931915,\n",
                        "        5.80270523, 9.89671834, 0.69302069, 0.69336245, 0.6932234 ,\n",
                        "        0.69317043],\n",
                        "       [2.7319937 , 0.16530619, 1.51562944, 0.5351937 , 7.07246874,\n",
                        "        4.68871914, 8.83988715, 5.03401076, 4.87243338, 3.49876122,\n",
                        "        5.8042517 , 9.89642093, 0.69317816, 0.69326575, 0.69294484,\n",
                        "        0.69327184],\n",
                        "       [2.73161645, 0.16530167, 1.51568165, 0.53522877, 7.07205178,\n",
                        "        4.68882541, 8.83954644, 5.03458725, 4.87240819, 3.49901064,\n",
                        "        5.80357099, 9.89713301, 0.69312878, 0.69299874, 0.69302579,\n",
                        "        0.69334061],\n",
                        "       [2.73226492, 0.16528244, 1.51555778, 0.535133  , 7.07330361,\n",
                        "        4.68716726, 8.84121807, 5.03317422, 4.87243789, 3.49853902,\n",
                        "        5.80593194, 9.89612158, 0.69343366, 0.69305237, 0.69308251,\n",
                        "        0.69313273],\n",
                        "       [2.73187373, 0.16529891, 1.51573026, 0.53524157, 7.07139818,\n",
                        "        4.6898512 , 8.83997269, 5.03527907, 4.87318657, 3.49907638,\n",
                        "        5.80294372, 9.89688495, 0.69301926, 0.69323396, 0.6931402 ,\n",
                        "        0.69287621],\n",
                        "       [2.73153843, 0.16533881, 1.51576656, 0.5352832 , 7.07123836,\n",
                        "        4.69040797, 8.83920981, 5.03525589, 4.87274545, 3.49924316,\n",
                        "        5.80207158, 9.89711991, 0.69290083, 0.69327484, 0.69296167,\n",
                        "        0.69308165],\n",
                        "       [2.73168607, 0.16529902, 1.51574968, 0.53522955, 7.0713268 ,\n",
                        "        4.69000724, 8.83936072, 5.03572364, 4.87274541, 3.49935191,\n",
                        "        5.80289458, 9.89738892, 0.69294754, 0.69297055, 0.69292573,\n",
                        "        0.69305914]]), array([-2.77258871, -2.7725887 , -2.7725887 , -2.7725887 , -2.7725887 ,\n",
                        "       -2.7725887 , -2.7725887 , -2.77258869, -2.77258869, -2.77258869,\n",
                        "       -2.77258869, -2.77258869, -2.77258868, -2.77258867, -2.77258867,\n",
                        "       -2.77258866, -2.77258866]))\n",
                        "           fun: -2.7725887058491567\n",
                        "       message: 'Maximum number of iterations has been exceeded.'\n",
                        "          nfev: 740\n",
                        "           nit: 500\n",
                        "        status: 2\n",
                        "       success: False\n",
                        "             x: array([2.73193185, 0.16529487, 1.51567067, 0.53522285, 7.0718997 ,\n",
                        "       4.68922693, 8.8399247 , 5.03462687, 4.87275463, 3.4991248 ,\n",
                        "       5.80346333, 9.89677064, 0.69312182, 0.69325643, 0.69325746,\n",
                        "       0.6930575 ])\n"
                    ]
                },
                {
                    "output_type": "display_data",
                    "data": {
                        "text/plain": [
                            "<Figure size 288x288 with 2 Axes>"
                        ],
                        "image/png": "[encoded data removed]"
                    },
                    "metadata": {
                        "needs_background": "light"
                    }
                },
                {
                    "output_type": "stream",
                    "name": "stdout",
                    "text": [
                        "Final Entropy: 2.7725887058491567\n",
                        "Final Expectation Value: 0.00021783878205783314\n",
                        "Final Cost: -2.7725887058491567\n",
                        "0011\n",
                        "0011010011\n",
                        "{(0, 0, 1, 1, 0): 3.889078604799108, (0, 1, 1, 0, 0): 4.342177144365026, (1, 0, 0, 0, 1): 0.021500084000107132, (0, 1, 0, 1, 0): 3.7831881402545156, (1, 0, 1, 0, 0): -0.2984618105755552, (0, 0, 1, 0, 1): -0.1785529009998023, (1, 0, 0, 1, 0): -0.3041295564224072, (0, 0, 0, 1, 1): -0.15934861518288904, (1, 1, 0, 0, 0): -0.3366721855635702, (0, 1, 0, 0, 1): -0.17761273011560744}\n",
                        "[(-0.3366721855635702, ['Z', 'Z', 'I', 'I', 'I']), (-0.2984618105755552, ['Z', 'I', 'Z', 'I', 'I']), (-0.3041295564224072, ['Z', 'I', 'I', 'Z', 'I']), (0.021500084000107132, ['Z', 'I', 'I', 'I', 'Z']), (4.342177144365026, ['I', 'Z', 'Z', 'I', 'I']), (3.7831881402545156, ['I', 'Z', 'I', 'Z', 'I']), (-0.17761273011560744, ['I', 'Z', 'I', 'I', 'Z']), (3.889078604799108, ['I', 'I', 'Z', 'Z', 'I']), (-0.1785529009998023, ['I', 'I', 'Z', 'I', 'Z']), (-0.15934861518288904, ['I', 'I', 'I', 'Z', 'Z'])]\n",
                        "Cost at step 0: -1.327791473531638\n",
                        "Cost at step 20: -1.3132799644935917\n",
                        "Cost at step 40: -1.3644024063324693\n",
                        "Cost at step 60: -1.4146254205087097\n",
                        "Cost at step 80: -1.483435460982439\n",
                        "Cost at step 100: -1.5774332156605004\n",
                        "Cost at step 120: -1.723638253105449\n",
                        "Cost at step 140: -1.8619225789054876\n",
                        "Cost at step 160: -1.8543228989196452\n",
                        "Cost at step 180: -1.8711305331145869\n",
                        "Cost at step 200: -1.9735359705987414\n",
                        "Cost at step 220: -2.038996190855976\n",
                        "Cost at step 240: -2.1434209450040833\n",
                        "Cost at step 260: -2.2787919922162194\n",
                        "Cost at step 280: -2.4678641533216354\n",
                        "Cost at step 300: -2.4880397473348568\n",
                        "Cost at step 320: -2.599025206445059\n",
                        "Cost at step 340: -2.6907001022034644\n",
                        "Cost at step 360: -2.7670763440177915\n",
                        "Cost at step 380: -2.7029433060489945\n",
                        "Cost at step 400: -2.8268115086288037\n",
                        "Cost at step 420: -2.8876377525323296\n",
                        "Cost at step 440: -2.8455320482828212\n",
                        "Cost at step 460: -2.912732205454531\n",
                        "Cost at step 480: -2.9291265632138055\n",
                        "Cost at step 500: -3.018506016596856\n",
                        "Cost at step 520: -3.1301469967327797\n",
                        "Cost at step 540: -3.3121198898780446\n",
                        "Cost at step 560: -3.4439822496629278\n",
                        "Cost at step 580: -3.3961610611485993\n",
                        "Cost at step 600: -3.398503311027242\n",
                        "Cost at step 620: -3.43385227441376\n",
                        " final_simplex: (array([[ 3.11599997,  2.9192766 ,  1.48514935,  2.79249256,  5.2307586 ,\n",
                        "         7.57205918,  4.6854658 ,  2.60209498, 10.28304109,  1.38433743,\n",
                        "         3.06861561,  1.18322615,  5.34679721,  2.00449826,  0.40222861,\n",
                        "         3.89291586,  0.68581982,  0.77883976,  0.69042244,  0.65128691,\n",
                        "         0.77234023],\n",
                        "       [ 3.0741418 ,  3.0267203 ,  1.47259243,  2.75004913,  5.27240709,\n",
                        "         7.39525365,  4.75866169,  2.61202129, 10.18846379,  1.37501806,\n",
                        "         3.13603477,  1.20017115,  5.34088557,  2.04452921,  0.39544068,\n",
                        "         3.86688639,  0.70352746,  0.69802796,  0.60166539,  0.69198669,\n",
                        "         0.77193889],\n",
                        "       [ 3.08512665,  3.22302848,  1.44796275,  2.62710852,  5.24623014,\n",
                        "         7.36553251,  4.87214871,  2.6084585 , 10.32838568,  1.37907552,\n",
                        "         3.06428847,  1.17883928,  5.31800167,  2.11942411,  0.39516829,\n",
                        "         3.93630241,  0.67210682,  0.67442213,  0.58132013,  0.65633629,\n",
                        "         0.70793958],\n",
                        "       [ 3.15740314,  3.62263685,  1.37635649,  2.46880727,  5.29420504,\n",
                        "         7.13679191,  4.90231836,  2.61478426, 10.20313519,  1.36748391,\n",
                        "         2.97512216,  1.19502521,  5.46448742,  2.22979043,  0.39651579,\n",
                        "         3.94086187,  0.63801176,  0.61063447,  0.74023449,  0.630435  ,\n",
                        "         0.74643566],\n",
                        "       [ 3.15975123,  3.28986558,  1.45924359,  2.62035537,  5.3520304 ,\n",
                        "         7.37032016,  4.75853488,  2.62774878, 10.22725704,  1.38044061,\n",
                        "         3.04740495,  1.19031107,  5.26690767,  2.10689848,  0.39437786,\n",
                        "         3.89624228,  0.68756576,  0.68900673,  0.58266948,  0.64038819,\n",
                        "         0.76325987],\n",
                        "       [ 3.13879019,  3.48139127,  1.33756076,  2.60037968,  5.27049026,\n",
                        "         7.31255133,  4.8663438 ,  2.60171178, 10.13475489,  1.379185  ,\n",
                        "         2.9535116 ,  1.17588988,  5.51389709,  2.20764582,  0.39842688,\n",
                        "         3.947087  ,  0.67759944,  0.72554541,  0.84769588,  0.62972146,\n",
                        "         0.6909874 ],\n",
                        "       [ 3.13425251,  3.49304717,  1.35684365,  2.60098636,  5.26074469,\n",
                        "         7.28090408,  4.8179227 ,  2.59596759, 10.12748497,  1.37955568,\n",
                        "         2.94869238,  1.18096942,  5.47921035,  2.19261197,  0.39836144,\n",
                        "         3.95390156,  0.71780339,  0.71915606,  0.861648  ,  0.63174886,\n",
                        "         0.69667215],\n",
                        "       [ 3.12829549,  3.45659148,  1.3701811 ,  2.71113061,  5.28780592,\n",
                        "         7.36142977,  4.80411129,  2.61182827, 10.15156008,  1.37591311,\n",
                        "         2.96688612,  1.17630567,  5.45990462,  2.16143133,  0.39477807,\n",
                        "         3.95302313,  0.78060197,  0.67212343,  0.82988977,  0.62014761,\n",
                        "         0.65239769],\n",
                        "       [ 3.15007902,  3.39108654,  1.39222302,  2.59254071,  5.27541505,\n",
                        "         7.47462321,  4.80203007,  2.61430592, 10.23608983,  1.39547877,\n",
                        "         2.97387507,  1.18429061,  5.46709522,  2.16458657,  0.39120862,\n",
                        "         3.98176337,  0.63158909,  0.75952478,  0.58471129,  0.61412307,\n",
                        "         0.60097665],\n",
                        "       [ 3.14136249,  3.20799268,  1.47740017,  2.55880707,  5.29415428,\n",
                        "         7.47423858,  4.68669444,  2.62403524, 10.34034087,  1.39848768,\n",
                        "         3.03294571,  1.19364697,  5.39876431,  2.08521078,  0.39935839,\n",
                        "         3.90380635,  0.63316496,  0.64306016,  0.5349018 ,  0.64732308,\n",
                        "         0.71709032],\n",
                        "       [ 3.12967441,  3.41196863,  1.39600074,  2.63087643,  5.28288521,\n",
                        "         7.46861919,  4.794716  ,  2.61402692, 10.30685028,  1.39788754,\n",
                        "         2.9648237 ,  1.16806605,  5.4349959 ,  2.15740234,  0.39581671,\n",
                        "         3.9479304 ,  0.70119272,  0.75809058,  0.58795453,  0.60648506,\n",
                        "         0.57307728],\n",
                        "       [ 3.12015552,  3.30139738,  1.36735305,  2.58444542,  5.27213786,\n",
                        "         7.54517489,  4.83136171,  2.61596276, 10.3279718 ,  1.39512947,\n",
                        "         3.01957493,  1.15473538,  5.50771284,  2.1728573 ,  0.39543799,\n",
                        "         3.97100252,  0.6456738 ,  0.72778712,  0.60596327,  0.62935882,\n",
                        "         0.5469581 ],\n",
                        "       [ 3.10128208,  3.52511524,  1.32708282,  2.65082888,  5.22320253,\n",
                        "         7.39639965,  4.84364001,  2.57964839, 10.23668512,  1.40494437,\n",
                        "         2.88536999,  1.17919394,  5.50612577,  2.22203624,  0.40120178,\n",
                        "         3.95109711,  0.6975361 ,  0.7506115 ,  0.82105071,  0.62743098,\n",
                        "         0.55714078],\n",
                        "       [ 3.1299319 ,  3.46779593,  1.32082059,  2.47613848,  5.25015231,\n",
                        "         7.38971715,  4.84266343,  2.58583973, 10.2027257 ,  1.39844619,\n",
                        "         2.936657  ,  1.17518822,  5.6245913 ,  2.23148523,  0.39909316,\n",
                        "         3.98125627,  0.6093504 ,  0.7223858 ,  0.87817667,  0.63452449,\n",
                        "         0.63000392],\n",
                        "       [ 3.16048761,  3.47979571,  1.38532238,  2.55949561,  5.30187876,\n",
                        "         7.32375546,  4.84965104,  2.62127108, 10.17189741,  1.38526883,\n",
                        "         2.96947751,  1.17795452,  5.40728671,  2.19107033,  0.39280717,\n",
                        "         3.91475814,  0.62611317,  0.87202793,  0.6472794 ,  0.59630222,\n",
                        "         0.64379416],\n",
                        "       [ 3.1583274 ,  3.49351683,  1.35119366,  2.58628038,  5.29142195,\n",
                        "         7.35315653,  4.79315335,  2.60792715, 10.08544028,  1.38359468,\n",
                        "         2.94588937,  1.17362609,  5.5686153 ,  2.1765769 ,  0.39567968,\n",
                        "         3.91667725,  0.71599734,  0.67705861,  0.91744784,  0.62146604,\n",
                        "         0.67443508],\n",
                        "       [ 3.05145152,  3.3310914 ,  1.38362948,  2.74357249,  5.19383819,\n",
                        "         7.09433856,  4.96693177,  2.58390397, 10.5844097 ,  1.3453527 ,\n",
                        "         3.02230657,  1.23003993,  5.24277008,  2.17066842,  0.39664379,\n",
                        "         3.93006188,  0.79241178,  0.63973355,  0.52707803,  0.69029154,\n",
                        "         0.76594776],\n",
                        "       [ 3.07127343,  3.32103211,  1.35703426,  2.74849575,  5.19857071,\n",
                        "         7.45521459,  4.8232638 ,  2.58217817, 10.31044852,  1.40120265,\n",
                        "         2.96537197,  1.16217367,  5.51423156,  2.17137532,  0.39668987,\n",
                        "         3.94687953,  0.81844816,  0.6544099 ,  0.82228973,  0.63986361,\n",
                        "         0.57011672],\n",
                        "       [ 3.14910564,  3.58521906,  1.31611603,  2.44842512,  5.26900755,\n",
                        "         7.36889834,  4.83154781,  2.59701075, 10.22095221,  1.40635041,\n",
                        "         2.91221295,  1.17423859,  5.60054266,  2.24041668,  0.40000508,\n",
                        "         3.98508874,  0.63633058,  0.70260276,  0.87176809,  0.61090647,\n",
                        "         0.58569777],\n",
                        "       [ 3.12256397,  3.35284295,  1.47439069,  2.79324866,  5.27922349,\n",
                        "         7.18081926,  4.73856467,  2.62526261, 10.13282903,  1.35037718,\n",
                        "         3.04531598,  1.19802229,  5.23736348,  2.07107754,  0.39606178,\n",
                        "         3.87598273,  0.87880504,  0.62813521,  0.72485465,  0.65168966,\n",
                        "         0.84304426],\n",
                        "       [ 3.16646785,  3.36310251,  1.42154056,  2.67422521,  5.28827996,\n",
                        "         7.16875048,  4.82915734,  2.61621986, 10.00759962,  1.34939863,\n",
                        "         3.03756372,  1.18512787,  5.2983217 ,  2.15525262,  0.39519763,\n",
                        "         3.89233491,  0.59052284,  0.88400517,  0.70484391,  0.64293563,\n",
                        "         0.84092932],\n",
                        "       [ 3.14395623,  3.53786312,  1.3393402 ,  2.67877021,  5.27113675,\n",
                        "         7.31498911,  4.7662725 ,  2.59571039,  9.99399276,  1.38065431,\n",
                        "         2.90985046,  1.17439891,  5.50362984,  2.21342814,  0.39681813,\n",
                        "         3.94087177,  0.72799691,  0.81949958,  0.93100203,  0.60987489,\n",
                        "         0.67774214]]), array([-3.45851385, -3.45820138, -3.45750403, -3.45592379, -3.4551112 ,\n",
                        "       -3.45266901, -3.45102538, -3.450075  , -3.44702872, -3.44635364,\n",
                        "       -3.44529748, -3.44520653, -3.44398225, -3.44321071, -3.44229408,\n",
                        "       -3.44208352, -3.4408794 , -3.44055506, -3.44041693, -3.43794976,\n",
                        "       -3.43385227, -3.43161742]))\n",
                        "           fun: -3.4585138461091436\n",
                        "       message: 'Maximum number of iterations has been exceeded.'\n",
                        "          nfev: 625\n",
                        "           nit: 500\n",
                        "        status: 2\n",
                        "       success: False\n",
                        "             x: array([ 3.11599997,  2.9192766 ,  1.48514935,  2.79249256,  5.2307586 ,\n",
                        "        7.57205918,  4.6854658 ,  2.60209498, 10.28304109,  1.38433743,\n",
                        "        3.06861561,  1.18322615,  5.34679721,  2.00449826,  0.40222861,\n",
                        "        3.89291586,  0.68581982,  0.77883976,  0.69042244,  0.65128691,\n",
                        "        0.77234023])\n"
                    ]
                },
                {
                    "output_type": "display_data",
                    "data": {
                        "text/plain": [
                            "<Figure size 288x288 with 2 Axes>"
                        ],
                        "image/png": "[encoded data removed]"
                    },
                    "metadata": {
                        "needs_background": "light"
                    }
                },
                {
                    "output_type": "stream",
                    "name": "stdout",
                    "text": [
                        "Final Entropy: 3.4585138461091436\n",
                        "Final Expectation Value: -0.02885415845223485\n",
                        "Final Cost: -3.4585138461091436\n",
                        "10000\n",
                        "0011010011\n"
                    ]
                }
            ],
            "metadata": {}
        },
        {
            "cell_type": "code",
            "execution_count": 13,
            "source": [
                "plot_cluster(data, final_model.clusters[0], final_model.clusters[1])"
            ],
            "outputs": [
                {
                    "output_type": "display_data",
                    "data": {
                        "text/plain": [
                            "<Figure size 288x288 with 1 Axes>"
                        ],
                        "image/png": "[encoded data removed]"
                    },
                    "metadata": {
                        "needs_background": "light"
                    }
                }
            ],
            "metadata": {}
        },
        {
            "cell_type": "code",
            "execution_count": 62,
            "source": [
                "A = RandomSampler()\n",
                "B = QAOA(1)\n",
                "\n",
                "final_model, coreset = bayesian_inference(list(data), cluster_from_bitstring, num_data, 3, A, B)"
            ],
            "outputs": [
                {
                    "output_type": "stream",
                    "name": "stdout",
                    "text": [
                        "[(0, 1, 0.1467830001137542)]\n",
                        "[(1, array([ 0.28017272, -0.02962792])), (1, array([ 0.13509051, -0.0073479 ]))]\n",
                        "Current iteration: 0, Num function calls: 3, best so far: -0.1221541\n",
                        "Current iteration: 1, Num function calls: 5, best so far: -0.1423925\n",
                        "Current iteration: 2, Num function calls: 9, best so far: -0.1423925\n",
                        "Current iteration: 3, Num function calls: 10, best so far: -0.1423925\n",
                        "Current iteration: 4, Num function calls: 12, best so far: -0.1423925\n",
                        "Current iteration: 5, Num function calls: 16, best so far: -0.1423925\n",
                        "Current iteration: 6, Num function calls: 20, best so far: -0.1423925\n",
                        "Current iteration: 7, Num function calls: 22, best so far: -0.1423925\n",
                        "Current iteration: 8, Num function calls: 24, best so far: -0.1423925\n",
                        "Current iteration: 9, Num function calls: 26, best so far: -0.1423925\n",
                        "Current iteration: 10, Num function calls: 28, best so far: -0.1423925\n",
                        "Current iteration: 11, Num function calls: 32, best so far: -0.1429891\n",
                        "Current iteration: 12, Num function calls: 36, best so far: -0.1430366\n",
                        "Current iteration: 13, Num function calls: 38, best so far: -0.1430366\n",
                        "Current iteration: 14, Num function calls: 40, best so far: -0.1430366\n",
                        "Current iteration: 15, Num function calls: 44, best so far: -0.1430994\n",
                        "Current iteration: 16, Num function calls: 48, best so far: -0.1430994\n",
                        "Current iteration: 17, Num function calls: 50, best so far: -0.1430994\n",
                        "Current iteration: 18, Num function calls: 52, best so far: -0.1430994\n",
                        "Current iteration: 19, Num function calls: 56, best so far: -0.1430999\n",
                        "Current iteration: 20, Num function calls: 60, best so far: -0.1431010\n",
                        "Current iteration: 21, Num function calls: 62, best so far: -0.1431010\n",
                        "Current iteration: 22, Num function calls: 64, best so far: -0.1431010\n",
                        "Current iteration: 23, Num function calls: 68, best so far: -0.1431010\n",
                        "Current iteration: 24, Num function calls: 72, best so far: -0.1431010\n",
                        "Current iteration: 25, Num function calls: 74, best so far: -0.1431010\n",
                        "Current iteration: 26, Num function calls: 76, best so far: -0.1431010\n",
                        "Current iteration: 27, Num function calls: 80, best so far: -0.1431010\n",
                        "Current iteration: 28, Num function calls: 84, best so far: -0.1431010\n",
                        "Current iteration: 29, Num function calls: 86, best so far: -0.1431010\n",
                        "Current iteration: 30, Num function calls: 88, best so far: -0.1431010\n",
                        "REACHED MAX ITERATIONS WITH NO IMPROVEMENT\n",
                        "Best parameters: [5.35135326 4.39921491]\n",
                        "Best energy: -0.1431010\n",
                        "01\n",
                        "0111110001\n"
                    ]
                }
            ],
            "metadata": {}
        },
        {
            "cell_type": "code",
            "execution_count": 63,
            "source": [
                "plot_cluster(data, final_model.clusters[0], final_model.clusters[1])"
            ],
            "outputs": [
                {
                    "output_type": "display_data",
                    "data": {
                        "text/plain": [
                            "<Figure size 288x288 with 1 Axes>"
                        ],
                        "image/png": "[encoded data removed]"
                    },
                    "metadata": {
                        "needs_background": "light"
                    }
                }
            ],
            "metadata": {}
        },
        {
            "cell_type": "code",
            "execution_count": 395,
            "source": [
                "import importlib\n",
                "import active_coresets\n",
                "importlib.reload(active_coresets.maxcut_qaoa)\n",
                "importlib.reload(active_coresets.quantum_algorithms)\n",
                "importlib.reload(active_coresets.classical_algorithms)\n",
                "importlib.reload(active_coresets.coreset_algorithms)\n",
                "from active_coresets.quantum_algorithms import ClassicalExponentialSampler, VQT, QAOA"
            ],
            "outputs": [],
            "metadata": {}
        },
        {
            "cell_type": "code",
            "execution_count": 396,
            "source": [
                "from active_coresets.coreset_algorithms import bayesian_inference\n",
                "from active_coresets.classical_algorithms import RandomSampler, GIGACoreset\n",
                "from active_coresets.quantum_algorithms import ClassicalExponentialSampler, VQT, QAOA\n",
                "from active_coresets.data_structures import Coreset, Model\n",
                "\n",
                "from typing import List, Tuple"
            ],
            "outputs": [],
            "metadata": {}
        },
        {
            "cell_type": "code",
            "execution_count": 382,
            "source": [
                "num_data = 1000\n",
                "data, c1, c2 = gen_gaussian_data(100, 900, stddev=0.01)\n",
                "shuffle(data)\n",
                "plot_data(data)"
            ],
            "outputs": [
                {
                    "output_type": "display_data",
                    "data": {
                        "text/plain": [
                            "<Figure size 288x288 with 1 Axes>"
                        ],
                        "image/png": "[encoded data removed]"
                    },
                    "metadata": {
                        "needs_background": "light"
                    }
                }
            ],
            "metadata": {}
        },
        {
            "cell_type": "code",
            "execution_count": 383,
            "source": [
                "class ClusteringModel(Model):\n",
                "    def __init__(self, clusters: Tuple[List[np.ndarray], List[np.ndarray]]):\n",
                "        self.clusters = clusters\n",
                "        self.cluster0_center = np.average(clusters[0], axis=0) if len(clusters[0]) > 0 else [0.0, 0.0]\n",
                "        self.cluster1_center = np.average(clusters[1], axis=0) if len(clusters[1]) > 0 else [0.0, 0.0]\n",
                "    \n",
                "    def evaluate_on_coreset(self, coreset: Coreset) -> float:\n",
                "        total_dist = 0.0\n",
                "        for data, weight in coreset.coreset:\n",
                "            if any((data == x).all() for x in self.clusters[0]):\n",
                "                total_dist += weight * np.linalg.norm(data - self.cluster0_center)\n",
                "            else:\n",
                "                total_dist += weight * np.linalg.norm(data - self.cluster1_center)\n",
                "        return -total_dist\n",
                "    \n",
                "    def evaluate_on_point(self, data: np.ndarray) -> float:\n",
                "        if any((data == x).all() for x in self.clusters[0]):\n",
                "            return np.linalg.norm(data - self.cluster0_center)\n",
                "        else:\n",
                "            return np.linalg.norm(data - self.cluster1_center)\n",
                "        "
            ],
            "outputs": [],
            "metadata": {}
        },
        {
            "cell_type": "code",
            "execution_count": 384,
            "source": [
                "def cluster_loglikelihood(data: np.ndarray, models: List[ClusteringModel]) -> np.ndarray:\n",
                "    #TODO: maybe optimize this better\n",
                "    ll_vecs = np.zeros((data.shape[0], len(models)))\n",
                "    for i in range(data.shape[0]):\n",
                "        for j in range(len(models)):\n",
                "            ll_vecs[i][j] = -models[j].evaluate_on_point(data[i])\n",
                "    return ll_vecs\n"
            ],
            "outputs": [],
            "metadata": {}
        },
        {
            "cell_type": "code",
            "execution_count": 385,
            "source": [
                "def visualize_coreset(coreset: Coreset):\n",
                "    total_weight = sum(weight for weight, pt in coreset.coreset)\n",
                "    for weight, point in coreset.coreset:\n",
                "        plt.scatter(point[0], point[1], s= weight)\n",
                "    plt.xlim([-0.5,1.25])\n",
                "    plt.ylim([-0.5,1.25])\n",
                "    plt.show()"
            ],
            "outputs": [],
            "metadata": {}
        },
        {
            "cell_type": "code",
            "execution_count": 402,
            "source": [
                "A = GIGACoreset(list(data), cluster_loglikelihood)\n",
                "B = QAOA(1)\n",
                "\n",
                "final_model, coreset = bayesian_inference(list(data), cluster_from_bitstring, num_data, 3, A, B)\n"
            ],
            "outputs": [
                {
                    "output_type": "stream",
                    "name": "stdout",
                    "text": [
                        "[(0, 1, 11975.99365127434)]\n",
                        "[(2187.1047944307916, array([1.00380715, 0.98482315])), (3.9034083321517663, array([ 0.0068624 , -0.00207561]))]\n",
                        "Current iteration: 0, Num function calls: 3, best so far: -10659.2643646\n",
                        "Current iteration: 1, Num function calls: 4, best so far: -10659.2643646\n",
                        "Current iteration: 2, Num function calls: 6, best so far: -10659.2643646\n",
                        "Current iteration: 3, Num function calls: 10, best so far: -10659.2643646\n",
                        "Current iteration: 4, Num function calls: 11, best so far: -10659.2643646\n",
                        "Current iteration: 5, Num function calls: 15, best so far: -10659.2643646\n",
                        "Current iteration: 6, Num function calls: 16, best so far: -10659.2643646\n",
                        "Current iteration: 7, Num function calls: 18, best so far: -10659.2643646\n",
                        "Current iteration: 8, Num function calls: 22, best so far: -10659.2643646\n",
                        "Current iteration: 9, Num function calls: 24, best so far: -10659.2643646\n",
                        "Current iteration: 10, Num function calls: 25, best so far: -10659.2643646\n",
                        "Current iteration: 11, Num function calls: 26, best so far: -10659.2643646\n",
                        "Current iteration: 12, Num function calls: 28, best so far: -10659.2643646\n",
                        "Current iteration: 13, Num function calls: 32, best so far: -10659.2643646\n",
                        "Current iteration: 14, Num function calls: 34, best so far: -10659.2643646\n",
                        "Current iteration: 15, Num function calls: 36, best so far: -11313.9403761\n",
                        "Current iteration: 16, Num function calls: 37, best so far: -11313.9403761\n",
                        "Current iteration: 17, Num function calls: 41, best so far: -11367.1883329\n",
                        "Current iteration: 18, Num function calls: 43, best so far: -11367.1883329\n",
                        "Current iteration: 19, Num function calls: 47, best so far: -11392.6316083\n",
                        "Current iteration: 20, Num function calls: 51, best so far: -11429.7927989\n",
                        "Current iteration: 21, Num function calls: 53, best so far: -11429.7927989\n",
                        "Current iteration: 22, Num function calls: 55, best so far: -11429.7927989\n",
                        "Current iteration: 23, Num function calls: 57, best so far: -11429.7927989\n",
                        "Current iteration: 24, Num function calls: 59, best so far: -11460.7524828\n",
                        "Current iteration: 25, Num function calls: 63, best so far: -11546.6782848\n",
                        "Current iteration: 26, Num function calls: 65, best so far: -11559.3061062\n",
                        "Current iteration: 27, Num function calls: 69, best so far: -11559.3061062\n",
                        "Current iteration: 28, Num function calls: 73, best so far: -11559.3061062\n",
                        "Current iteration: 29, Num function calls: 75, best so far: -11559.3061062\n",
                        "Current iteration: 30, Num function calls: 77, best so far: -11559.3061062\n",
                        "Current iteration: 31, Num function calls: 79, best so far: -11559.3061062\n",
                        "Current iteration: 32, Num function calls: 81, best so far: -11559.3061062\n",
                        "Current iteration: 33, Num function calls: 83, best so far: -11559.3061062\n",
                        "Current iteration: 34, Num function calls: 85, best so far: -11559.3061062\n",
                        "Current iteration: 35, Num function calls: 87, best so far: -11560.7913511\n",
                        "Current iteration: 36, Num function calls: 89, best so far: -11563.5746490\n",
                        "Current iteration: 37, Num function calls: 90, best so far: -11563.5746490\n",
                        "Current iteration: 38, Num function calls: 92, best so far: -11563.7344337\n",
                        "Current iteration: 39, Num function calls: 94, best so far: -11563.7615767\n",
                        "Current iteration: 40, Num function calls: 96, best so far: -11563.9419285\n",
                        "Current iteration: 41, Num function calls: 97, best so far: -11563.9419285\n",
                        "Current iteration: 42, Num function calls: 99, best so far: -11563.9419285\n",
                        "Current iteration: 43, Num function calls: 100, best so far: -11563.9419285\n",
                        "Current iteration: 44, Num function calls: 102, best so far: -11564.0572087\n",
                        "Current iteration: 45, Num function calls: 104, best so far: -11564.0572087\n",
                        "Current iteration: 46, Num function calls: 106, best so far: -11564.1224673\n",
                        "Current iteration: 47, Num function calls: 108, best so far: -11564.3556292\n",
                        "Current iteration: 48, Num function calls: 109, best so far: -11564.3556292\n",
                        "Current iteration: 49, Num function calls: 111, best so far: -11564.8360075\n",
                        "Current iteration: 50, Num function calls: 112, best so far: -11564.8360075\n",
                        "Current iteration: 51, Num function calls: 114, best so far: -11565.8043843\n",
                        "Current iteration: 52, Num function calls: 115, best so far: -11565.8043843\n",
                        "Current iteration: 53, Num function calls: 117, best so far: -11567.5507381\n",
                        "Current iteration: 54, Num function calls: 119, best so far: -11568.6903227\n",
                        "Current iteration: 55, Num function calls: 121, best so far: -11572.6654312\n",
                        "Current iteration: 56, Num function calls: 123, best so far: -11577.0390175\n",
                        "Current iteration: 57, Num function calls: 125, best so far: -11586.7334010\n",
                        "Current iteration: 58, Num function calls: 127, best so far: -11600.5153752\n",
                        "Current iteration: 59, Num function calls: 129, best so far: -11624.3512525\n",
                        "Current iteration: 60, Num function calls: 131, best so far: -11662.7469046\n",
                        "Current iteration: 61, Num function calls: 133, best so far: -11714.4286385\n",
                        "Current iteration: 62, Num function calls: 135, best so far: -11797.6326333\n",
                        "Current iteration: 63, Num function calls: 137, best so far: -11836.7541574\n",
                        "Current iteration: 64, Num function calls: 139, best so far: -11866.1274774\n",
                        "Current iteration: 65, Num function calls: 141, best so far: -11866.1274774\n",
                        "Current iteration: 66, Num function calls: 143, best so far: -11908.1671032\n",
                        "Current iteration: 67, Num function calls: 144, best so far: -11908.1671032\n",
                        "Current iteration: 68, Num function calls: 146, best so far: -11966.4053142\n",
                        "Current iteration: 69, Num function calls: 147, best so far: -11966.4053142\n",
                        "Current iteration: 70, Num function calls: 148, best so far: -11966.4053142\n",
                        "Current iteration: 71, Num function calls: 150, best so far: -11974.4598480\n",
                        "Current iteration: 72, Num function calls: 152, best so far: -11975.0671497\n",
                        "Current iteration: 73, Num function calls: 154, best so far: -11975.0671497\n",
                        "Current iteration: 74, Num function calls: 156, best so far: -11975.8083149\n",
                        "Current iteration: 75, Num function calls: 158, best so far: -11975.8083149\n",
                        "Current iteration: 76, Num function calls: 160, best so far: -11975.8704462\n",
                        "Current iteration: 77, Num function calls: 162, best so far: -11975.9624640\n",
                        "Current iteration: 78, Num function calls: 164, best so far: -11975.9744967\n",
                        "Current iteration: 79, Num function calls: 166, best so far: -11975.9768239\n",
                        "Current iteration: 80, Num function calls: 168, best so far: -11975.9888456\n",
                        "Current iteration: 81, Num function calls: 170, best so far: -11975.9921237\n",
                        "Current iteration: 82, Num function calls: 172, best so far: -11975.9921237\n",
                        "Current iteration: 83, Num function calls: 174, best so far: -11975.9927300\n",
                        "Current iteration: 84, Num function calls: 176, best so far: -11975.9933903\n",
                        "Current iteration: 85, Num function calls: 178, best so far: -11975.9934287\n",
                        "Current iteration: 86, Num function calls: 180, best so far: -11975.9935127\n",
                        "Current iteration: 87, Num function calls: 182, best so far: -11975.9936287\n",
                        "Current iteration: 88, Num function calls: 184, best so far: -11975.9936287\n",
                        "Current iteration: 89, Num function calls: 186, best so far: -11975.9936372\n",
                        "Current iteration: 90, Num function calls: 188, best so far: -11975.9936461\n",
                        "Current iteration: 91, Num function calls: 190, best so far: -11975.9936494\n",
                        "Current iteration: 92, Num function calls: 192, best so far: -11975.9936494\n",
                        "Current iteration: 93, Num function calls: 194, best so far: -11975.9936502\n",
                        "Current iteration: 94, Num function calls: 196, best so far: -11975.9936504\n",
                        "Current iteration: 95, Num function calls: 198, best so far: -11975.9936509\n",
                        "Current iteration: 96, Num function calls: 200, best so far: -11975.9936512\n",
                        "Current iteration: 97, Num function calls: 201, best so far: -11975.9936512\n",
                        "Current iteration: 98, Num function calls: 203, best so far: -11975.9936512\n",
                        "Current iteration: 99, Num function calls: 205, best so far: -11975.9936512\n",
                        "Current iteration: 100, Num function calls: 207, best so far: -11975.9936513\n",
                        "Current iteration: 101, Num function calls: 209, best so far: -11975.9936513\n",
                        "Current iteration: 102, Num function calls: 211, best so far: -11975.9936513\n",
                        "Current iteration: 103, Num function calls: 213, best so far: -11975.9936513\n",
                        "Current iteration: 104, Num function calls: 215, best so far: -11975.9936513\n",
                        "Current iteration: 105, Num function calls: 217, best so far: -11975.9936513\n",
                        "REACHED MAX ITERATIONS WITH NO IMPROVEMENT\n",
                        "Best parameters: [1.72038752 1.17809724]\n",
                        "Best energy: -11975.9936513\n",
                        "01\n",
                        "1111111011111111111101111111110111111111111111111111110111111111111111101111111110110111111110111111111111111111011111111111111111111111111101111101111110101111111101111111111110101111111111011011111111111010011100111110111011111111111110111110111110111111111111111111011111110111111111111111111111111111111110110111111111111111111111111101111111111111111111101101111011111111111111111111111111111111111111111110111111011011111111111111111111111111111111110111111111111111111111101101101111111111111011111111111101011110111111001110111111111111111111111101011110110111111111111101111101111111101110111110111111111111110111111111110111111011111111011111101111111111011111111111111111111111011111010111111101111101111111011111111111111111111111011101111101110111111111110111101111111111111111110111111111101010111111111111111111110110111111111111111111100001111011111110101111111111110111111111111111101011111111111111111101111111111111111111111111111111111011111111111101101101111111110111111011111111\n"
                    ]
                }
            ],
            "metadata": {}
        },
        {
            "cell_type": "code",
            "execution_count": 403,
            "source": [
                "plot_cluster(data, final_model.clusters[0], final_model.clusters[1])"
            ],
            "outputs": [
                {
                    "output_type": "display_data",
                    "data": {
                        "text/plain": [
                            "<Figure size 288x288 with 1 Axes>"
                        ],
                        "image/png": "[encoded data removed]"
                    },
                    "metadata": {
                        "needs_background": "light"
                    }
                }
            ],
            "metadata": {}
        },
        {
            "cell_type": "code",
            "execution_count": 404,
            "source": [
                "coreset.coreset"
            ],
            "outputs": [
                {
                    "output_type": "execute_result",
                    "data": {
                        "text/plain": [
                            "[(2187.1047944307916, array([1.00380715, 0.98482315])),\n",
                            " (3.9034083321517663, array([ 0.0068624 , -0.00207561])),\n",
                            " (151.3617389526674, array([-0.00269666, -0.00011711]))]"
                        ]
                    },
                    "metadata": {},
                    "execution_count": 404
                }
            ],
            "metadata": {}
        },
        {
            "cell_type": "code",
            "execution_count": 405,
            "source": [
                "visualize_coreset(coreset)"
            ],
            "outputs": [
                {
                    "output_type": "display_data",
                    "data": {
                        "text/plain": [
                            "<Figure size 432x288 with 1 Axes>"
                        ],
                        "image/png": "[encoded data removed]"
                    },
                    "metadata": {
                        "needs_background": "light"
                    }
                }
            ],
            "metadata": {}
        },
        {
            "cell_type": "code",
            "execution_count": 406,
            "source": [
                "A = RandomSampler()\n",
                "B = QAOA(1)\n",
                "\n",
                "final_model, coreset = bayesian_inference(list(data), cluster_from_bitstring, num_data, 3, A, B)"
            ],
            "outputs": [
                {
                    "output_type": "stream",
                    "name": "stdout",
                    "text": [
                        "[(0, 1, 0.023869658333005504)]\n",
                        "[(1, array([0.98194594, 1.013572  ])), (1, array([1.00357136, 1.00346745]))]\n",
                        "Current iteration: 0, Num function calls: 3, best so far: -0.0138596\n",
                        "Current iteration: 1, Num function calls: 4, best so far: -0.0138596\n",
                        "Current iteration: 2, Num function calls: 6, best so far: -0.0138712\n",
                        "Current iteration: 3, Num function calls: 8, best so far: -0.0147560\n",
                        "Current iteration: 4, Num function calls: 9, best so far: -0.0147560\n",
                        "Current iteration: 5, Num function calls: 11, best so far: -0.0149155\n",
                        "Current iteration: 6, Num function calls: 15, best so far: -0.0149155\n",
                        "Current iteration: 7, Num function calls: 17, best so far: -0.0149155\n",
                        "Current iteration: 8, Num function calls: 19, best so far: -0.0149155\n",
                        "Current iteration: 9, Num function calls: 21, best so far: -0.0149155\n",
                        "Current iteration: 10, Num function calls: 23, best so far: -0.0149155\n",
                        "Current iteration: 11, Num function calls: 27, best so far: -0.0149155\n",
                        "Current iteration: 12, Num function calls: 31, best so far: -0.0149155\n",
                        "Current iteration: 13, Num function calls: 33, best so far: -0.0152477\n",
                        "Current iteration: 14, Num function calls: 35, best so far: -0.0153612\n",
                        "Current iteration: 15, Num function calls: 39, best so far: -0.0153612\n",
                        "Current iteration: 16, Num function calls: 43, best so far: -0.0153612\n",
                        "Current iteration: 17, Num function calls: 47, best so far: -0.0153612\n",
                        "Current iteration: 18, Num function calls: 51, best so far: -0.0153612\n",
                        "Current iteration: 19, Num function calls: 53, best so far: -0.0153811\n",
                        "Current iteration: 20, Num function calls: 57, best so far: -0.0153811\n",
                        "Current iteration: 21, Num function calls: 61, best so far: -0.0153811\n",
                        "Current iteration: 22, Num function calls: 63, best so far: -0.0153829\n",
                        "Current iteration: 23, Num function calls: 67, best so far: -0.0153829\n",
                        "Current iteration: 24, Num function calls: 71, best so far: -0.0153829\n",
                        "Current iteration: 25, Num function calls: 75, best so far: -0.0153829\n",
                        "Current iteration: 26, Num function calls: 79, best so far: -0.0153829\n",
                        "Current iteration: 27, Num function calls: 83, best so far: -0.0153829\n",
                        "Current iteration: 28, Num function calls: 87, best so far: -0.0153829\n",
                        "Current iteration: 29, Num function calls: 91, best so far: -0.0153829\n",
                        "Current iteration: 30, Num function calls: 93, best so far: -0.0153829\n",
                        "Current iteration: 31, Num function calls: 97, best so far: -0.0153829\n",
                        "Current iteration: 32, Num function calls: 101, best so far: -0.0153829\n",
                        "Current iteration: 33, Num function calls: 105, best so far: -0.0153829\n",
                        "Current iteration: 34, Num function calls: 107, best so far: -0.0153829\n",
                        "REACHED MAX ITERATIONS WITH NO IMPROVEMENT\n",
                        "Best parameters: [6.2831839  1.23090085]\n",
                        "Best energy: -0.0153829\n",
                        "01\n",
                        "0001000100000000000010000001001000100000000000011001001110000001000001010101000001001101001101000000001000000100110000000000101110100000000010010110000001110000100011000000010001110101000000100100100000011111100011000001000100000110100001000001000001010100000000000001110110001000000000000000000000011000000001011000000000000000001000010111000000001001001000010010100100110010010000010000000000000001101000000001010000100100010000100000110000000110000001001001000001100000000000110110110000000000001100000001010010101001000000110011001000000010000000000010110001001000000000000010010010000000010001100001000000000000011000000000001000000100001000100000010000000010100000000000001000000000100000111000000110000010110000100000000000000000000000110110000110001000000000001101110011001000000000001100000100010101000000000010001101001001001010000000000000011110001101000101010100000000001001110010000100010110000000011000010010000000011000000000010000000000000100000101010010010010100000001100000101000000\n"
                    ]
                }
            ],
            "metadata": {}
        },
        {
            "cell_type": "code",
            "execution_count": 407,
            "source": [
                "plot_cluster(data, final_model.clusters[0], final_model.clusters[1])"
            ],
            "outputs": [
                {
                    "output_type": "display_data",
                    "data": {
                        "text/plain": [
                            "<Figure size 288x288 with 1 Axes>"
                        ],
                        "image/png": "[encoded data removed]"
                    },
                    "metadata": {
                        "needs_background": "light"
                    }
                }
            ],
            "metadata": {}
        },
        {
            "cell_type": "code",
            "execution_count": 408,
            "source": [
                "visualize_coreset(coreset)"
            ],
            "outputs": [
                {
                    "output_type": "display_data",
                    "data": {
                        "text/plain": [
                            "<Figure size 432x288 with 1 Axes>"
                        ],
                        "image/png": "[encoded data removed]"
                    },
                    "metadata": {
                        "needs_background": "light"
                    }
                }
            ],
            "metadata": {}
        }
    ],
    "metadata": {
        "orig_nbformat": 4,
        "language_info": {
            "name": "python",
            "version": "3.7.2",
            "mimetype": "text/x-python",
            "codemirror_mode": {
                "name": "ipython",
                "version": 3
            },
            "pygments_lexer": "ipython3",
            "nbconvert_exporter": "python",
            "file_extension": ".py"
        },
        "kernelspec": {
            "name": "python3",
            "display_name": "Python 3.7.2 64-bit ('coresets': virtualenv)"
        },
        "interpreter": {
            "hash": "c3369e32896944482f8274dfb0b3cc08d1f48c21e94fe8bc4c7c8abeae50cf5b"
        }
    },
    "nbformat": 4,
    "nbformat_minor": 2
}