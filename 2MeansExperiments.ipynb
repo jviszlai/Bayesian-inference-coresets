{
    "cells": [
        {
            "cell_type": "code",
            "execution_count": 1,
            "source": [
                "import numpy as np\n",
                "from numpy.random import shuffle\n",
                "import matplotlib.pyplot as plt\n",
                "import scipy.stats as stats\n",
                "\n",
                "def gen_gaussian_data(N, dim=2, dist=1, stddev=1.0):\n",
                "    # generate N random data vectors from two Gaussian clusters\n",
                "    data = []\n",
                "    # first cluster is always centered on [0, 0, 0, ...]\n",
                "    cluster1mean = np.zeros(dim)\n",
                "    cluster1size = N // 2\n",
                "    for i in range(cluster1size):\n",
                "        data.append(np.random.normal(cluster1mean, stddev, (dim)))\n",
                "\n",
                "    # second cluster is placed along the vector dist*[1, 1, 1, ...]\n",
                "    cluster2mean = np.zeros(dim) + dist\n",
                "    for i in range(N-cluster1size):\n",
                "        data.append(np.random.normal(cluster2mean, stddev, (dim)))\n",
                "    return np.array(data), cluster1mean, cluster2mean\n",
                "\n",
                "\n",
                "def plot_data(data):\n",
                "    fig, ax = plt.subplots(figsize=[4,4])\n",
                "    ax.scatter(data[:,0], data[:,1])\n",
                "    ax.axvline(0, ls='--', c='grey')\n",
                "    ax.axhline(0, ls='--', c='grey')\n",
                "    plt.show()\n",
                "    plt.close()\n",
                "\n",
                "def plot_cluster(data, cluster0, cluster1):\n",
                "    cluster0 = np.array(cluster0)\n",
                "    cluster1 = np.array(cluster1)\n",
                "    fig, ax = plt.subplots(figsize=[4,4])\n",
                "    ax.scatter(cluster0[:,0], cluster0[:,1], c='r')\n",
                "    ax.scatter(cluster1[:,0], cluster1[:,1], c='b')\n",
                "    plt.show()\n",
                "    plt.close()"
            ],
            "outputs": [],
            "metadata": {}
        },
        {
            "cell_type": "code",
            "execution_count": 2,
            "source": [
                "from active_coresets.coreset_algorithms import bayesian_inference\n",
                "from active_coresets.classical_algorithms import RandomSampler\n",
                "from active_coresets.quantum_algorithms import ClassicalExponentialSampler, VQT\n",
                "from active_coresets.data_structures import Coreset, Model\n",
                "\n",
                "from typing import List, Tuple"
            ],
            "outputs": [],
            "metadata": {}
        },
        {
            "cell_type": "code",
            "execution_count": 3,
            "source": [
                "num_data = 10\n",
                "data, c1, c2 = gen_gaussian_data(num_data, stddev=0.1)\n",
                "shuffle(data)\n",
                "plot_data(data)"
            ],
            "outputs": [
                {
                    "output_type": "display_data",
                    "data": {
                        "text/plain": [
                            "<Figure size 288x288 with 1 Axes>"
                        ],
                        "image/png": "[encoded data removed]"
                    },
                    "metadata": {
                        "needs_background": "light"
                    }
                }
            ],
            "metadata": {}
        },
        {
            "cell_type": "code",
            "execution_count": 4,
            "source": [
                "class ClusteringModel(Model):\n",
                "    def __init__(self, clusters: Tuple[List[np.ndarray], List[np.ndarray]]):\n",
                "        self.clusters = clusters\n",
                "        self.cluster0_center = np.average(clusters[0], axis=0) if len(clusters[0]) > 0 else [0.0, 0.0]\n",
                "        self.cluster1_center = np.average(clusters[1], axis=0) if len(clusters[1]) > 0 else [0.0, 0.0]\n",
                "    \n",
                "    def evaluate_on_coreset(self, coreset: Coreset) -> float:\n",
                "        total_dist = 0.0\n",
                "        for data, weight in coreset.coreset:\n",
                "            if any((data == x).all() for x in self.clusters[0]):\n",
                "                total_dist += weight * np.linalg.norm(data - self.cluster0_center)\n",
                "            else:\n",
                "                total_dist += weight * np.linalg.norm(data - self.cluster1_center)\n",
                "        return -total_dist\n",
                "        "
            ],
            "outputs": [],
            "metadata": {}
        },
        {
            "cell_type": "code",
            "execution_count": 5,
            "source": [
                "Y = []\n",
                "for model_bitstring in range(2**(num_data)):\n",
                "    cluster0 = []\n",
                "    cluster1 = []\n",
                "    for i in range(num_data):\n",
                "        if (model_bitstring >> i) & 0x1 == 0:\n",
                "            cluster0.append(data[i])\n",
                "        else:\n",
                "            cluster1.append(data[i])\n",
                "    Y.append(ClusteringModel((cluster0, cluster1)))"
            ],
            "outputs": [],
            "metadata": {}
        },
        {
            "cell_type": "code",
            "execution_count": 6,
            "source": [
                "A = RandomSampler()\n",
                "B = VQT(.01)\n",
                "\n",
                "final_model = bayesian_inference(list(data), Y, 5, A, B)"
            ],
            "outputs": [
                {
                    "output_type": "stream",
                    "name": "stdout",
                    "text": [
                        "Cost at step 0: -0.6820634544312121\n",
                        "Cost at step 20: -0.7359017443583495\n",
                        "Cost at step 40: -0.8700229189696841\n",
                        "Cost at step 60: -0.9734902536614509\n",
                        "Cost at step 80: -1.288745263056744\n",
                        "Cost at step 100: -1.3227790705967477\n",
                        "Cost at step 120: -1.3728068896292482\n",
                        "Cost at step 140: -1.3846665244954437\n",
                        "Cost at step 160: -1.385868301345338\n",
                        "Cost at step 180: -1.386265257643857\n",
                        "Cost at step 200: -1.3862915162211689\n",
                        "Cost at step 220: -1.386293753612562\n",
                        "Cost at step 240: -1.3862942284279023\n",
                        "Cost at step 260: -1.3862942094728274\n",
                        "Cost at step 280: -1.3862943412941269\n",
                        "Cost at step 300: -1.3862943543148045\n",
                        " final_simplex: (array([[0.73833262, 1.71453631, 3.20220226, 3.8544461 , 1.83579749,\n",
                        "        0.70917052, 3.7628654 , 0.69321405, 0.69317936],\n",
                        "       [0.73831264, 1.71455204, 3.20222022, 3.85448406, 1.8357944 ,\n",
                        "        0.70916695, 3.76285493, 0.69316165, 0.69320026],\n",
                        "       [0.73832432, 1.71454803, 3.20222516, 3.85443355, 1.83577595,\n",
                        "        0.70916362, 3.76289408, 0.69322093, 0.69320194],\n",
                        "       [0.73830199, 1.71455356, 3.20223053, 3.85450662, 1.83579945,\n",
                        "        0.70916354, 3.76284344, 0.69316205, 0.69320771],\n",
                        "       [0.73833387, 1.71461983, 3.20212003, 3.85448095, 1.83577953,\n",
                        "        0.70916072, 3.76283961, 0.69315598, 0.69320398],\n",
                        "       [0.73831183, 1.71456392, 3.20218824, 3.85444722, 1.8358166 ,\n",
                        "        0.7091646 , 3.76289597, 0.69314829, 0.69318596],\n",
                        "       [0.73833492, 1.71461529, 3.20215688, 3.85445808, 1.83578017,\n",
                        "        0.70916169, 3.76282086, 0.69315734, 0.69321589],\n",
                        "       [0.7383498 , 1.7145453 , 3.20222412, 3.85437386, 1.8357973 ,\n",
                        "        0.70916313, 3.76295239, 0.69314668, 0.69316799],\n",
                        "       [0.7383131 , 1.7145528 , 3.20223288, 3.8545258 , 1.83580235,\n",
                        "        0.70915426, 3.76289403, 0.6932242 , 0.69315998],\n",
                        "       [0.73832982, 1.71456228, 3.20224917, 3.85441782, 1.83576717,\n",
                        "        0.70915567, 3.76287108, 0.69323574, 0.69321089]]), array([-1.38629436, -1.38629436, -1.38629436, -1.38629436, -1.38629436,\n",
                        "       -1.38629436, -1.38629436, -1.38629436, -1.38629436, -1.38629436]))\n",
                        "           fun: -1.386294362508329\n",
                        "       message: 'Optimization terminated successfully.'\n",
                        "          nfev: 317\n",
                        "           nit: 181\n",
                        "        status: 0\n",
                        "       success: True\n",
                        "             x: array([0.73833262, 1.71453631, 3.20220226, 3.8544461 , 1.83579749,\n",
                        "       0.70917052, 3.7628654 , 0.69321405, 0.69317936])\n"
                    ]
                },
                {
                    "output_type": "display_data",
                    "data": {
                        "text/plain": [
                            "<Figure size 288x288 with 2 Axes>"
                        ],
                        "image/png": "[encoded data removed]"
                    },
                    "metadata": {
                        "needs_background": "light"
                    }
                },
                {
                    "output_type": "stream",
                    "name": "stdout",
                    "text": [
                        "Final Entropy: 1.3862943583662815\n",
                        "Final Expectation Value: -4.1420475338505014e-07\n",
                        "Final Cost: -1.386294362508329\n",
                        "11\n",
                        "1111111111\n",
                        "Cost at step 0: -1.0330014442756525\n",
                        "Cost at step 20: -1.0558832790186317\n",
                        "Cost at step 40: -1.167215098652592\n",
                        "Cost at step 60: -1.4147084005703698\n",
                        "Cost at step 80: -1.3431797305102322\n",
                        "Cost at step 100: -1.4062762135671485\n",
                        "Cost at step 120: -1.418612702253729\n",
                        "Cost at step 140: -1.4402524976169393\n",
                        "Cost at step 160: -1.4816906481009708\n",
                        "Cost at step 180: -1.7268720683721963\n",
                        "Cost at step 200: -1.6286931866226366\n",
                        "Cost at step 220: -1.9810519506806816\n",
                        "Cost at step 240: -2.0479768191726446\n",
                        "Cost at step 260: -2.077698344896139\n",
                        "Cost at step 280: -2.0758273211527283\n",
                        "Cost at step 300: -2.0765310779003276\n",
                        "Cost at step 320: -2.078203037416739\n",
                        "Cost at step 340: -2.0776911581846806\n",
                        "Cost at step 360: -2.078634273514516\n",
                        "Cost at step 380: -2.0788259683995856\n",
                        "Cost at step 400: -2.0790589523761187\n",
                        "Cost at step 420: -2.0792823061167285\n",
                        "Cost at step 440: -2.079387575657706\n",
                        "Cost at step 460: -2.0794044144034105\n",
                        "Cost at step 480: -2.0794398734683983\n",
                        "Cost at step 500: -2.07944165481422\n",
                        "Cost at step 520: -2.0794414376260124\n",
                        "Cost at step 540: -2.079441712458129\n",
                        "Cost at step 560: -2.0794420257402426\n",
                        "Cost at step 580: -2.0794420388111243\n",
                        "Cost at step 600: -2.0794420317470013\n",
                        "Cost at step 620: -2.079442043856107\n",
                        "Cost at step 640: -2.0794420435516856\n",
                        "Cost at step 660: -2.0794420450127205\n",
                        "Cost at step 680: -2.0794420457940372\n",
                        "Cost at step 700: -2.0794420486205953\n",
                        "Cost at step 720: -2.0794420542111642\n",
                        "Cost at step 740: -2.0794420672763145\n",
                        " final_simplex: (array([[0.47275725, 1.18689199, 7.3040593 , 4.46278531, 1.90149391,\n",
                        "        3.65071895, 7.60507479, 4.53707376, 5.27255062, 0.6929635 ,\n",
                        "        0.69333321, 0.69210577],\n",
                        "       [0.47324523, 1.18643907, 7.31699692, 4.46141782, 1.89919062,\n",
                        "        3.64981354, 7.60465489, 4.53883627, 5.27058855, 0.69301065,\n",
                        "        0.69325968, 0.69208769],\n",
                        "       [0.47336957, 1.18631564, 7.32014961, 4.4610961 , 1.89862643,\n",
                        "        3.64954828, 7.60452628, 4.53927205, 5.27012689, 0.69301696,\n",
                        "        0.69329778, 0.69209024],\n",
                        "       [0.47390426, 1.18579814, 7.33362101, 4.45980432, 1.89623154,\n",
                        "        3.64844133, 7.60423444, 4.54105093, 5.26820025, 0.69296502,\n",
                        "        0.69320847, 0.6921015 ],\n",
                        "       [0.47392263, 1.18578386, 7.3345273 , 4.45968389, 1.89610541,\n",
                        "        3.64844748, 7.60418905, 4.5411864 , 5.26799016, 0.69296212,\n",
                        "        0.69326849, 0.69207629],\n",
                        "       [0.47404982, 1.18566537, 7.33747711, 4.45941024, 1.89555121,\n",
                        "        3.64819615, 7.6041384 , 4.54156449, 5.26758907, 0.6929664 ,\n",
                        "        0.69317527, 0.69208645],\n",
                        "       [0.47442431, 1.18529939, 7.34650176, 4.45852263, 1.89389849,\n",
                        "        3.64736388, 7.60380674, 4.54276087, 5.26635677, 0.69299306,\n",
                        "        0.69321203, 0.69212654],\n",
                        "       [0.47440185, 1.1853221 , 7.34649878, 4.45851081, 1.89393864,\n",
                        "        3.64743588, 7.60386635, 4.54276575, 5.26632018, 0.69298573,\n",
                        "        0.69321871, 0.69209378],\n",
                        "       [0.47499772, 1.18473672, 7.36067386, 4.45718066, 1.89137242,\n",
                        "        3.64614259, 7.60347688, 4.54462506, 5.26432573, 0.69293884,\n",
                        "        0.69317732, 0.69215488],\n",
                        "       [0.47508751, 1.18465135, 7.36298752, 4.45692955, 1.89094657,\n",
                        "        3.64597189, 7.6033604 , 4.54494931, 5.2639824 , 0.69296715,\n",
                        "        0.69318148, 0.69215446],\n",
                        "       [0.47496788, 1.18477587, 7.36082029, 4.45708971, 1.89138525,\n",
                        "        3.6462762 , 7.60344674, 4.54468671, 5.26422906, 0.69297074,\n",
                        "        0.69320497, 0.69210697],\n",
                        "       [0.47509613, 1.1846476 , 7.36409156, 4.45678374, 1.89079864,\n",
                        "        3.64599535, 7.6033807 , 4.54510942, 5.26377939, 0.69297142,\n",
                        "        0.69320409, 0.69211015],\n",
                        "       [0.47498483, 1.18475724, 7.36198693, 4.45694192, 1.89120133,\n",
                        "        3.64626254, 7.60343476, 4.54485202, 5.26404871, 0.69299856,\n",
                        "        0.69322318, 0.69207943]]), array([-2.07944209, -2.07944208, -2.07944208, -2.07944208, -2.07944208,\n",
                        "       -2.07944207, -2.07944207, -2.07944207, -2.07944207, -2.07944207,\n",
                        "       -2.07944207, -2.07944206, -2.07944206]))\n",
                        "           fun: -2.0794420891749454\n",
                        "       message: 'Maximum number of iterations has been exceeded.'\n",
                        "          nfev: 755\n",
                        "           nit: 500\n",
                        "        status: 2\n",
                        "       success: False\n",
                        "             x: array([0.47275725, 1.18689199, 7.3040593 , 4.46278531, 1.90149391,\n",
                        "       3.65071895, 7.60507479, 4.53707376, 5.27255062, 0.6929635 ,\n",
                        "       0.69333321, 0.69210577])\n"
                    ]
                },
                {
                    "output_type": "display_data",
                    "data": {
                        "text/plain": [
                            "<Figure size 288x288 with 2 Axes>"
                        ],
                        "image/png": "[encoded data removed]"
                    },
                    "metadata": {
                        "needs_background": "light"
                    }
                },
                {
                    "output_type": "stream",
                    "name": "stdout",
                    "text": [
                        "Final Entropy: 2.0794409646738385\n",
                        "Final Expectation Value: -0.00011245011069083155\n",
                        "Final Cost: -2.0794420891749454\n",
                        "001\n",
                        "1011011111\n",
                        "Cost at step 0: -1.4819260672687011\n",
                        "Cost at step 20: -1.5043401534365957\n",
                        "Cost at step 40: -1.5364992577367755\n",
                        "Cost at step 60: -1.6036435470623838\n",
                        "Cost at step 80: -1.6787158837857588\n",
                        "Cost at step 100: -1.6897347716320166\n",
                        "Cost at step 120: -1.7933019899800497\n",
                        "Cost at step 140: -2.0577385427666752\n",
                        "Cost at step 160: -2.427154232037478\n",
                        "Cost at step 180: -2.262930848629384\n",
                        "Cost at step 200: -2.5735428856819675\n",
                        "Cost at step 220: -2.51811473045793\n",
                        "Cost at step 240: -2.7470484924180982\n",
                        "Cost at step 260: -2.65845007768529\n",
                        "Cost at step 280: -2.761491788142274\n",
                        "Cost at step 300: -2.748273600056181\n",
                        "Cost at step 320: -2.756750283569211\n",
                        "Cost at step 340: -2.763683235625064\n",
                        "Cost at step 360: -2.768879842558933\n",
                        "Cost at step 380: -2.768434995741138\n",
                        "Cost at step 400: -2.769094571116421\n",
                        "Cost at step 420: -2.7692269762868507\n",
                        "Cost at step 440: -2.769347026488947\n",
                        "Cost at step 460: -2.7695018147252264\n",
                        "Cost at step 480: -2.7697869266290955\n",
                        "Cost at step 500: -2.7702636195159878\n",
                        "Cost at step 520: -2.7710313080467754\n",
                        "Cost at step 540: -2.77180468743189\n",
                        "Cost at step 560: -2.7723120506733023\n",
                        "Cost at step 580: -2.7725376186822666\n",
                        "Cost at step 600: -2.7725034474595276\n",
                        "Cost at step 620: -2.7726284643963583\n",
                        "Cost at step 640: -2.772611818131048\n",
                        "Cost at step 660: -2.7726275012897315\n",
                        "Cost at step 680: -2.772643769922346\n",
                        "Cost at step 700: -2.7726403278192358\n",
                        " final_simplex: (array([[ 8.39658164,  1.48077177, 10.52461586,  2.11281919,  6.85027121,\n",
                        "         5.0062349 ,  3.36600239,  0.61655235,  1.60832137,  3.60802336,\n",
                        "         3.99049469,  1.1097531 ,  0.6937729 ,  0.68996304,  0.70180301,\n",
                        "         0.68830374],\n",
                        "       [ 8.39483985,  1.48232864, 10.52529445,  2.11281606,  6.84923861,\n",
                        "         5.00649237,  3.36653324,  0.61655554,  1.60866203,  3.60831864,\n",
                        "         3.99099488,  1.10973372,  0.69363034,  0.69018441,  0.70168909,\n",
                        "         0.68712028],\n",
                        "       [ 8.38453925,  1.48760735, 10.52925386,  2.1132225 ,  6.84627823,\n",
                        "         5.00674296,  3.37022837,  0.61658914,  1.60776001,  3.60921751,\n",
                        "         3.9952252 ,  1.10972212,  0.69300071,  0.69011281,  0.70060028,\n",
                        "         0.68810535],\n",
                        "       [ 8.39481712,  1.48389186, 10.52376437,  2.11288602,  6.8499325 ,\n",
                        "         5.00634315,  3.36662717,  0.61658126,  1.60830409,  3.60808466,\n",
                        "         3.9909687 ,  1.10960282,  0.69314608,  0.69096325,  0.70174594,\n",
                        "         0.68820656],\n",
                        "       [ 8.39052949,  1.48384285, 10.52542607,  2.11262194,  6.84946258,\n",
                        "         5.00637336,  3.36761515,  0.6166862 ,  1.60787454,  3.60829511,\n",
                        "         3.99245393,  1.10973237,  0.69409909,  0.68998906,  0.70142467,\n",
                        "         0.68769289],\n",
                        "       [ 8.40176881,  1.47832163, 10.52250759,  2.11278735,  6.8503888 ,\n",
                        "         5.00633579,  3.36519959,  0.61665359,  1.60864916,  3.60773291,\n",
                        "         3.98879584,  1.1097505 ,  0.69298236,  0.69025183,  0.70232302,\n",
                        "         0.68845025],\n",
                        "       [ 8.39603768,  1.48036368, 10.52356558,  2.11266939,  6.85014464,\n",
                        "         5.00632911,  3.36618586,  0.61651974,  1.60894832,  3.60809683,\n",
                        "         3.99077767,  1.1097652 ,  0.69411208,  0.6898683 ,  0.70181993,\n",
                        "         0.68779819],\n",
                        "       [ 8.38393498,  1.48906812, 10.52695335,  2.11279439,  6.84530547,\n",
                        "         5.00594399,  3.36859192,  0.61657332,  1.60903046,  3.60936408,\n",
                        "         3.99502206,  1.10942422,  0.69424626,  0.69057621,  0.70092743,\n",
                        "         0.68796095],\n",
                        "       [ 8.40150486,  1.47775777, 10.5241324 ,  2.11299894,  6.85113743,\n",
                        "         5.00672595,  3.36589111,  0.61656388,  1.60856937,  3.60795402,\n",
                        "         3.98920472,  1.10989604,  0.69263603,  0.6896207 ,  0.70208036,\n",
                        "         0.68763668],\n",
                        "       [ 8.39119489,  1.48478503, 10.52292039,  2.11293341,  6.84709104,\n",
                        "         5.00670288,  3.36846628,  0.61675164,  1.60836142,  3.60815342,\n",
                        "         3.99252115,  1.10960251,  0.69340061,  0.69090322,  0.70152174,\n",
                        "         0.68716645],\n",
                        "       [ 8.38817862,  1.48280016, 10.5274859 ,  2.11300602,  6.84912305,\n",
                        "         5.00702927,  3.36986644,  0.61653427,  1.60814173,  3.60917633,\n",
                        "         3.99418497,  1.10986017,  0.69321854,  0.68988112,  0.70090392,\n",
                        "         0.68689559],\n",
                        "       [ 8.38142084,  1.48897623, 10.52968723,  2.11334891,  6.8477384 ,\n",
                        "         5.0065689 ,  3.370879  ,  0.61636312,  1.60779516,  3.60957705,\n",
                        "         3.99626586,  1.10970247,  0.69317648,  0.69036244,  0.70024899,\n",
                        "         0.68824252],\n",
                        "       [ 8.39950798,  1.48547393, 10.52367268,  2.11259661,  6.84857553,\n",
                        "         5.00628835,  3.36482415,  0.61652311,  1.609038  ,  3.60786115,\n",
                        "         3.98875081,  1.10950165,  0.69258232,  0.69151625,  0.70232508,\n",
                        "         0.68776876],\n",
                        "       [ 8.39631218,  1.47990091, 10.52227518,  2.11258727,  6.85186679,\n",
                        "         5.00636182,  3.36652466,  0.6165387 ,  1.60867973,  3.60789193,\n",
                        "         3.99056581,  1.10976532,  0.69403979,  0.69080212,  0.70174539,\n",
                        "         0.6874158 ],\n",
                        "       [ 8.38911011,  1.48519386, 10.52921315,  2.11332982,  6.84855468,\n",
                        "         5.00720161,  3.36939061,  0.61661446,  1.6071089 ,  3.6090301 ,\n",
                        "         3.99330477,  1.10989853,  0.69258036,  0.68998945,  0.70081644,\n",
                        "         0.68675755],\n",
                        "       [ 8.39387942,  1.48235681, 10.52299888,  2.1126025 ,  6.85020108,\n",
                        "         5.00641353,  3.36620778,  0.61671524,  1.60794125,  3.60721407,\n",
                        "         3.9909773 ,  1.10974377,  0.69418227,  0.69104771,  0.70160905,\n",
                        "         0.68844377],\n",
                        "       [ 8.40027723,  1.47665619, 10.52095685,  2.11222003,  6.85277203,\n",
                        "         5.00631547,  3.36543146,  0.61659935,  1.60898699,  3.60731578,\n",
                        "         3.98889923,  1.10967801,  0.69379056,  0.69078938,  0.70233769,\n",
                        "         0.68868546]]), array([-2.77264484, -2.7726448 , -2.77264478, -2.77264475, -2.77264471,\n",
                        "       -2.77264468, -2.77264458, -2.77264454, -2.77264453, -2.77264439,\n",
                        "       -2.77264425, -2.77264418, -2.77264416, -2.77264409, -2.77264403,\n",
                        "       -2.77264402, -2.77264402]))\n",
                        "           fun: -2.772644840623762\n",
                        "       message: 'Maximum number of iterations has been exceeded.'\n",
                        "          nfev: 719\n",
                        "           nit: 500\n",
                        "        status: 2\n",
                        "       success: False\n",
                        "             x: array([ 8.39658164,  1.48077177, 10.52461586,  2.11281919,  6.85027121,\n",
                        "        5.0062349 ,  3.36600239,  0.61655235,  1.60832137,  3.60802336,\n",
                        "        3.99049469,  1.1097531 ,  0.6937729 ,  0.68996304,  0.70180301,\n",
                        "        0.68830374])\n"
                    ]
                },
                {
                    "output_type": "display_data",
                    "data": {
                        "text/plain": [
                            "<Figure size 288x288 with 2 Axes>"
                        ],
                        "image/png": "[encoded data removed]"
                    },
                    "metadata": {
                        "needs_background": "light"
                    }
                },
                {
                    "output_type": "stream",
                    "name": "stdout",
                    "text": [
                        "Final Entropy: 2.7725345150860443\n",
                        "Final Expectation Value: -0.0110325537717543\n",
                        "Final Cost: -2.772644840623762\n",
                        "1010\n",
                        "1100110010\n"
                    ]
                }
            ],
            "metadata": {}
        },
        {
            "cell_type": "code",
            "execution_count": 7,
            "source": [
                "plot_cluster(data, final_model.clusters[0], final_model.clusters[1])"
            ],
            "outputs": [
                {
                    "output_type": "display_data",
                    "data": {
                        "text/plain": [
                            "<Figure size 288x288 with 1 Axes>"
                        ],
                        "image/png": "[encoded data removed]"
                    },
                    "metadata": {
                        "needs_background": "light"
                    }
                }
            ],
            "metadata": {}
        },
        {
            "cell_type": "code",
            "execution_count": null,
            "source": [],
            "outputs": [],
            "metadata": {}
        }
    ],
    "metadata": {
        "orig_nbformat": 4,
        "language_info": {
            "name": "python",
            "version": "3.7.2",
            "mimetype": "text/x-python",
            "codemirror_mode": {
                "name": "ipython",
                "version": 3
            },
            "pygments_lexer": "ipython3",
            "nbconvert_exporter": "python",
            "file_extension": ".py"
        },
        "kernelspec": {
            "name": "python3",
            "display_name": "Python 3.7.2 64-bit ('coresets': virtualenv)"
        },
        "interpreter": {
            "hash": "c3369e32896944482f8274dfb0b3cc08d1f48c21e94fe8bc4c7c8abeae50cf5b"
        }
    },
    "nbformat": 4,
    "nbformat_minor": 2
}