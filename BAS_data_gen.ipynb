{
 "cells": [
  {
   "cell_type": "code",
   "execution_count": 1,
   "metadata": {},
   "outputs": [],
   "source": [
    "import numpy as np\n",
    "import matplotlib.pyplot as plt\n",
    "import tensorflow as tf"
   ]
  },
  {
   "cell_type": "code",
   "execution_count": 106,
   "metadata": {},
   "outputs": [],
   "source": [
    "shape = (6,6)\n",
    "num_samples = 10000"
   ]
  },
  {
   "cell_type": "code",
   "execution_count": 15,
   "metadata": {},
   "outputs": [],
   "source": [
    "def generate_bas(num_samples, shape):\n",
    "    '''\n",
    "    Generate Bars & Stripes data\n",
    "    '''\n",
    "    samples = np.zeros((num_samples, shape[0], shape[1]))\n",
    "    for i in range(num_samples):\n",
    "        bar = np.random.randint(0, 2)\n",
    "        if bar == 0:\n",
    "            for row in range(shape[0]):\n",
    "                if np.random.randint(0, 2) == 0:\n",
    "                    samples[i, row, :] = 1\n",
    "        else:\n",
    "            for col in range(shape[1]):\n",
    "                if np.random.randint(0, 2) == 0:\n",
    "                    samples[i, :, col] = 1\n",
    "    return samples\n",
    "\n",
    "def generate_non_bas(num_samples, shape):\n",
    "    '''\n",
    "    Generate data not in Bars & Stripes\n",
    "    '''\n",
    "    samples = np.zeros((num_samples, shape[0], shape[1]))\n",
    "    for i in range(num_samples):\n",
    "        correct = False\n",
    "        while not correct:\n",
    "            points = 0\n",
    "            for row in range(shape[0]):\n",
    "                for col in range(shape[1]):\n",
    "                    if np.random.randint(0, 2) == 0:\n",
    "                        samples[i, row, col] = 1\n",
    "                        points += 1\n",
    "                        \n",
    "            # Make sure not BAS\n",
    "            for row in range(shape[0]):\n",
    "                state = samples[i, row, 0]\n",
    "                for col in range(shape[1]):\n",
    "                    if samples[i, row, col] != state:\n",
    "                        correct = True\n",
    "\n",
    "            for col in range(shape[1]):\n",
    "                state = samples[i, 0, col]\n",
    "                for row in range(shape[0]):\n",
    "                    if samples[i, row, col] != state:\n",
    "                        correct = True\n",
    "            \n",
    "            correct = correct and points > 0\n",
    "            \n",
    "    return samples\n",
    "        "
   ]
  },
  {
   "cell_type": "code",
   "execution_count": 177,
   "metadata": {},
   "outputs": [],
   "source": [
    "bas_data = generate_bas(num_samples, shape)\n",
    "non_bas_data = generate_non_bas(num_samples, shape)"
   ]
  },
  {
   "cell_type": "code",
   "execution_count": 178,
   "metadata": {},
   "outputs": [],
   "source": [
    "bas_data = np.append(bas_data.reshape(num_samples, shape[0]*shape[1]), np.zeros((num_samples, 2)), axis=1)\n",
    "bas_data[:, -2] = 1\n",
    "non_bas_data = np.append(non_bas_data.reshape(num_samples, shape[0]*shape[1]), np.zeros((num_samples, 2)), axis=1)\n",
    "non_bas_data[:,-1] = 1\n",
    "\n",
    "total_data = np.array([bas_data, non_bas_data]).reshape(2*num_samples, shape[0]*shape[1]+2)\n",
    "\n",
    "np.random.shuffle(total_data)"
   ]
  },
  {
   "cell_type": "code",
   "execution_count": 179,
   "metadata": {},
   "outputs": [],
   "source": [
    "X = total_data[:, :-2].reshape(2*num_samples, shape[0], shape[1])\n",
    "Y = total_data[:, -2:]"
   ]
  },
  {
   "cell_type": "code",
   "execution_count": 218,
   "metadata": {},
   "outputs": [
    {
     "data": {
      "text/plain": [
       "<matplotlib.image.AxesImage at 0x7f7a8e9c92b0>"
      ]
     },
     "execution_count": 218,
     "metadata": {},
     "output_type": "execute_result"
    },
    {
     "data": {
      "image/png": "[encoded data removed]",
      "text/plain": [
       "<Figure size 432x288 with 1 Axes>"
      ]
     },
     "metadata": {
      "needs_background": "light"
     },
     "output_type": "display_data"
    }
   ],
   "source": [
    "i=1000\n",
    "plt.title(Y[i])\n",
    "plt.imshow(X[i])"
   ]
  },
  {
   "cell_type": "code",
   "execution_count": 183,
   "metadata": {},
   "outputs": [],
   "source": [
    "from tensorflow.keras import layers, models\n",
    "from sklearn.model_selection import train_test_split"
   ]
  },
  {
   "cell_type": "code",
   "execution_count": 159,
   "metadata": {},
   "outputs": [],
   "source": [
    "X_train, X_test, Y_train, Y_test = train_test_split(X, Y, test_size=0.2, random_state=42)"
   ]
  },
  {
   "cell_type": "code",
   "execution_count": 184,
   "metadata": {},
   "outputs": [
    {
     "name": "stdout",
     "output_type": "stream",
     "text": [
      "Model: \"sequential_37\"\n",
      "_________________________________________________________________\n",
      " Layer (type)                Output Shape              Param #   \n",
      "=================================================================\n",
      " dense_24 (Dense)            (None, 64)                2368      \n",
      "                                                                 \n",
      " dense_25 (Dense)            (None, 32)                2080      \n",
      "                                                                 \n",
      " dense_26 (Dense)            (None, 16)                528       \n",
      "                                                                 \n",
      " dense_27 (Dense)            (None, 2)                 34        \n",
      "                                                                 \n",
      "=================================================================\n",
      "Total params: 5,010\n",
      "Trainable params: 5,010\n",
      "Non-trainable params: 0\n",
      "_________________________________________________________________\n"
     ]
    }
   ],
   "source": [
    "model = models.Sequential()\n",
    "model.add(layers.Dense(64, activation='relu', input_shape=(shape[0]*shape[1],)))\n",
    "model.add(layers.Dense(32, activation='relu'))\n",
    "model.add(layers.Dense(16, activation='relu'))\n",
    "model.add(layers.Dense(2, activation='softmax'))\n",
    "model.summary()"
   ]
  },
  {
   "cell_type": "code",
   "execution_count": 187,
   "metadata": {},
   "outputs": [],
   "source": [
    "model.compile(optimizer='adam',\n",
    "              loss=tf.keras.losses.SparseCategoricalCrossentropy(from_logits=True),\n",
    "              metrics=['accuracy'])"
   ]
  },
  {
   "cell_type": "code",
   "execution_count": 188,
   "metadata": {},
   "outputs": [
    {
     "name": "stdout",
     "output_type": "stream",
     "text": [
      "Epoch 1/10\n",
      "500/500 [==============================] - 2s 3ms/step - loss: 0.1561 - accuracy: 0.9548 - val_loss: 0.0031 - val_accuracy: 0.9998\n",
      "Epoch 2/10\n",
      "500/500 [==============================] - 2s 3ms/step - loss: 0.0011 - accuracy: 1.0000 - val_loss: 5.8199e-04 - val_accuracy: 1.0000\n",
      "Epoch 3/10\n",
      "500/500 [==============================] - 1s 3ms/step - loss: 2.2475e-04 - accuracy: 1.0000 - val_loss: 2.5873e-04 - val_accuracy: 1.0000\n",
      "Epoch 4/10\n",
      "500/500 [==============================] - 2s 3ms/step - loss: 9.4447e-05 - accuracy: 1.0000 - val_loss: 1.7328e-04 - val_accuracy: 1.0000\n",
      "Epoch 5/10\n",
      "500/500 [==============================] - 2s 3ms/step - loss: 5.0212e-05 - accuracy: 1.0000 - val_loss: 1.5328e-04 - val_accuracy: 1.0000\n",
      "Epoch 6/10\n",
      "500/500 [==============================] - 2s 3ms/step - loss: 2.9420e-05 - accuracy: 1.0000 - val_loss: 1.5754e-04 - val_accuracy: 1.0000\n",
      "Epoch 7/10\n",
      "500/500 [==============================] - 2s 3ms/step - loss: 1.8346e-05 - accuracy: 1.0000 - val_loss: 9.4218e-05 - val_accuracy: 1.0000\n",
      "Epoch 8/10\n",
      "500/500 [==============================] - 2s 3ms/step - loss: 1.1809e-05 - accuracy: 1.0000 - val_loss: 1.2040e-04 - val_accuracy: 1.0000\n",
      "Epoch 9/10\n",
      "500/500 [==============================] - 2s 3ms/step - loss: 7.8924e-06 - accuracy: 1.0000 - val_loss: 9.0369e-05 - val_accuracy: 1.0000\n",
      "Epoch 10/10\n",
      "500/500 [==============================] - 2s 3ms/step - loss: 5.4031e-06 - accuracy: 1.0000 - val_loss: 1.0482e-04 - val_accuracy: 1.0000\n"
     ]
    }
   ],
   "source": [
    "history = model.fit(X_train.reshape(X_train.shape[0], shape[0] * shape[1]), Y_train, epochs=10, validation_data=(X_test.reshape(X_test.shape[0], shape[0] * shape[1]), Y_test))"
   ]
  },
  {
   "cell_type": "code",
   "execution_count": 189,
   "metadata": {},
   "outputs": [
    {
     "data": {
      "text/plain": [
       "array([[2.5221264e-06, 9.9999750e-01]], dtype=float32)"
      ]
     },
     "execution_count": 189,
     "metadata": {},
     "output_type": "execute_result"
    }
   ],
   "source": [
    "model.predict(X_test[10].reshape(1, shape[0] * shape[1]))"
   ]
  },
  {
   "cell_type": "code",
   "execution_count": 203,
   "metadata": {},
   "outputs": [
    {
     "data": {
      "text/plain": [
       "<matplotlib.image.AxesImage at 0x7f7af88f4eb8>"
      ]
     },
     "execution_count": 203,
     "metadata": {},
     "output_type": "execute_result"
    },
    {
     "data": {
      "image/png": "[encoded data removed]",
      "text/plain": [
       "<Figure size 432x288 with 1 Axes>"
      ]
     },
     "metadata": {
      "needs_background": "light"
     },
     "output_type": "display_data"
    }
   ],
   "source": [
    "i = 1024\n",
    "prediction = model.predict(X_test[i].reshape(1, shape[0] * shape[1]))\n",
    "plt.title(f'Predicted: {np.argmax(prediction)}, Correct: {Y_test[i]}')\n",
    "plt.imshow(X_test[i])"
   ]
  },
  {
   "cell_type": "code",
   "execution_count": 204,
   "metadata": {},
   "outputs": [],
   "source": [
    "close_data = generate_bas(1, (6, 6))"
   ]
  },
  {
   "cell_type": "code",
   "execution_count": 207,
   "metadata": {},
   "outputs": [
    {
     "data": {
      "text/plain": [
       "<matplotlib.image.AxesImage at 0x7f7a8ee9c860>"
      ]
     },
     "execution_count": 207,
     "metadata": {},
     "output_type": "execute_result"
    },
    {
     "data": {
      "image/png": "[encoded data removed]",
      "text/plain": [
       "<Figure size 432x288 with 1 Axes>"
      ]
     },
     "metadata": {
      "needs_background": "light"
     },
     "output_type": "display_data"
    }
   ],
   "source": [
    "plt.imshow(close_data[0])"
   ]
  },
  {
   "cell_type": "code",
   "execution_count": 214,
   "metadata": {},
   "outputs": [],
   "source": [
    "close_data[0][2,5] = 1"
   ]
  },
  {
   "cell_type": "code",
   "execution_count": 215,
   "metadata": {},
   "outputs": [
    {
     "name": "stdout",
     "output_type": "stream",
     "text": [
      "[[0.20764941 0.7923506 ]]\n"
     ]
    },
    {
     "data": {
      "text/plain": [
       "<matplotlib.image.AxesImage at 0x7f7a8eab45c0>"
      ]
     },
     "execution_count": 215,
     "metadata": {},
     "output_type": "execute_result"
    },
    {
     "data": {
      "image/png": "[encoded data removed]",
      "text/plain": [
       "<Figure size 432x288 with 1 Axes>"
      ]
     },
     "metadata": {
      "needs_background": "light"
     },
     "output_type": "display_data"
    }
   ],
   "source": [
    "prediction = model.predict(close_data[0].reshape(1, shape[0] * shape[1]))\n",
    "print(prediction)\n",
    "plt.title(f'Predicted: {np.argmax(prediction)}')\n",
    "plt.imshow(close_data[0])"
   ]
  },
  {
   "cell_type": "code",
   "execution_count": null,
   "metadata": {},
   "outputs": [],
   "source": []
  }
 ],
 "metadata": {
  "interpreter": {
   "hash": "eed1e518159ae409ec290f76bafd254a7bb88ab625d627d1507156d197880aa4"
  },
  "kernelspec": {
   "display_name": "Python 3.7.2 ('coresets')",
   "language": "python",
   "name": "python3"
  },
  "language_info": {
   "codemirror_mode": {
    "name": "ipython",
    "version": 3
   },
   "file_extension": ".py",
   "mimetype": "text/x-python",
   "name": "python",
   "nbconvert_exporter": "python",
   "pygments_lexer": "ipython3",
   "version": "3.7.2"
  },
  "orig_nbformat": 4
 },
 "nbformat": 4,
 "nbformat_minor": 2
}
