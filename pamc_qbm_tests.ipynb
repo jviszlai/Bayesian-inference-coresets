{
 "cells": [
  {
   "cell_type": "code",
   "execution_count": 1,
   "metadata": {},
   "outputs": [],
   "source": [
    "import networkx as nx\n",
    "import numpy as np\n",
    "import matplotlib.pyplot as plt"
   ]
  },
  {
   "cell_type": "code",
   "execution_count": 2,
   "metadata": {},
   "outputs": [],
   "source": [
    "num_visible = 4\n",
    "num_hidden = 1"
   ]
  },
  {
   "cell_type": "code",
   "execution_count": 3,
   "metadata": {},
   "outputs": [
    {
     "data": {
      "image/png": "[encoded data removed]",
      "text/plain": [
       "<Figure size 432x288 with 1 Axes>"
      ]
     },
     "metadata": {},
     "output_type": "display_data"
    }
   ],
   "source": [
    "visible = [i for i in range(num_visible)]\n",
    "hidden = [num_visible + j for j in range(num_hidden)]\n",
    "edges = [(i, j) for i in visible for j in hidden]\n",
    "\n",
    "G = nx.Graph()\n",
    "G.add_edges_from(edges)\n",
    "nx.draw_circular(G, with_labels=True, node_color='gold')"
   ]
  },
  {
   "cell_type": "code",
   "execution_count": 4,
   "metadata": {},
   "outputs": [
    {
     "name": "stderr",
     "output_type": "stream",
     "text": [
      "2022-03-30 22:19:18.919709: W tensorflow/stream_executor/platform/default/dso_loader.cc:64] Could not load dynamic library 'libcudart.so.11.0'; dlerror: libcudart.so.11.0: cannot open shared object file: No such file or directory\n",
      "2022-03-30 22:19:18.919748: I tensorflow/stream_executor/cuda/cudart_stub.cc:29] Ignore above cudart dlerror if you do not have a GPU set up on your machine.\n"
     ]
    }
   ],
   "source": [
    "from active_coresets.pamc_qbm import PAMC_QBM"
   ]
  },
  {
   "cell_type": "code",
   "execution_count": 5,
   "metadata": {},
   "outputs": [],
   "source": [
    "import importlib\n",
    "import active_coresets\n",
    "importlib.reload(active_coresets.qmc_tim_qbm)\n",
    "importlib.reload(active_coresets.pamc_qbm)\n",
    "from active_coresets.pamc_qbm import PAMC_QBM"
   ]
  },
  {
   "cell_type": "code",
   "execution_count": 6,
   "metadata": {},
   "outputs": [],
   "source": [
    "def mixed_bernoulli(N, q, dim):\n",
    "    def dist(bits1, bits2):\n",
    "        d = 0\n",
    "        for i in range(len(bits1)):\n",
    "            if bits1[i] != bits2[i]:\n",
    "                d += 1\n",
    "        return d\n",
    "\n",
    "    data_range = np.zeros((2 ** dim, dim))\n",
    "    for d in range(2**dim):\n",
    "        binary = format(d, \"b\")\n",
    "        for i, b in enumerate(binary[::-1]):\n",
    "            data_range[d, dim-1-i] = int(b)\n",
    "    \n",
    "    modes = np.random.randint(0, 2, size=(N, dim))\n",
    "    b_dist = {}\n",
    "    for data in data_range:\n",
    "        prob = 0.0\n",
    "        for i in range(N):\n",
    "            d = dist(data, modes[i])\n",
    "            prob += np.power(q, d) * np.power(1 - q, dim - d)\n",
    "        b_dist[tuple(data)] = prob / N\n",
    "    return b_dist\n"
   ]
  },
  {
   "cell_type": "code",
   "execution_count": 7,
   "metadata": {},
   "outputs": [],
   "source": [
    "def sample_dist(num_samples, dist):\n",
    "    samples = []\n",
    "    for s in range(num_samples):\n",
    "        rand = np.random.rand()\n",
    "        prob_total = 0.0\n",
    "        for data, prob in dist.items():\n",
    "            prob_total += prob\n",
    "            if prob_total > rand:\n",
    "                samples.append(data)\n",
    "                break\n",
    "    return np.array(samples)"
   ]
  },
  {
   "cell_type": "code",
   "execution_count": 8,
   "metadata": {},
   "outputs": [],
   "source": [
    "b_dist = mixed_bernoulli(8, 0.9, num_visible)"
   ]
  },
  {
   "cell_type": "code",
   "execution_count": 22,
   "metadata": {},
   "outputs": [],
   "source": [
    "num_samples = 1000\n",
    "b_data = -2 * sample_dist(num_samples, b_dist) + np.ones((num_samples, num_visible))"
   ]
  },
  {
   "cell_type": "code",
   "execution_count": 23,
   "metadata": {},
   "outputs": [
    {
     "name": "stdout",
     "output_type": "stream",
     "text": [
      "Epoch 1\n",
      "...Batch 20 / 100\n",
      "...KL: (3.1803810831687938+0j)\n",
      "...Batch 40 / 100\n",
      "...KL: (3.3716381070008556+0j)\n",
      "...Batch 60 / 100\n",
      "...KL: (3.6909624965782433+0j)\n",
      "...Batch 80 / 100\n",
      "...KL: (4.007642536599894+0j)\n",
      "...Batch 100 / 100\n",
      "...KL: (4.315706003894206+0j)\n",
      "Epoch 2\n",
      "...Batch 20 / 100\n",
      "...KL: (4.699640414582062+0j)\n",
      "...Batch 40 / 100\n",
      "...KL: (5.134168228048475+0j)\n",
      "...Batch 60 / 100\n",
      "...KL: (5.48926992004551+0j)\n",
      "...Batch 80 / 100\n",
      "...KL: (5.827968341378277+0j)\n",
      "...Batch 100 / 100\n",
      "...KL: (6.014628984862691+0j)\n",
      "Epoch 3\n",
      "...Batch 20 / 100\n",
      "...KL: (6.283740383476345+0j)\n",
      "...Batch 40 / 100\n",
      "...KL: (6.5123836184414206+0j)\n",
      "...Batch 60 / 100\n",
      "...KL: (6.733981113868862+0j)\n",
      "...Batch 80 / 100\n",
      "...KL: (6.9894974373023695+0j)\n",
      "...Batch 100 / 100\n",
      "...KL: (7.12425480675237+0j)\n",
      "Epoch 4\n",
      "...Batch 20 / 100\n",
      "...KL: (7.313225243626852+0j)\n",
      "...Batch 40 / 100\n",
      "...KL: (7.502022055535029+0j)\n",
      "...Batch 60 / 100\n",
      "...KL: (7.7171005447331416+0j)\n",
      "...Batch 80 / 100\n",
      "...KL: (7.958059171877374+0j)\n",
      "...Batch 100 / 100\n",
      "...KL: (8.111936048753776+0j)\n",
      "Epoch 5\n",
      "...Batch 20 / 100\n",
      "...KL: (8.28913103702119+0j)\n",
      "...Batch 40 / 100\n",
      "...KL: (8.460846585455526+0j)\n",
      "...Batch 60 / 100\n",
      "...KL: (8.640671356627394+0j)\n",
      "...Batch 80 / 100\n",
      "...KL: (8.839660356048908+0j)\n",
      "...Batch 100 / 100\n",
      "...KL: (8.952459715204053+0j)\n",
      "Epoch 6\n",
      "...Batch 20 / 100\n",
      "...KL: (9.140494646946692+0j)\n",
      "...Batch 40 / 100\n",
      "...KL: (9.303139604775403+0j)\n",
      "...Batch 60 / 100\n",
      "...KL: (9.478246439451514+0j)\n",
      "...Batch 80 / 100\n",
      "...KL: (9.667003254213522+0j)\n",
      "...Batch 100 / 100\n",
      "...KL: (9.757410785508041+0j)\n",
      "Epoch 7\n",
      "...Batch 20 / 100\n",
      "...KL: (9.885662425205956+0j)\n",
      "...Batch 40 / 100\n",
      "...KL: (10.011657280541781+0j)\n",
      "...Batch 60 / 100\n",
      "...KL: (10.149480205580081+0j)\n",
      "...Batch 80 / 100\n",
      "...KL: (10.309276747990019+0j)\n",
      "...Batch 100 / 100\n",
      "...KL: (10.375540312229871+0j)\n",
      "Epoch 8\n",
      "...Batch 20 / 100\n",
      "...KL: (10.491553345166347+0j)\n",
      "...Batch 40 / 100\n",
      "...KL: (10.589418141166409+0j)\n",
      "...Batch 60 / 100\n",
      "...KL: (10.688785763102901+0j)\n",
      "...Batch 80 / 100\n",
      "...KL: (10.830117592020224+0j)\n",
      "...Batch 100 / 100\n",
      "...KL: (10.870192362888071+0j)\n",
      "Epoch 9\n",
      "...Batch 20 / 100\n",
      "...KL: (10.960319019618897+0j)\n",
      "...Batch 40 / 100\n",
      "...KL: (11.036200883112834+0j)\n",
      "...Batch 60 / 100\n",
      "...KL: (11.13350839447761+0j)\n",
      "...Batch 80 / 100\n",
      "...KL: (11.261412092551216+0j)\n",
      "...Batch 100 / 100\n",
      "...KL: (11.268530921708555+0j)\n",
      "Epoch 10\n",
      "...Batch 20 / 100\n",
      "...KL: (11.339438803890456+0j)\n",
      "...Batch 40 / 100\n",
      "...KL: (11.38377048035331+0j)\n",
      "...Batch 60 / 100\n",
      "...KL: (11.460367975361487+0j)\n",
      "...Batch 80 / 100\n",
      "...KL: (11.605786147159604+0j)\n",
      "...Batch 100 / 100\n",
      "...KL: (11.686066332692356+0j)\n"
     ]
    }
   ],
   "source": [
    "pamc_qbm = PAMC_QBM(visible, hidden, gamma=2, population_size=512)\n",
    "pop_history = pamc_qbm.train(b_data.astype(np.float32), epochs=10, batch_size=10, betas=np.linspace(0,10,5).astype(np.float32), num_its=10, learning_rate=0.01, exact=False, v_interval=20, debug=False)"
   ]
  },
  {
   "cell_type": "code",
   "execution_count": 24,
   "metadata": {},
   "outputs": [],
   "source": [
    "def data_to_dict(data):\n",
    "    dict = {}\n",
    "    for z_pt in data:\n",
    "        bitstring = ''.join(['0' if b == 1 else '1' for b in z_pt])\n",
    "        pt = int(bitstring, 2)\n",
    "        if pt in dict:\n",
    "            dict[pt] += 1\n",
    "        else:\n",
    "            dict[pt] = 1\n",
    "    return {k: v / sum(dict.values()) for k, v in dict.items()}"
   ]
  },
  {
   "cell_type": "code",
   "execution_count": 25,
   "metadata": {},
   "outputs": [],
   "source": [
    "def y_range(dict, x_range):\n",
    "    y = []\n",
    "    for x in x_range:\n",
    "        if x in dict:\n",
    "            y.append(dict[x])\n",
    "        else:\n",
    "            y.append(0)\n",
    "    return y"
   ]
  },
  {
   "cell_type": "code",
   "execution_count": 35,
   "metadata": {},
   "outputs": [
    {
     "data": {
      "image/png": "[encoded data removed]",
      "text/plain": [
       "<Figure size 1080x360 with 1 Axes>"
      ]
     },
     "metadata": {
      "needs_background": "light"
     },
     "output_type": "display_data"
    }
   ],
   "source": [
    "fig, ax = plt.subplots(figsize=[15,5])\n",
    "\n",
    "x_range = range(2 ** len(visible))\n",
    "data_dist = data_to_dict(b_data)\n",
    "init_model_dist = data_to_dict(pop_history[3])\n",
    "width = 0.4\n",
    "\n",
    "m_bars = ax.bar(x_range, y_range(init_model_dist, x_range), color='palegreen', label=r'$P^{model}_v$', align='edge', width=width)\n",
    "d_bars = ax.bar(x_range, y_range(data_dist, x_range), color='lightsalmon', label=r'$P^{data}_v$', align='edge', width=-width)\n",
    "\n",
    "plt.grid(alpha=.4, linestyle='--')\n",
    "plt.legend(fontsize=14)\n",
    "plt.xlabel(r'Visible state', fontsize=14)\n",
    "plt.ylabel('Probability', fontsize=14)\n",
    "\n",
    "plt.show()"
   ]
  },
  {
   "cell_type": "code",
   "execution_count": null,
   "metadata": {},
   "outputs": [],
   "source": [
    "# from matplotlib.animation import FuncAnimation\n",
    "# %matplotlib widget"
   ]
  },
  {
   "cell_type": "code",
   "execution_count": null,
   "metadata": {},
   "outputs": [],
   "source": [
    "# def update(frame):\n",
    "#     #model_population = pop_history[frame]\n",
    "#     #model_dict = data_to_dict(model_population[:, :len(visible)])\n",
    "#     model_dict = pop_history[frame]\n",
    "#     for rect, y in zip(m_bars, y_range(model_dict, x_range)):\n",
    "#         rect.set_height(y)\n",
    "#     plt.title(f\"frame: {frame}\")\n",
    "\n",
    "# anim = FuncAnimation(fig, update, interval=50, frames=np.array(range(len(pop_history))))\n",
    "# plt.show()"
   ]
  },
  {
   "cell_type": "code",
   "execution_count": null,
   "metadata": {},
   "outputs": [],
   "source": []
  }
 ],
 "metadata": {
  "interpreter": {
   "hash": "318d733d789b99934b4692f7b9d166009d4909f5c7c141e64be9f06f51c1475e"
  },
  "kernelspec": {
   "display_name": "Coresets",
   "language": "python",
   "name": "python3"
  },
  "language_info": {
   "codemirror_mode": {
    "name": "ipython",
    "version": 3
   },
   "file_extension": ".py",
   "mimetype": "text/x-python",
   "name": "python",
   "nbconvert_exporter": "python",
   "pygments_lexer": "ipython3",
   "version": "3.7.0"
  }
 },
 "nbformat": 4,
 "nbformat_minor": 2
}
