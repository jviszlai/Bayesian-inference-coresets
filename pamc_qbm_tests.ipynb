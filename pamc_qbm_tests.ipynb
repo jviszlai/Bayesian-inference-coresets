{
 "cells": [
  {
   "cell_type": "code",
   "execution_count": 1,
   "metadata": {},
   "outputs": [],
   "source": [
    "import networkx as nx\n",
    "import numpy as np\n",
    "import matplotlib.pyplot as plt"
   ]
  },
  {
   "cell_type": "code",
   "execution_count": 2,
   "metadata": {},
   "outputs": [],
   "source": [
    "num_visible = 4\n",
    "num_hidden = 1"
   ]
  },
  {
   "cell_type": "code",
   "execution_count": 3,
   "metadata": {},
   "outputs": [
    {
     "data": {
      "image/png": "[encoded data removed]",
      "text/plain": [
       "<Figure size 432x288 with 1 Axes>"
      ]
     },
     "metadata": {},
     "output_type": "display_data"
    }
   ],
   "source": [
    "visible = [i for i in range(num_visible)]\n",
    "hidden = [num_visible + j for j in range(num_hidden)]\n",
    "edges = [(i, j) for i in visible for j in hidden]\n",
    "\n",
    "G = nx.Graph()\n",
    "G.add_edges_from(edges)\n",
    "nx.draw_circular(G, with_labels=True, node_color='gold')"
   ]
  },
  {
   "cell_type": "code",
   "execution_count": 4,
   "metadata": {},
   "outputs": [],
   "source": [
    "from active_coresets.pamc_qbm import PAMC_QBM\n",
    "from active_coresets.classical_algorithms import ImportanceSampler\n",
    "from active_coresets.data_structures import Distribution, Coreset"
   ]
  },
  {
   "cell_type": "code",
   "execution_count": 5,
   "metadata": {},
   "outputs": [],
   "source": [
    "import importlib\n",
    "import active_coresets\n",
    "importlib.reload(active_coresets.qmc_tim_qbm)\n",
    "importlib.reload(active_coresets.pamc_qbm)\n",
    "importlib.reload(active_coresets.bayesian_coresets)\n",
    "importlib.reload(active_coresets.data_structures)\n",
    "importlib.reload(active_coresets.classical_algorithms)\n",
    "from active_coresets.pamc_qbm import PAMC_QBM\n",
    "from active_coresets.data_structures import Distribution, Coreset\n",
    "from active_coresets.classical_algorithms import ImportanceSampler"
   ]
  },
  {
   "cell_type": "code",
   "execution_count": 6,
   "metadata": {},
   "outputs": [],
   "source": [
    "def mixed_bernoulli(N, q, dim):\n",
    "    def dist(bits1, bits2):\n",
    "        d = 0\n",
    "        for i in range(len(bits1)):\n",
    "            if bits1[i] != bits2[i]:\n",
    "                d += 1\n",
    "        return d\n",
    "\n",
    "    data_range = np.zeros((2 ** dim, dim))\n",
    "    for d in range(2**dim):\n",
    "        binary = format(d, \"b\")\n",
    "        for i, b in enumerate(binary[::-1]):\n",
    "            data_range[d, dim-1-i] = int(b)\n",
    "    \n",
    "    modes = np.random.randint(0, 2, size=(N, dim))\n",
    "    b_dist = {}\n",
    "    for data in data_range:\n",
    "        prob = 0.0\n",
    "        for i in range(N):\n",
    "            d = dist(data, modes[i])\n",
    "            prob += np.power(q, d) * np.power(1 - q, dim - d)\n",
    "        b_dist[tuple(data)] = prob / N\n",
    "    return b_dist\n"
   ]
  },
  {
   "cell_type": "code",
   "execution_count": 7,
   "metadata": {},
   "outputs": [],
   "source": [
    "def sample_dist(num_samples, dist):\n",
    "    samples = []\n",
    "    for s in range(num_samples):\n",
    "        rand = np.random.rand()\n",
    "        prob_total = 0.0\n",
    "        for data, prob in dist.items():\n",
    "            prob_total += prob\n",
    "            if prob_total > rand:\n",
    "                samples.append(data)\n",
    "                break\n",
    "    return np.array(samples)"
   ]
  },
  {
   "cell_type": "code",
   "execution_count": 8,
   "metadata": {},
   "outputs": [],
   "source": [
    "b_dist = mixed_bernoulli(8, 0.9, num_visible)"
   ]
  },
  {
   "cell_type": "code",
   "execution_count": 9,
   "metadata": {},
   "outputs": [],
   "source": [
    "num_samples = 2048\n",
    "b_data = -2 * sample_dist(num_samples, b_dist) + np.ones((num_samples, num_visible))"
   ]
  },
  {
   "cell_type": "code",
   "execution_count": 10,
   "metadata": {},
   "outputs": [],
   "source": [
    "num_samples = 1000\n",
    "test_data = 2 * np.random.randint(0, 2, size=(num_samples, num_visible)) - np.ones((num_samples, num_visible))"
   ]
  },
  {
   "cell_type": "code",
   "execution_count": 11,
   "metadata": {},
   "outputs": [],
   "source": [
    "from importlib import reload  # Not needed in Python 2\n",
    "import logging\n",
    "reload(logging)\n",
    "logging.basicConfig(format='%(asctime)s %(levelname)s:%(message)s', level=logging.DEBUG, datefmt='%I:%M:%S')"
   ]
  },
  {
   "cell_type": "code",
   "execution_count": null,
   "metadata": {},
   "outputs": [],
   "source": [
    "pamc_qbm = PAMC_QBM(visible, hidden, gamma=2, population_size=512)\n",
    "model_history, kl_history, final_coreset = pamc_qbm.exact_giga_train(b_data, epochs=3, batch_size=32, coreset_size=128, beta=10)"
   ]
  },
  {
   "cell_type": "code",
   "execution_count": 10,
   "metadata": {},
   "outputs": [],
   "source": [
    "def data_to_dict(data):\n",
    "    dict = {}\n",
    "    for z_pt in data:\n",
    "        bitstring = ''.join(['0' if b == 1 else '1' for b in z_pt])\n",
    "        pt = int(bitstring, 2)\n",
    "        if pt in dict:\n",
    "            dict[pt] += 1\n",
    "        else:\n",
    "            dict[pt] = 1\n",
    "    return {k: v / sum(dict.values()) for k, v in dict.items()}"
   ]
  },
  {
   "cell_type": "code",
   "execution_count": 11,
   "metadata": {},
   "outputs": [],
   "source": [
    "def y_range(dict, x_range):\n",
    "    y = []\n",
    "    for x in x_range:\n",
    "        if x in dict:\n",
    "            y.append(dict[x])\n",
    "        else:\n",
    "            y.append(0)\n",
    "    return y"
   ]
  },
  {
   "cell_type": "code",
   "execution_count": 12,
   "metadata": {},
   "outputs": [],
   "source": [
    "def data_to_tuple_dict(data):\n",
    "    dict = {}\n",
    "    for z_pt in data:\n",
    "        pt = tuple(z_pt)\n",
    "        if pt in dict:\n",
    "            dict[pt] += 1\n",
    "        else:\n",
    "            dict[pt] = 1\n",
    "    return {k: v / sum(dict.values()) for k, v in dict.items()}"
   ]
  },
  {
   "cell_type": "code",
   "execution_count": 15,
   "metadata": {},
   "outputs": [
    {
     "name": "stderr",
     "output_type": "stream",
     "text": [
      "/home/jviszlai/Envs/coresets/lib/python3.7/site-packages/matplotlib/transforms.py:788: ComplexWarning: Casting complex values to real discards the imaginary part\n",
      "  points = np.asarray(points, float)\n"
     ]
    },
    {
     "data": {
      "image/png": "[encoded data removed]",
      "text/plain": [
       "<Figure size 1080x360 with 1 Axes>"
      ]
     },
     "metadata": {
      "needs_background": "light"
     },
     "output_type": "display_data"
    }
   ],
   "source": [
    "fig, ax = plt.subplots(figsize=[15,5])\n",
    "\n",
    "x_range = range(2 ** len(visible))\n",
    "data_dist = data_to_dict(b_data)\n",
    "init_model_dist = model_history[-1]\n",
    "width = 0.4\n",
    "\n",
    "m_bars = ax.bar(x_range, y_range(init_model_dist, x_range), color='palegreen', label=r'$P^{model}_v$', align='edge', width=width)\n",
    "d_bars = ax.bar(x_range, y_range(data_dist, x_range), color='lightsalmon', label=r'$P^{data}_v$', align='edge', width=-width)\n",
    "\n",
    "plt.grid(alpha=.4, linestyle='--')\n",
    "plt.legend(fontsize=14)\n",
    "plt.xlabel(r'Visible state', fontsize=14)\n",
    "plt.ylabel('Probability', fontsize=14)\n",
    "\n",
    "plt.show()"
   ]
  },
  {
   "cell_type": "code",
   "execution_count": 17,
   "metadata": {},
   "outputs": [
    {
     "name": "stderr",
     "output_type": "stream",
     "text": [
      "/home/jviszlai/Envs/coresets/lib/python3.7/site-packages/matplotlib/cbook/__init__.py:1333: ComplexWarning: Casting complex values to real discards the imaginary part\n",
      "  return np.asarray(x, float)\n"
     ]
    },
    {
     "data": {
      "text/plain": [
       "[<matplotlib.lines.Line2D at 0x7f09b2b0deb8>]"
      ]
     },
     "execution_count": 17,
     "metadata": {},
     "output_type": "execute_result"
    },
    {
     "data": {
      "image/png": "[encoded data removed]",
      "text/plain": [
       "<Figure size 432x288 with 1 Axes>"
      ]
     },
     "metadata": {
      "needs_background": "light"
     },
     "output_type": "display_data"
    }
   ],
   "source": [
    "plt.clf()\n",
    "plt.plot(range(len(kl_history)), kl_history)"
   ]
  },
  {
   "cell_type": "code",
   "execution_count": 104,
   "metadata": {},
   "outputs": [],
   "source": [
    "coreset_size = 640\n",
    "\n",
    "b_data_dist = data_to_tuple_dict(b_data)\n",
    "dist = Distribution(b_data_dist)\n",
    "\n",
    "imp_sampling = ImportanceSampler()\n",
    "coreset = Coreset()\n",
    "imp_sampling.update_coreset(coreset, b_data, [dist], coreset_size)"
   ]
  },
  {
   "cell_type": "code",
   "execution_count": 13,
   "metadata": {},
   "outputs": [
    {
     "name": "stdout",
     "output_type": "stream",
     "text": [
      "Epoch 1\n",
      "...Batch 20 / 204\n",
      "...KL: (2.667492684910808+0j)\n",
      "...Batch 40 / 204\n",
      "...KL: (2.496124961333995+0j)\n",
      "...Batch 60 / 204\n",
      "...KL: (2.4674604712913966+0j)\n",
      "...Batch 80 / 204\n",
      "...KL: (2.464212993219086+0j)\n",
      "...Batch 100 / 204\n",
      "...KL: (2.4569289736704127+0j)\n",
      "...Batch 120 / 204\n",
      "...KL: (2.4657325433291315+0j)\n",
      "...Batch 140 / 204\n",
      "...KL: (2.4588916819378013+0j)\n",
      "...Batch 160 / 204\n",
      "...KL: (2.455610418243907+0j)\n",
      "...Batch 180 / 204\n",
      "...KL: (2.45922861505517+0j)\n",
      "...Batch 200 / 204\n",
      "...KL: (2.458496197545993+0j)\n",
      "Epoch 2\n",
      "...Batch 20 / 204\n",
      "...KL: (2.4568956731474434+0j)\n",
      "...Batch 40 / 204\n",
      "...KL: (2.456256371137573+0j)\n",
      "...Batch 60 / 204\n",
      "...KL: (2.4594788968975054+0j)\n",
      "...Batch 80 / 204\n",
      "...KL: (2.4605191887543874+0j)\n",
      "...Batch 100 / 204\n",
      "...KL: (2.457000247988998+0j)\n",
      "...Batch 120 / 204\n",
      "...KL: (2.466742457460785+0j)\n",
      "...Batch 140 / 204\n",
      "...KL: (2.4597940021030316+0j)\n",
      "...Batch 160 / 204\n",
      "...KL: (2.4555531088885774+0j)\n",
      "...Batch 180 / 204\n",
      "...KL: (2.458798680780293+0j)\n",
      "...Batch 200 / 204\n",
      "...KL: (2.458137917224367+0j)\n",
      "Epoch 3\n",
      "...Batch 20 / 204\n",
      "...KL: (2.4568130932465264+0j)\n",
      "...Batch 40 / 204\n",
      "...KL: (2.4562069473789028+0j)\n",
      "...Batch 60 / 204\n",
      "...KL: (2.459449481958375+0j)\n",
      "...Batch 80 / 204\n",
      "...KL: (2.460511115293039+0j)\n",
      "...Batch 100 / 204\n",
      "...KL: (2.457018218541359+0j)\n",
      "...Batch 120 / 204\n",
      "...KL: (2.4667578873157603+0j)\n",
      "...Batch 140 / 204\n",
      "...KL: (2.459812419915109+0j)\n",
      "...Batch 160 / 204\n",
      "...KL: (2.4555514391770092+0j)\n",
      "...Batch 180 / 204\n",
      "...KL: (2.4587883043203593+0j)\n",
      "...Batch 200 / 204\n",
      "...KL: (2.4581294804956637+0j)\n",
      "Epoch 4\n",
      "...Batch 20 / 204\n",
      "...KL: (2.456810625022835+0j)\n",
      "...Batch 40 / 204\n",
      "...KL: (2.4562055188290315+0j)\n",
      "...Batch 60 / 204\n",
      "...KL: (2.45944676432767+0j)\n",
      "...Batch 80 / 204\n",
      "...KL: (2.4605077802507376+0j)\n",
      "...Batch 100 / 204\n",
      "...KL: (2.4570188905089867+0j)\n",
      "...Batch 120 / 204\n",
      "...KL: (2.466754474713697+0j)\n",
      "...Batch 140 / 204\n",
      "...KL: (2.4598131095816056+0j)\n",
      "...Batch 160 / 204\n",
      "...KL: (2.455550592483159+0j)\n",
      "...Batch 180 / 204\n",
      "...KL: (2.458786798257448+0j)\n",
      "...Batch 200 / 204\n",
      "...KL: (2.4581283127517985+0j)\n",
      "Epoch 5\n",
      "...Batch 20 / 204\n",
      "...KL: (2.456810221979203+0j)\n",
      "...Batch 40 / 204\n",
      "...KL: (2.4562053807637305+0j)\n",
      "...Batch 60 / 204\n",
      "...KL: (2.4594458531233165+0j)\n",
      "...Batch 80 / 204\n",
      "...KL: (2.4605062135688143+0j)\n",
      "...Batch 100 / 204\n",
      "...KL: (2.4570189607675337+0j)\n",
      "...Batch 120 / 204\n",
      "...KL: (2.4667525389807072+0j)\n",
      "...Batch 140 / 204\n",
      "...KL: (2.4598131498858744+0j)\n",
      "...Batch 160 / 204\n",
      "...KL: (2.4555501994959816+0j)\n",
      "...Batch 180 / 204\n",
      "...KL: (2.458786229158+0j)\n",
      "...Batch 200 / 204\n",
      "...KL: (2.4581278792914234+0j)\n",
      "Epoch 6\n",
      "...Batch 20 / 204\n",
      "...KL: (2.456810069542842+0j)\n",
      "...Batch 40 / 204\n",
      "...KL: (2.456205344298274+0j)\n",
      "...Batch 60 / 204\n",
      "...KL: (2.4594454409871727+0j)\n",
      "...Batch 80 / 204\n",
      "...KL: (2.4605054655180276+0j)\n",
      "...Batch 100 / 204\n",
      "...KL: (2.457018979692918+0j)\n",
      "...Batch 120 / 204\n",
      "...KL: (2.4667515997641845+0j)\n",
      "...Batch 140 / 204\n",
      "...KL: (2.459813157656841+0j)\n",
      "...Batch 160 / 204\n",
      "...KL: (2.4555500116945255+0j)\n",
      "...Batch 180 / 204\n",
      "...KL: (2.4587859648921153+0j)\n",
      "...Batch 200 / 204\n",
      "...KL: (2.4581276781434225+0j)\n",
      "Epoch 7\n",
      "...Batch 20 / 204\n",
      "...KL: (2.45680999613694+0j)\n",
      "...Batch 40 / 204\n",
      "...KL: (2.4562053257724807+0j)\n",
      "...Batch 60 / 204\n",
      "...KL: (2.4594452439868286+0j)\n",
      "...Batch 80 / 204\n",
      "...KL: (2.4605051153948927+0j)\n",
      "...Batch 100 / 204\n",
      "...KL: (2.457018987937468+0j)\n",
      "...Batch 120 / 204\n",
      "...KL: (2.466751141126972+0j)\n",
      "...Batch 140 / 204\n",
      "...KL: (2.4598131526425737+0j)\n",
      "...Batch 160 / 204\n",
      "...KL: (2.4555499211817047+0j)\n",
      "...Batch 180 / 204\n",
      "...KL: (2.4587858414449686+0j)\n",
      "...Batch 200 / 204\n",
      "...KL: (2.458127584378703+0j)\n",
      "Epoch 8\n",
      "...Batch 20 / 204\n",
      "...KL: (2.4568099640047487+0j)\n",
      "...Batch 40 / 204\n",
      "...KL: (2.4562053186994555+0j)\n",
      "...Batch 60 / 204\n",
      "...KL: (2.459445151356962+0j)\n",
      "...Batch 80 / 204\n",
      "...KL: (2.460504946905927+0j)\n",
      "...Batch 100 / 204\n",
      "...KL: (2.4570189927581594+0j)\n",
      "...Batch 120 / 204\n",
      "...KL: (2.466750933068043+0j)\n",
      "...Batch 140 / 204\n",
      "...KL: (2.4598131591919525+0j)\n",
      "...Batch 160 / 204\n",
      "...KL: (2.4555498791415586+0j)\n",
      "...Batch 180 / 204\n",
      "...KL: (2.4587857879980675+0j)\n",
      "...Batch 200 / 204\n",
      "...KL: (2.4581275406537486+0j)\n",
      "Epoch 9\n",
      "...Batch 20 / 204\n",
      "...KL: (2.4568099464404+0j)\n",
      "...Batch 40 / 204\n",
      "...KL: (2.4562053137132556+0j)\n",
      "...Batch 60 / 204\n",
      "...KL: (2.459445108476034+0j)\n",
      "...Batch 80 / 204\n",
      "...KL: (2.4605048667264056+0j)\n",
      "...Batch 100 / 204\n",
      "...KL: (2.457018995989085+0j)\n",
      "...Batch 120 / 204\n",
      "...KL: (2.4667508332078416+0j)\n",
      "...Batch 140 / 204\n",
      "...KL: (2.4598131623321824+0j)\n",
      "...Batch 160 / 204\n",
      "...KL: (2.4555498606727766+0j)\n",
      "...Batch 180 / 204\n",
      "...KL: (2.4587857559890747+0j)\n",
      "...Batch 200 / 204\n",
      "...KL: (2.4581275131597224+0j)\n",
      "Epoch 10\n",
      "...Batch 20 / 204\n",
      "...KL: (2.4568099387160784+0j)\n",
      "...Batch 40 / 204\n",
      "...KL: (2.456205311307771+0j)\n",
      "...Batch 60 / 204\n",
      "...KL: (2.4594450853342473+0j)\n",
      "...Batch 80 / 204\n",
      "...KL: (2.460504827942112+0j)\n",
      "...Batch 100 / 204\n",
      "...KL: (2.457018997122854+0j)\n",
      "...Batch 120 / 204\n",
      "...KL: (2.46675077914654+0j)\n",
      "...Batch 140 / 204\n",
      "...KL: (2.459813163845139+0j)\n",
      "...Batch 160 / 204\n",
      "...KL: (2.4555498503552737+0j)\n",
      "...Batch 180 / 204\n",
      "...KL: (2.458785743801406+0j)\n",
      "...Batch 200 / 204\n",
      "...KL: (2.4581274988084365+0j)\n"
     ]
    }
   ],
   "source": [
    "pamc_qbm = PAMC_QBM(visible, hidden, gamma=2, population_size=512)\n",
    "model_history, kl_history = pamc_qbm.train(b_data, epochs=10, batch_size=10, betas=np.linspace(0, 10, 5), learning_rate=0.1, exact=True, coreset=None)#coreset.coreset)"
   ]
  },
  {
   "cell_type": "code",
   "execution_count": 14,
   "metadata": {},
   "outputs": [
    {
     "name": "stderr",
     "output_type": "stream",
     "text": [
      "/home/jviszlai/Envs/coresets/lib/python3.7/site-packages/matplotlib/cbook/__init__.py:1333: ComplexWarning: Casting complex values to real discards the imaginary part\n",
      "  return np.asarray(x, float)\n"
     ]
    },
    {
     "data": {
      "text/plain": [
       "[<matplotlib.lines.Line2D at 0x7f767473c0f0>]"
      ]
     },
     "execution_count": 14,
     "metadata": {},
     "output_type": "execute_result"
    },
    {
     "data": {
      "image/png": "[encoded data removed]",
      "text/plain": [
       "<Figure size 432x288 with 1 Axes>"
      ]
     },
     "metadata": {
      "needs_background": "light"
     },
     "output_type": "display_data"
    }
   ],
   "source": [
    "plt.plot(kl_history)"
   ]
  },
  {
   "cell_type": "code",
   "execution_count": 25,
   "metadata": {},
   "outputs": [
    {
     "data": {
      "image/png": "[encoded data removed]",
      "text/plain": [
       "<Figure size 1080x360 with 1 Axes>"
      ]
     },
     "metadata": {
      "needs_background": "light"
     },
     "output_type": "display_data"
    }
   ],
   "source": [
    "fig, ax = plt.subplots(figsize=[15,5])\n",
    "\n",
    "x_range = range(2 ** len(visible))\n",
    "data_dist = data_to_dict(b_data)\n",
    "init_model_dist = model_history[7]\n",
    "width = 0.4\n",
    "\n",
    "m_bars = ax.bar(x_range, y_range(init_model_dist, x_range), color='palegreen', label=r'$P^{model}_v$', align='edge', width=width)\n",
    "d_bars = ax.bar(x_range, y_range(data_dist, x_range), color='lightsalmon', label=r'$P^{data}_v$', align='edge', width=-width)\n",
    "\n",
    "plt.grid(alpha=.4, linestyle='--')\n",
    "plt.legend(fontsize=14)\n",
    "plt.xlabel(r'Visible state', fontsize=14)\n",
    "plt.ylabel('Probability', fontsize=14)\n",
    "\n",
    "plt.show()"
   ]
  },
  {
   "cell_type": "code",
   "execution_count": null,
   "metadata": {},
   "outputs": [],
   "source": [
    "# from matplotlib.animation import FuncAnimation\n",
    "# %matplotlib widget"
   ]
  },
  {
   "cell_type": "code",
   "execution_count": null,
   "metadata": {},
   "outputs": [],
   "source": [
    "# def update(frame):\n",
    "#     #model_population = pop_history[frame]\n",
    "#     #model_dict = data_to_dict(model_population[:, :len(visible)])\n",
    "#     model_dict = pop_history[frame]\n",
    "#     for rect, y in zip(m_bars, y_range(model_dict, x_range)):\n",
    "#         rect.set_height(y)\n",
    "#     plt.title(f\"frame: {frame}\")\n",
    "\n",
    "# anim = FuncAnimation(fig, update, interval=50, frames=np.array(range(len(pop_history))))\n",
    "# plt.show()"
   ]
  },
  {
   "cell_type": "code",
   "execution_count": null,
   "metadata": {},
   "outputs": [],
   "source": []
  }
 ],
 "metadata": {
  "interpreter": {
   "hash": "318d733d789b99934b4692f7b9d166009d4909f5c7c141e64be9f06f51c1475e"
  },
  "kernelspec": {
   "display_name": "Coresets",
   "language": "python",
   "name": "python3"
  },
  "language_info": {
   "codemirror_mode": {
    "name": "ipython",
    "version": 3
   },
   "file_extension": ".py",
   "mimetype": "text/x-python",
   "name": "python",
   "nbconvert_exporter": "python",
   "pygments_lexer": "ipython3",
   "version": "3.7.2"
  }
 },
 "nbformat": 4,
 "nbformat_minor": 2
}
