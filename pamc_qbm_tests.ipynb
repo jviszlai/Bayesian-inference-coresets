{
 "cells": [
  {
   "cell_type": "code",
   "execution_count": 21,
   "metadata": {},
   "outputs": [],
   "source": [
    "import networkx as nx\n",
    "import numpy as np\n",
    "import matplotlib.pyplot as plt"
   ]
  },
  {
   "cell_type": "code",
   "execution_count": 2,
   "metadata": {},
   "outputs": [],
   "source": [
    "num_visible = 4\n",
    "num_hidden = 2 "
   ]
  },
  {
   "cell_type": "code",
   "execution_count": 3,
   "metadata": {},
   "outputs": [
    {
     "data": {
      "image/png": "[encoded data removed]",
      "text/plain": [
       "<Figure size 432x288 with 1 Axes>"
      ]
     },
     "metadata": {},
     "output_type": "display_data"
    }
   ],
   "source": [
    "visible = [i for i in range(num_visible)]\n",
    "hidden = [num_visible + j for j in range(num_hidden)]\n",
    "edges = [(i, j) for i in visible for j in hidden]\n",
    "\n",
    "G = nx.Graph()\n",
    "G.add_edges_from(edges)\n",
    "nx.draw_circular(G, with_labels=True, node_color='gold')"
   ]
  },
  {
   "cell_type": "code",
   "execution_count": 8,
   "metadata": {},
   "outputs": [
    {
     "name": "stderr",
     "output_type": "stream",
     "text": [
      "2022-03-07 14:30:26.476195: W tensorflow/stream_executor/platform/default/dso_loader.cc:64] Could not load dynamic library 'libcudart.so.11.0'; dlerror: libcudart.so.11.0: cannot open shared object file: No such file or directory\n",
      "2022-03-07 14:30:26.476213: I tensorflow/stream_executor/cuda/cudart_stub.cc:29] Ignore above cudart dlerror if you do not have a GPU set up on your machine.\n"
     ]
    }
   ],
   "source": [
    "from active_coresets.pamc_qbm import PAMC_QBM"
   ]
  },
  {
   "cell_type": "code",
   "execution_count": 36,
   "metadata": {},
   "outputs": [],
   "source": [
    "import importlib\n",
    "import active_coresets\n",
    "importlib.reload(active_coresets.qmc_tim_qbm)\n",
    "importlib.reload(active_coresets.pamc_qbm)\n",
    "from active_coresets.pamc_qbm import PAMC_QBM"
   ]
  },
  {
   "cell_type": "code",
   "execution_count": 37,
   "metadata": {},
   "outputs": [],
   "source": [
    "data_size = 100\n",
    "data = -2 * np.random.randint(0, 2, size=(100, num_visible)) + np.ones((100, num_visible))"
   ]
  },
  {
   "cell_type": "code",
   "execution_count": 44,
   "metadata": {},
   "outputs": [
    {
     "name": "stdout",
     "output_type": "stream",
     "text": [
      "Epoch 1\n",
      "...Batch 1 / 10\n",
      "...Batch 2 / 10\n",
      "...Batch 3 / 10\n",
      "...Batch 4 / 10\n",
      "...Batch 5 / 10\n",
      "...Batch 6 / 10\n",
      "...Batch 7 / 10\n",
      "...Batch 8 / 10\n",
      "...Batch 9 / 10\n",
      "...Batch 10 / 10\n",
      "Epoch 2\n",
      "...Batch 1 / 10\n",
      "...Batch 2 / 10\n",
      "...Batch 3 / 10\n",
      "...Batch 4 / 10\n",
      "...Batch 5 / 10\n",
      "...Batch 6 / 10\n",
      "...Batch 7 / 10\n",
      "...Batch 8 / 10\n",
      "...Batch 9 / 10\n",
      "...Batch 10 / 10\n",
      "Epoch 3\n",
      "...Batch 1 / 10\n",
      "...Batch 2 / 10\n",
      "...Batch 3 / 10\n",
      "...Batch 4 / 10\n",
      "...Batch 5 / 10\n",
      "...Batch 6 / 10\n",
      "...Batch 7 / 10\n",
      "...Batch 8 / 10\n",
      "...Batch 9 / 10\n",
      "...Batch 10 / 10\n"
     ]
    }
   ],
   "source": [
    "pamc_qbm = PAMC_QBM(visible, hidden, gamma=2, population_size=512)\n",
    "pop_history = pamc_qbm.train(data.astype(np.float32), epochs=3, batch_size=10, betas=np.linspace(0,1,5).astype(np.float32), num_its=10)"
   ]
  },
  {
   "cell_type": "code",
   "execution_count": 83,
   "metadata": {},
   "outputs": [
    {
     "name": "stdout",
     "output_type": "stream",
     "text": [
      "Warning: Cannot change to a different GUI toolkit: ipympl. Using qt instead.\n"
     ]
    }
   ],
   "source": [
    "from matplotlib.animation import FuncAnimation\n",
    "%matplotlib ipympl"
   ]
  },
  {
   "cell_type": "code",
   "execution_count": 65,
   "metadata": {},
   "outputs": [],
   "source": [
    "def data_to_dict(data):\n",
    "    dict = {}\n",
    "    for z_pt in data:\n",
    "        bitstring = ''.join(['0' if b == 1 else '1' for b in z_pt])\n",
    "        pt = int(bitstring, 2)\n",
    "        if pt in dict:\n",
    "            dict[pt] += 1\n",
    "        else:\n",
    "            dict[pt] = 1\n",
    "    return {k: v / sum(dict.values()) for k, v in dict.items()}"
   ]
  },
  {
   "cell_type": "code",
   "execution_count": 58,
   "metadata": {},
   "outputs": [],
   "source": [
    "def y_range(dict, x_range):\n",
    "    y = []\n",
    "    for x in x_range:\n",
    "        if x in dict:\n",
    "            y.append(dict[x])\n",
    "        else:\n",
    "            y.append(0)\n",
    "    return y"
   ]
  },
  {
   "cell_type": "code",
   "execution_count": 99,
   "metadata": {},
   "outputs": [],
   "source": [
    "for rect, y in zip(m_bars, y_range(pop_history[0][:, :len(visible)], x_range)):\n",
    "    rect.set_height(y)"
   ]
  },
  {
   "cell_type": "code",
   "execution_count": null,
   "metadata": {},
   "outputs": [
    {
     "name": "stdout",
     "output_type": "stream",
     "text": [
      "0\n"
     ]
    },
    {
     "name": "stderr",
     "output_type": "stream",
     "text": [
      "/home/jviszlai/Envs/coresets/lib/python3.7/site-packages/numpy/core/fromnumeric.py:43: VisibleDeprecationWarning: Creating an ndarray from ragged nested sequences (which is a list-or-tuple of lists-or-tuples-or ndarrays with different lengths or shapes) is deprecated. If you meant to do this, you must specify 'dtype=object' when creating the ndarray.\n",
      "  result = getattr(asarray(obj), method)(*args, **kwds)\n",
      "TypeError: only size-1 arrays can be converted to Python scalars\n",
      "\n",
      "The above exception was the direct cause of the following exception:\n",
      "\n",
      "Traceback (most recent call last):\n",
      "  File \"/home/jviszlai/Envs/coresets/lib/python3.7/site-packages/matplotlib/backends/backend_qt5.py\", line 475, in _draw_idle\n",
      "    self.draw()\n",
      "  File \"/home/jviszlai/Envs/coresets/lib/python3.7/site-packages/matplotlib/backends/backend_agg.py\", line 406, in draw\n",
      "    self.figure.draw(self.renderer)\n",
      "  File \"/home/jviszlai/Envs/coresets/lib/python3.7/site-packages/matplotlib/artist.py\", line 74, in draw_wrapper\n",
      "    result = draw(artist, renderer, *args, **kwargs)\n",
      "  File \"/home/jviszlai/Envs/coresets/lib/python3.7/site-packages/matplotlib/artist.py\", line 51, in draw_wrapper\n",
      "    return draw(artist, renderer, *args, **kwargs)\n",
      "  File \"/home/jviszlai/Envs/coresets/lib/python3.7/site-packages/matplotlib/figure.py\", line 2781, in draw\n",
      "    renderer, self, artists, self.suppressComposite)\n",
      "  File \"/home/jviszlai/Envs/coresets/lib/python3.7/site-packages/matplotlib/image.py\", line 132, in _draw_list_compositing_images\n",
      "    a.draw(renderer)\n",
      "  File \"/home/jviszlai/Envs/coresets/lib/python3.7/site-packages/matplotlib/artist.py\", line 51, in draw_wrapper\n",
      "    return draw(artist, renderer, *args, **kwargs)\n",
      "  File \"/home/jviszlai/Envs/coresets/lib/python3.7/site-packages/matplotlib/_api/deprecation.py\", line 431, in wrapper\n",
      "    return func(*inner_args, **inner_kwargs)\n",
      "  File \"/home/jviszlai/Envs/coresets/lib/python3.7/site-packages/matplotlib/axes/_base.py\", line 2921, in draw\n",
      "    mimage._draw_list_compositing_images(renderer, self, artists)\n",
      "  File \"/home/jviszlai/Envs/coresets/lib/python3.7/site-packages/matplotlib/image.py\", line 132, in _draw_list_compositing_images\n",
      "    a.draw(renderer)\n",
      "  File \"/home/jviszlai/Envs/coresets/lib/python3.7/site-packages/matplotlib/artist.py\", line 51, in draw_wrapper\n",
      "    return draw(artist, renderer, *args, **kwargs)\n",
      "  File \"/home/jviszlai/Envs/coresets/lib/python3.7/site-packages/matplotlib/patches.py\", line 607, in draw\n",
      "    transform = self.get_transform()\n",
      "  File \"/home/jviszlai/Envs/coresets/lib/python3.7/site-packages/matplotlib/patches.py\", line 273, in get_transform\n",
      "    return self.get_patch_transform() + artist.Artist.get_transform(self)\n",
      "  File \"/home/jviszlai/Envs/coresets/lib/python3.7/site-packages/matplotlib/patches.py\", line 777, in get_patch_transform\n",
      "    bbox = self.get_bbox()\n",
      "  File \"/home/jviszlai/Envs/coresets/lib/python3.7/site-packages/matplotlib/patches.py\", line 857, in get_bbox\n",
      "    return transforms.Bbox.from_extents(x0, y0, x1, y1)\n",
      "  File \"/home/jviszlai/Envs/coresets/lib/python3.7/site-packages/matplotlib/transforms.py\", line 846, in from_extents\n",
      "    bbox = Bbox(np.reshape(args, (2, 2)))\n",
      "  File \"/home/jviszlai/Envs/coresets/lib/python3.7/site-packages/matplotlib/transforms.py\", line 788, in __init__\n",
      "    points = np.asarray(points, float)\n",
      "ValueError: setting an array element with a sequence.\n"
     ]
    },
    {
     "name": "stdout",
     "output_type": "stream",
     "text": [
      "0\n",
      "1\n"
     ]
    },
    {
     "name": "stderr",
     "output_type": "stream",
     "text": [
      "TypeError: only size-1 arrays can be converted to Python scalars\n",
      "\n",
      "The above exception was the direct cause of the following exception:\n",
      "\n",
      "Traceback (most recent call last):\n",
      "  File \"/home/jviszlai/Envs/coresets/lib/python3.7/site-packages/matplotlib/backends/backend_qt5.py\", line 475, in _draw_idle\n",
      "    self.draw()\n",
      "  File \"/home/jviszlai/Envs/coresets/lib/python3.7/site-packages/matplotlib/backends/backend_agg.py\", line 406, in draw\n",
      "    self.figure.draw(self.renderer)\n",
      "  File \"/home/jviszlai/Envs/coresets/lib/python3.7/site-packages/matplotlib/artist.py\", line 74, in draw_wrapper\n",
      "    result = draw(artist, renderer, *args, **kwargs)\n",
      "  File \"/home/jviszlai/Envs/coresets/lib/python3.7/site-packages/matplotlib/artist.py\", line 51, in draw_wrapper\n",
      "    return draw(artist, renderer, *args, **kwargs)\n",
      "  File \"/home/jviszlai/Envs/coresets/lib/python3.7/site-packages/matplotlib/figure.py\", line 2781, in draw\n",
      "    renderer, self, artists, self.suppressComposite)\n",
      "  File \"/home/jviszlai/Envs/coresets/lib/python3.7/site-packages/matplotlib/image.py\", line 132, in _draw_list_compositing_images\n",
      "    a.draw(renderer)\n",
      "  File \"/home/jviszlai/Envs/coresets/lib/python3.7/site-packages/matplotlib/artist.py\", line 51, in draw_wrapper\n",
      "    return draw(artist, renderer, *args, **kwargs)\n",
      "  File \"/home/jviszlai/Envs/coresets/lib/python3.7/site-packages/matplotlib/_api/deprecation.py\", line 431, in wrapper\n",
      "    return func(*inner_args, **inner_kwargs)\n",
      "  File \"/home/jviszlai/Envs/coresets/lib/python3.7/site-packages/matplotlib/axes/_base.py\", line 2921, in draw\n",
      "    mimage._draw_list_compositing_images(renderer, self, artists)\n",
      "  File \"/home/jviszlai/Envs/coresets/lib/python3.7/site-packages/matplotlib/image.py\", line 132, in _draw_list_compositing_images\n",
      "    a.draw(renderer)\n",
      "  File \"/home/jviszlai/Envs/coresets/lib/python3.7/site-packages/matplotlib/artist.py\", line 51, in draw_wrapper\n",
      "    return draw(artist, renderer, *args, **kwargs)\n",
      "  File \"/home/jviszlai/Envs/coresets/lib/python3.7/site-packages/matplotlib/patches.py\", line 607, in draw\n",
      "    transform = self.get_transform()\n",
      "  File \"/home/jviszlai/Envs/coresets/lib/python3.7/site-packages/matplotlib/patches.py\", line 273, in get_transform\n",
      "    return self.get_patch_transform() + artist.Artist.get_transform(self)\n",
      "  File \"/home/jviszlai/Envs/coresets/lib/python3.7/site-packages/matplotlib/patches.py\", line 777, in get_patch_transform\n",
      "    bbox = self.get_bbox()\n",
      "  File \"/home/jviszlai/Envs/coresets/lib/python3.7/site-packages/matplotlib/patches.py\", line 857, in get_bbox\n",
      "    return transforms.Bbox.from_extents(x0, y0, x1, y1)\n",
      "  File \"/home/jviszlai/Envs/coresets/lib/python3.7/site-packages/matplotlib/transforms.py\", line 846, in from_extents\n",
      "    bbox = Bbox(np.reshape(args, (2, 2)))\n",
      "  File \"/home/jviszlai/Envs/coresets/lib/python3.7/site-packages/matplotlib/transforms.py\", line 788, in __init__\n",
      "    points = np.asarray(points, float)\n",
      "ValueError: setting an array element with a sequence.\n",
      "Traceback (most recent call last):\n",
      "  File \"/home/jviszlai/Envs/coresets/lib/python3.7/site-packages/matplotlib/backend_bases.py\", line 1216, in _on_timer\n",
      "    ret = func(*args, **kwargs)\n",
      "  File \"/home/jviszlai/Envs/coresets/lib/python3.7/site-packages/matplotlib/animation.py\", line 1477, in _step\n",
      "    still_going = super()._step(*args)\n",
      "  File \"/home/jviszlai/Envs/coresets/lib/python3.7/site-packages/matplotlib/animation.py\", line 1189, in _step\n",
      "    self._draw_next_frame(framedata, self._blit)\n",
      "  File \"/home/jviszlai/Envs/coresets/lib/python3.7/site-packages/matplotlib/animation.py\", line 1208, in _draw_next_frame\n",
      "    self._draw_frame(framedata)\n",
      "  File \"/home/jviszlai/Envs/coresets/lib/python3.7/site-packages/matplotlib/animation.py\", line 1776, in _draw_frame\n",
      "    self._drawn_artists = self._func(framedata, *self._args)\n",
      "  File \"/tmp/ipykernel_212606/4098761645.py\", line 19, in update\n",
      "    for rect, y in zip(m_bars, y_range(model_population[:, :len(visible)], x_range)):\n",
      "  File \"/tmp/ipykernel_212606/3635383174.py\", line 4, in y_range\n",
      "    if x in dict:\n",
      "  File \"/home/jviszlai/Envs/coresets/lib/python3.7/site-packages/tensorflow/python/framework/ops.py\", line 1060, in __bool__\n",
      "    return bool(self._numpy())\n",
      "ValueError: The truth value of an array with more than one element is ambiguous. Use a.any() or a.all()\n"
     ]
    },
    {
     "name": "stdout",
     "output_type": "stream",
     "text": [
      "2\n",
      "3\n"
     ]
    },
    {
     "name": "stderr",
     "output_type": "stream",
     "text": [
      "Traceback (most recent call last):\n",
      "  File \"/home/jviszlai/Envs/coresets/lib/python3.7/site-packages/matplotlib/backend_bases.py\", line 1216, in _on_timer\n",
      "    ret = func(*args, **kwargs)\n",
      "  File \"/home/jviszlai/Envs/coresets/lib/python3.7/site-packages/matplotlib/animation.py\", line 1477, in _step\n",
      "    still_going = super()._step(*args)\n",
      "  File \"/home/jviszlai/Envs/coresets/lib/python3.7/site-packages/matplotlib/animation.py\", line 1189, in _step\n",
      "    self._draw_next_frame(framedata, self._blit)\n",
      "  File \"/home/jviszlai/Envs/coresets/lib/python3.7/site-packages/matplotlib/animation.py\", line 1208, in _draw_next_frame\n",
      "    self._draw_frame(framedata)\n",
      "  File \"/home/jviszlai/Envs/coresets/lib/python3.7/site-packages/matplotlib/animation.py\", line 1776, in _draw_frame\n",
      "    self._drawn_artists = self._func(framedata, *self._args)\n",
      "  File \"/tmp/ipykernel_212606/4098761645.py\", line 19, in update\n",
      "    for rect, y in zip(m_bars, y_range(model_population[:, :len(visible)], x_range)):\n",
      "  File \"/tmp/ipykernel_212606/3635383174.py\", line 4, in y_range\n",
      "    if x in dict:\n",
      "  File \"/home/jviszlai/Envs/coresets/lib/python3.7/site-packages/tensorflow/python/framework/ops.py\", line 1060, in __bool__\n",
      "    return bool(self._numpy())\n",
      "ValueError: The truth value of an array with more than one element is ambiguous. Use a.any() or a.all()\n",
      "Traceback (most recent call last):\n",
      "  File \"/home/jviszlai/Envs/coresets/lib/python3.7/site-packages/matplotlib/backend_bases.py\", line 1216, in _on_timer\n",
      "    ret = func(*args, **kwargs)\n",
      "  File \"/home/jviszlai/Envs/coresets/lib/python3.7/site-packages/matplotlib/animation.py\", line 1477, in _step\n",
      "    still_going = super()._step(*args)\n",
      "  File \"/home/jviszlai/Envs/coresets/lib/python3.7/site-packages/matplotlib/animation.py\", line 1189, in _step\n",
      "    self._draw_next_frame(framedata, self._blit)\n",
      "  File \"/home/jviszlai/Envs/coresets/lib/python3.7/site-packages/matplotlib/animation.py\", line 1208, in _draw_next_frame\n",
      "    self._draw_frame(framedata)\n",
      "  File \"/home/jviszlai/Envs/coresets/lib/python3.7/site-packages/matplotlib/animation.py\", line 1776, in _draw_frame\n",
      "    self._drawn_artists = self._func(framedata, *self._args)\n",
      "  File \"/tmp/ipykernel_212606/4098761645.py\", line 19, in update\n",
      "    for rect, y in zip(m_bars, y_range(model_population[:, :len(visible)], x_range)):\n",
      "  File \"/tmp/ipykernel_212606/3635383174.py\", line 4, in y_range\n",
      "    if x in dict:\n",
      "  File \"/home/jviszlai/Envs/coresets/lib/python3.7/site-packages/tensorflow/python/framework/ops.py\", line 1060, in __bool__\n",
      "    return bool(self._numpy())\n",
      "ValueError: The truth value of an array with more than one element is ambiguous. Use a.any() or a.all()\n",
      "Traceback (most recent call last):\n"
     ]
    },
    {
     "name": "stdout",
     "output_type": "stream",
     "text": [
      "4\n",
      "5\n"
     ]
    },
    {
     "name": "stderr",
     "output_type": "stream",
     "text": [
      "  File \"/home/jviszlai/Envs/coresets/lib/python3.7/site-packages/matplotlib/backend_bases.py\", line 1216, in _on_timer\n",
      "    ret = func(*args, **kwargs)\n",
      "  File \"/home/jviszlai/Envs/coresets/lib/python3.7/site-packages/matplotlib/animation.py\", line 1477, in _step\n",
      "    still_going = super()._step(*args)\n",
      "  File \"/home/jviszlai/Envs/coresets/lib/python3.7/site-packages/matplotlib/animation.py\", line 1189, in _step\n",
      "    self._draw_next_frame(framedata, self._blit)\n",
      "  File \"/home/jviszlai/Envs/coresets/lib/python3.7/site-packages/matplotlib/animation.py\", line 1208, in _draw_next_frame\n",
      "    self._draw_frame(framedata)\n",
      "  File \"/home/jviszlai/Envs/coresets/lib/python3.7/site-packages/matplotlib/animation.py\", line 1776, in _draw_frame\n",
      "    self._drawn_artists = self._func(framedata, *self._args)\n",
      "  File \"/tmp/ipykernel_212606/4098761645.py\", line 19, in update\n",
      "    for rect, y in zip(m_bars, y_range(model_population[:, :len(visible)], x_range)):\n",
      "  File \"/tmp/ipykernel_212606/3635383174.py\", line 4, in y_range\n",
      "    if x in dict:\n",
      "  File \"/home/jviszlai/Envs/coresets/lib/python3.7/site-packages/tensorflow/python/framework/ops.py\", line 1060, in __bool__\n",
      "    return bool(self._numpy())\n",
      "ValueError: The truth value of an array with more than one element is ambiguous. Use a.any() or a.all()\n",
      "Traceback (most recent call last):\n",
      "  File \"/home/jviszlai/Envs/coresets/lib/python3.7/site-packages/matplotlib/backend_bases.py\", line 1216, in _on_timer\n",
      "    ret = func(*args, **kwargs)\n",
      "  File \"/home/jviszlai/Envs/coresets/lib/python3.7/site-packages/matplotlib/animation.py\", line 1477, in _step\n",
      "    still_going = super()._step(*args)\n",
      "  File \"/home/jviszlai/Envs/coresets/lib/python3.7/site-packages/matplotlib/animation.py\", line 1189, in _step\n",
      "    self._draw_next_frame(framedata, self._blit)\n",
      "  File \"/home/jviszlai/Envs/coresets/lib/python3.7/site-packages/matplotlib/animation.py\", line 1208, in _draw_next_frame\n",
      "    self._draw_frame(framedata)\n",
      "  File \"/home/jviszlai/Envs/coresets/lib/python3.7/site-packages/matplotlib/animation.py\", line 1776, in _draw_frame\n",
      "    self._drawn_artists = self._func(framedata, *self._args)\n",
      "  File \"/tmp/ipykernel_212606/4098761645.py\", line 19, in update\n",
      "    for rect, y in zip(m_bars, y_range(model_population[:, :len(visible)], x_range)):\n",
      "  File \"/tmp/ipykernel_212606/3635383174.py\", line 4, in y_range\n",
      "    if x in dict:\n",
      "  File \"/home/jviszlai/Envs/coresets/lib/python3.7/site-packages/tensorflow/python/framework/ops.py\", line 1060, in __bool__\n",
      "    return bool(self._numpy())\n",
      "ValueError: The truth value of an array with more than one element is ambiguous. Use a.any() or a.all()\n"
     ]
    },
    {
     "name": "stdout",
     "output_type": "stream",
     "text": [
      "6\n",
      "7\n"
     ]
    },
    {
     "name": "stderr",
     "output_type": "stream",
     "text": [
      "Traceback (most recent call last):\n",
      "  File \"/home/jviszlai/Envs/coresets/lib/python3.7/site-packages/matplotlib/backend_bases.py\", line 1216, in _on_timer\n",
      "    ret = func(*args, **kwargs)\n",
      "  File \"/home/jviszlai/Envs/coresets/lib/python3.7/site-packages/matplotlib/animation.py\", line 1477, in _step\n",
      "    still_going = super()._step(*args)\n",
      "  File \"/home/jviszlai/Envs/coresets/lib/python3.7/site-packages/matplotlib/animation.py\", line 1189, in _step\n",
      "    self._draw_next_frame(framedata, self._blit)\n",
      "  File \"/home/jviszlai/Envs/coresets/lib/python3.7/site-packages/matplotlib/animation.py\", line 1208, in _draw_next_frame\n",
      "    self._draw_frame(framedata)\n",
      "  File \"/home/jviszlai/Envs/coresets/lib/python3.7/site-packages/matplotlib/animation.py\", line 1776, in _draw_frame\n",
      "    self._drawn_artists = self._func(framedata, *self._args)\n",
      "  File \"/tmp/ipykernel_212606/4098761645.py\", line 19, in update\n",
      "    for rect, y in zip(m_bars, y_range(model_population[:, :len(visible)], x_range)):\n",
      "  File \"/tmp/ipykernel_212606/3635383174.py\", line 4, in y_range\n",
      "    if x in dict:\n",
      "  File \"/home/jviszlai/Envs/coresets/lib/python3.7/site-packages/tensorflow/python/framework/ops.py\", line 1060, in __bool__\n",
      "    return bool(self._numpy())\n",
      "ValueError: The truth value of an array with more than one element is ambiguous. Use a.any() or a.all()\n",
      "Traceback (most recent call last):\n",
      "  File \"/home/jviszlai/Envs/coresets/lib/python3.7/site-packages/matplotlib/backend_bases.py\", line 1216, in _on_timer\n",
      "    ret = func(*args, **kwargs)\n",
      "  File \"/home/jviszlai/Envs/coresets/lib/python3.7/site-packages/matplotlib/animation.py\", line 1477, in _step\n",
      "    still_going = super()._step(*args)\n",
      "  File \"/home/jviszlai/Envs/coresets/lib/python3.7/site-packages/matplotlib/animation.py\", line 1189, in _step\n",
      "    self._draw_next_frame(framedata, self._blit)\n",
      "  File \"/home/jviszlai/Envs/coresets/lib/python3.7/site-packages/matplotlib/animation.py\", line 1208, in _draw_next_frame\n",
      "    self._draw_frame(framedata)\n",
      "  File \"/home/jviszlai/Envs/coresets/lib/python3.7/site-packages/matplotlib/animation.py\", line 1776, in _draw_frame\n",
      "    self._drawn_artists = self._func(framedata, *self._args)\n",
      "  File \"/tmp/ipykernel_212606/4098761645.py\", line 19, in update\n",
      "    for rect, y in zip(m_bars, y_range(model_population[:, :len(visible)], x_range)):\n",
      "  File \"/tmp/ipykernel_212606/3635383174.py\", line 4, in y_range\n",
      "    if x in dict:\n",
      "  File \"/home/jviszlai/Envs/coresets/lib/python3.7/site-packages/tensorflow/python/framework/ops.py\", line 1060, in __bool__\n",
      "    return bool(self._numpy())\n",
      "ValueError: The truth value of an array with more than one element is ambiguous. Use a.any() or a.all()\n",
      "Traceback (most recent call last):\n",
      "  File \"/home/jviszlai/Envs/coresets/lib/python3.7/site-packages/matplotlib/backend_bases.py\", line 1216, in _on_timer\n",
      "    ret = func(*args, **kwargs)\n",
      "  File \"/home/jviszlai/Envs/coresets/lib/python3.7/site-packages/matplotlib/animation.py\", line 1477, in _step\n",
      "    still_going = super()._step(*args)\n",
      "  File \"/home/jviszlai/Envs/coresets/lib/python3.7/site-packages/matplotlib/animation.py\", line 1189, in _step\n",
      "    self._draw_next_frame(framedata, self._blit)\n",
      "  File \"/home/jviszlai/Envs/coresets/lib/python3.7/site-packages/matplotlib/animation.py\", line 1208, in _draw_next_frame\n",
      "    self._draw_frame(framedata)\n",
      "  File \"/home/jviszlai/Envs/coresets/lib/python3.7/site-packages/matplotlib/animation.py\", line 1776, in _draw_frame\n",
      "    self._drawn_artists = self._func(framedata, *self._args)\n",
      "  File \"/tmp/ipykernel_212606/4098761645.py\", line 19, in update\n",
      "    for rect, y in zip(m_bars, y_range(model_population[:, :len(visible)], x_range)):\n",
      "  File \"/tmp/ipykernel_212606/3635383174.py\", line 4, in y_range\n",
      "    if x in dict:\n",
      "  File \"/home/jviszlai/Envs/coresets/lib/python3.7/site-packages/tensorflow/python/framework/ops.py\", line 1060, in __bool__\n",
      "    return bool(self._numpy())\n",
      "ValueError: The truth value of an array with more than one element is ambiguous. Use a.any() or a.all()\n"
     ]
    },
    {
     "name": "stdout",
     "output_type": "stream",
     "text": [
      "8\n",
      "9\n"
     ]
    },
    {
     "name": "stderr",
     "output_type": "stream",
     "text": [
      "Traceback (most recent call last):\n",
      "  File \"/home/jviszlai/Envs/coresets/lib/python3.7/site-packages/matplotlib/backend_bases.py\", line 1216, in _on_timer\n",
      "    ret = func(*args, **kwargs)\n",
      "  File \"/home/jviszlai/Envs/coresets/lib/python3.7/site-packages/matplotlib/animation.py\", line 1477, in _step\n",
      "    still_going = super()._step(*args)\n",
      "  File \"/home/jviszlai/Envs/coresets/lib/python3.7/site-packages/matplotlib/animation.py\", line 1189, in _step\n",
      "    self._draw_next_frame(framedata, self._blit)\n",
      "  File \"/home/jviszlai/Envs/coresets/lib/python3.7/site-packages/matplotlib/animation.py\", line 1208, in _draw_next_frame\n",
      "    self._draw_frame(framedata)\n",
      "  File \"/home/jviszlai/Envs/coresets/lib/python3.7/site-packages/matplotlib/animation.py\", line 1776, in _draw_frame\n",
      "    self._drawn_artists = self._func(framedata, *self._args)\n",
      "  File \"/tmp/ipykernel_212606/4098761645.py\", line 19, in update\n",
      "    for rect, y in zip(m_bars, y_range(model_population[:, :len(visible)], x_range)):\n",
      "  File \"/tmp/ipykernel_212606/3635383174.py\", line 4, in y_range\n",
      "    if x in dict:\n",
      "  File \"/home/jviszlai/Envs/coresets/lib/python3.7/site-packages/tensorflow/python/framework/ops.py\", line 1060, in __bool__\n",
      "    return bool(self._numpy())\n",
      "ValueError: The truth value of an array with more than one element is ambiguous. Use a.any() or a.all()\n",
      "Traceback (most recent call last):\n",
      "  File \"/home/jviszlai/Envs/coresets/lib/python3.7/site-packages/matplotlib/backend_bases.py\", line 1216, in _on_timer\n",
      "    ret = func(*args, **kwargs)\n",
      "  File \"/home/jviszlai/Envs/coresets/lib/python3.7/site-packages/matplotlib/animation.py\", line 1477, in _step\n",
      "    still_going = super()._step(*args)\n",
      "  File \"/home/jviszlai/Envs/coresets/lib/python3.7/site-packages/matplotlib/animation.py\", line 1189, in _step\n",
      "    self._draw_next_frame(framedata, self._blit)\n",
      "  File \"/home/jviszlai/Envs/coresets/lib/python3.7/site-packages/matplotlib/animation.py\", line 1208, in _draw_next_frame\n",
      "    self._draw_frame(framedata)\n",
      "  File \"/home/jviszlai/Envs/coresets/lib/python3.7/site-packages/matplotlib/animation.py\", line 1776, in _draw_frame\n",
      "    self._drawn_artists = self._func(framedata, *self._args)\n",
      "  File \"/tmp/ipykernel_212606/4098761645.py\", line 19, in update\n",
      "    for rect, y in zip(m_bars, y_range(model_population[:, :len(visible)], x_range)):\n",
      "  File \"/tmp/ipykernel_212606/3635383174.py\", line 4, in y_range\n",
      "    if x in dict:\n",
      "  File \"/home/jviszlai/Envs/coresets/lib/python3.7/site-packages/tensorflow/python/framework/ops.py\", line 1060, in __bool__\n",
      "    return bool(self._numpy())\n",
      "ValueError: The truth value of an array with more than one element is ambiguous. Use a.any() or a.all()\n"
     ]
    },
    {
     "name": "stdout",
     "output_type": "stream",
     "text": [
      "10\n",
      "11\n"
     ]
    },
    {
     "name": "stderr",
     "output_type": "stream",
     "text": [
      "Traceback (most recent call last):\n",
      "  File \"/home/jviszlai/Envs/coresets/lib/python3.7/site-packages/matplotlib/backend_bases.py\", line 1216, in _on_timer\n",
      "    ret = func(*args, **kwargs)\n",
      "  File \"/home/jviszlai/Envs/coresets/lib/python3.7/site-packages/matplotlib/animation.py\", line 1477, in _step\n",
      "    still_going = super()._step(*args)\n",
      "  File \"/home/jviszlai/Envs/coresets/lib/python3.7/site-packages/matplotlib/animation.py\", line 1189, in _step\n",
      "    self._draw_next_frame(framedata, self._blit)\n",
      "  File \"/home/jviszlai/Envs/coresets/lib/python3.7/site-packages/matplotlib/animation.py\", line 1208, in _draw_next_frame\n",
      "    self._draw_frame(framedata)\n",
      "  File \"/home/jviszlai/Envs/coresets/lib/python3.7/site-packages/matplotlib/animation.py\", line 1776, in _draw_frame\n",
      "    self._drawn_artists = self._func(framedata, *self._args)\n",
      "  File \"/tmp/ipykernel_212606/4098761645.py\", line 19, in update\n",
      "    for rect, y in zip(m_bars, y_range(model_population[:, :len(visible)], x_range)):\n",
      "  File \"/tmp/ipykernel_212606/3635383174.py\", line 4, in y_range\n",
      "    if x in dict:\n",
      "  File \"/home/jviszlai/Envs/coresets/lib/python3.7/site-packages/tensorflow/python/framework/ops.py\", line 1060, in __bool__\n",
      "    return bool(self._numpy())\n",
      "ValueError: The truth value of an array with more than one element is ambiguous. Use a.any() or a.all()\n",
      "Traceback (most recent call last):\n",
      "  File \"/home/jviszlai/Envs/coresets/lib/python3.7/site-packages/matplotlib/backend_bases.py\", line 1216, in _on_timer\n",
      "    ret = func(*args, **kwargs)\n",
      "  File \"/home/jviszlai/Envs/coresets/lib/python3.7/site-packages/matplotlib/animation.py\", line 1477, in _step\n",
      "    still_going = super()._step(*args)\n",
      "  File \"/home/jviszlai/Envs/coresets/lib/python3.7/site-packages/matplotlib/animation.py\", line 1189, in _step\n",
      "    self._draw_next_frame(framedata, self._blit)\n",
      "  File \"/home/jviszlai/Envs/coresets/lib/python3.7/site-packages/matplotlib/animation.py\", line 1208, in _draw_next_frame\n",
      "    self._draw_frame(framedata)\n",
      "  File \"/home/jviszlai/Envs/coresets/lib/python3.7/site-packages/matplotlib/animation.py\", line 1776, in _draw_frame\n",
      "    self._drawn_artists = self._func(framedata, *self._args)\n",
      "  File \"/tmp/ipykernel_212606/4098761645.py\", line 19, in update\n",
      "    for rect, y in zip(m_bars, y_range(model_population[:, :len(visible)], x_range)):\n",
      "  File \"/tmp/ipykernel_212606/3635383174.py\", line 4, in y_range\n",
      "    if x in dict:\n",
      "  File \"/home/jviszlai/Envs/coresets/lib/python3.7/site-packages/tensorflow/python/framework/ops.py\", line 1060, in __bool__\n",
      "    return bool(self._numpy())\n",
      "ValueError: The truth value of an array with more than one element is ambiguous. Use a.any() or a.all()\n"
     ]
    },
    {
     "name": "stdout",
     "output_type": "stream",
     "text": [
      "12\n",
      "13\n"
     ]
    },
    {
     "name": "stderr",
     "output_type": "stream",
     "text": [
      "Traceback (most recent call last):\n",
      "  File \"/home/jviszlai/Envs/coresets/lib/python3.7/site-packages/matplotlib/backend_bases.py\", line 1216, in _on_timer\n",
      "    ret = func(*args, **kwargs)\n",
      "  File \"/home/jviszlai/Envs/coresets/lib/python3.7/site-packages/matplotlib/animation.py\", line 1477, in _step\n",
      "    still_going = super()._step(*args)\n",
      "  File \"/home/jviszlai/Envs/coresets/lib/python3.7/site-packages/matplotlib/animation.py\", line 1189, in _step\n",
      "    self._draw_next_frame(framedata, self._blit)\n",
      "  File \"/home/jviszlai/Envs/coresets/lib/python3.7/site-packages/matplotlib/animation.py\", line 1208, in _draw_next_frame\n",
      "    self._draw_frame(framedata)\n",
      "  File \"/home/jviszlai/Envs/coresets/lib/python3.7/site-packages/matplotlib/animation.py\", line 1776, in _draw_frame\n",
      "    self._drawn_artists = self._func(framedata, *self._args)\n",
      "  File \"/tmp/ipykernel_212606/4098761645.py\", line 19, in update\n",
      "    for rect, y in zip(m_bars, y_range(model_population[:, :len(visible)], x_range)):\n",
      "  File \"/tmp/ipykernel_212606/3635383174.py\", line 4, in y_range\n",
      "    if x in dict:\n",
      "  File \"/home/jviszlai/Envs/coresets/lib/python3.7/site-packages/tensorflow/python/framework/ops.py\", line 1060, in __bool__\n",
      "    return bool(self._numpy())\n",
      "ValueError: The truth value of an array with more than one element is ambiguous. Use a.any() or a.all()\n",
      "Traceback (most recent call last):\n",
      "  File \"/home/jviszlai/Envs/coresets/lib/python3.7/site-packages/matplotlib/backend_bases.py\", line 1216, in _on_timer\n",
      "    ret = func(*args, **kwargs)\n",
      "  File \"/home/jviszlai/Envs/coresets/lib/python3.7/site-packages/matplotlib/animation.py\", line 1477, in _step\n",
      "    still_going = super()._step(*args)\n",
      "  File \"/home/jviszlai/Envs/coresets/lib/python3.7/site-packages/matplotlib/animation.py\", line 1189, in _step\n",
      "    self._draw_next_frame(framedata, self._blit)\n",
      "  File \"/home/jviszlai/Envs/coresets/lib/python3.7/site-packages/matplotlib/animation.py\", line 1208, in _draw_next_frame\n",
      "    self._draw_frame(framedata)\n",
      "  File \"/home/jviszlai/Envs/coresets/lib/python3.7/site-packages/matplotlib/animation.py\", line 1776, in _draw_frame\n",
      "    self._drawn_artists = self._func(framedata, *self._args)\n",
      "  File \"/tmp/ipykernel_212606/4098761645.py\", line 19, in update\n",
      "    for rect, y in zip(m_bars, y_range(model_population[:, :len(visible)], x_range)):\n",
      "  File \"/tmp/ipykernel_212606/3635383174.py\", line 4, in y_range\n",
      "    if x in dict:\n",
      "  File \"/home/jviszlai/Envs/coresets/lib/python3.7/site-packages/tensorflow/python/framework/ops.py\", line 1060, in __bool__\n",
      "    return bool(self._numpy())\n",
      "ValueError: The truth value of an array with more than one element is ambiguous. Use a.any() or a.all()\n"
     ]
    },
    {
     "name": "stdout",
     "output_type": "stream",
     "text": [
      "14\n",
      "15\n"
     ]
    },
    {
     "name": "stderr",
     "output_type": "stream",
     "text": [
      "Traceback (most recent call last):\n",
      "  File \"/home/jviszlai/Envs/coresets/lib/python3.7/site-packages/matplotlib/backend_bases.py\", line 1216, in _on_timer\n",
      "    ret = func(*args, **kwargs)\n",
      "  File \"/home/jviszlai/Envs/coresets/lib/python3.7/site-packages/matplotlib/animation.py\", line 1477, in _step\n",
      "    still_going = super()._step(*args)\n",
      "  File \"/home/jviszlai/Envs/coresets/lib/python3.7/site-packages/matplotlib/animation.py\", line 1189, in _step\n",
      "    self._draw_next_frame(framedata, self._blit)\n",
      "  File \"/home/jviszlai/Envs/coresets/lib/python3.7/site-packages/matplotlib/animation.py\", line 1208, in _draw_next_frame\n",
      "    self._draw_frame(framedata)\n",
      "  File \"/home/jviszlai/Envs/coresets/lib/python3.7/site-packages/matplotlib/animation.py\", line 1776, in _draw_frame\n",
      "    self._drawn_artists = self._func(framedata, *self._args)\n",
      "  File \"/tmp/ipykernel_212606/4098761645.py\", line 19, in update\n",
      "    for rect, y in zip(m_bars, y_range(model_population[:, :len(visible)], x_range)):\n",
      "  File \"/tmp/ipykernel_212606/3635383174.py\", line 4, in y_range\n",
      "    if x in dict:\n",
      "  File \"/home/jviszlai/Envs/coresets/lib/python3.7/site-packages/tensorflow/python/framework/ops.py\", line 1060, in __bool__\n",
      "    return bool(self._numpy())\n",
      "ValueError: The truth value of an array with more than one element is ambiguous. Use a.any() or a.all()\n",
      "Traceback (most recent call last):\n",
      "  File \"/home/jviszlai/Envs/coresets/lib/python3.7/site-packages/matplotlib/backend_bases.py\", line 1216, in _on_timer\n",
      "    ret = func(*args, **kwargs)\n",
      "  File \"/home/jviszlai/Envs/coresets/lib/python3.7/site-packages/matplotlib/animation.py\", line 1477, in _step\n",
      "    still_going = super()._step(*args)\n",
      "  File \"/home/jviszlai/Envs/coresets/lib/python3.7/site-packages/matplotlib/animation.py\", line 1189, in _step\n",
      "    self._draw_next_frame(framedata, self._blit)\n",
      "  File \"/home/jviszlai/Envs/coresets/lib/python3.7/site-packages/matplotlib/animation.py\", line 1208, in _draw_next_frame\n",
      "    self._draw_frame(framedata)\n",
      "  File \"/home/jviszlai/Envs/coresets/lib/python3.7/site-packages/matplotlib/animation.py\", line 1776, in _draw_frame\n",
      "    self._drawn_artists = self._func(framedata, *self._args)\n",
      "  File \"/tmp/ipykernel_212606/4098761645.py\", line 19, in update\n",
      "    for rect, y in zip(m_bars, y_range(model_population[:, :len(visible)], x_range)):\n",
      "  File \"/tmp/ipykernel_212606/3635383174.py\", line 4, in y_range\n",
      "    if x in dict:\n",
      "  File \"/home/jviszlai/Envs/coresets/lib/python3.7/site-packages/tensorflow/python/framework/ops.py\", line 1060, in __bool__\n",
      "    return bool(self._numpy())\n",
      "ValueError: The truth value of an array with more than one element is ambiguous. Use a.any() or a.all()\n"
     ]
    },
    {
     "name": "stdout",
     "output_type": "stream",
     "text": [
      "16\n",
      "17\n"
     ]
    },
    {
     "name": "stderr",
     "output_type": "stream",
     "text": [
      "Traceback (most recent call last):\n",
      "  File \"/home/jviszlai/Envs/coresets/lib/python3.7/site-packages/matplotlib/backend_bases.py\", line 1216, in _on_timer\n",
      "    ret = func(*args, **kwargs)\n",
      "  File \"/home/jviszlai/Envs/coresets/lib/python3.7/site-packages/matplotlib/animation.py\", line 1477, in _step\n",
      "    still_going = super()._step(*args)\n",
      "  File \"/home/jviszlai/Envs/coresets/lib/python3.7/site-packages/matplotlib/animation.py\", line 1189, in _step\n",
      "    self._draw_next_frame(framedata, self._blit)\n",
      "  File \"/home/jviszlai/Envs/coresets/lib/python3.7/site-packages/matplotlib/animation.py\", line 1208, in _draw_next_frame\n",
      "    self._draw_frame(framedata)\n",
      "  File \"/home/jviszlai/Envs/coresets/lib/python3.7/site-packages/matplotlib/animation.py\", line 1776, in _draw_frame\n",
      "    self._drawn_artists = self._func(framedata, *self._args)\n",
      "  File \"/tmp/ipykernel_212606/4098761645.py\", line 19, in update\n",
      "    for rect, y in zip(m_bars, y_range(model_population[:, :len(visible)], x_range)):\n",
      "  File \"/tmp/ipykernel_212606/3635383174.py\", line 4, in y_range\n",
      "    if x in dict:\n",
      "  File \"/home/jviszlai/Envs/coresets/lib/python3.7/site-packages/tensorflow/python/framework/ops.py\", line 1060, in __bool__\n",
      "    return bool(self._numpy())\n",
      "ValueError: The truth value of an array with more than one element is ambiguous. Use a.any() or a.all()\n",
      "Traceback (most recent call last):\n",
      "  File \"/home/jviszlai/Envs/coresets/lib/python3.7/site-packages/matplotlib/backend_bases.py\", line 1216, in _on_timer\n",
      "    ret = func(*args, **kwargs)\n",
      "  File \"/home/jviszlai/Envs/coresets/lib/python3.7/site-packages/matplotlib/animation.py\", line 1477, in _step\n",
      "    still_going = super()._step(*args)\n",
      "  File \"/home/jviszlai/Envs/coresets/lib/python3.7/site-packages/matplotlib/animation.py\", line 1189, in _step\n",
      "    self._draw_next_frame(framedata, self._blit)\n",
      "  File \"/home/jviszlai/Envs/coresets/lib/python3.7/site-packages/matplotlib/animation.py\", line 1208, in _draw_next_frame\n",
      "    self._draw_frame(framedata)\n",
      "  File \"/home/jviszlai/Envs/coresets/lib/python3.7/site-packages/matplotlib/animation.py\", line 1776, in _draw_frame\n",
      "    self._drawn_artists = self._func(framedata, *self._args)\n",
      "  File \"/tmp/ipykernel_212606/4098761645.py\", line 19, in update\n",
      "    for rect, y in zip(m_bars, y_range(model_population[:, :len(visible)], x_range)):\n",
      "  File \"/tmp/ipykernel_212606/3635383174.py\", line 4, in y_range\n",
      "    if x in dict:\n",
      "  File \"/home/jviszlai/Envs/coresets/lib/python3.7/site-packages/tensorflow/python/framework/ops.py\", line 1060, in __bool__\n",
      "    return bool(self._numpy())\n",
      "ValueError: The truth value of an array with more than one element is ambiguous. Use a.any() or a.all()\n"
     ]
    },
    {
     "name": "stdout",
     "output_type": "stream",
     "text": [
      "18\n",
      "19\n"
     ]
    },
    {
     "name": "stderr",
     "output_type": "stream",
     "text": [
      "Traceback (most recent call last):\n",
      "  File \"/home/jviszlai/Envs/coresets/lib/python3.7/site-packages/matplotlib/backend_bases.py\", line 1216, in _on_timer\n",
      "    ret = func(*args, **kwargs)\n",
      "  File \"/home/jviszlai/Envs/coresets/lib/python3.7/site-packages/matplotlib/animation.py\", line 1477, in _step\n",
      "    still_going = super()._step(*args)\n",
      "  File \"/home/jviszlai/Envs/coresets/lib/python3.7/site-packages/matplotlib/animation.py\", line 1189, in _step\n",
      "    self._draw_next_frame(framedata, self._blit)\n",
      "  File \"/home/jviszlai/Envs/coresets/lib/python3.7/site-packages/matplotlib/animation.py\", line 1208, in _draw_next_frame\n",
      "    self._draw_frame(framedata)\n",
      "  File \"/home/jviszlai/Envs/coresets/lib/python3.7/site-packages/matplotlib/animation.py\", line 1776, in _draw_frame\n",
      "    self._drawn_artists = self._func(framedata, *self._args)\n",
      "  File \"/tmp/ipykernel_212606/4098761645.py\", line 19, in update\n",
      "    for rect, y in zip(m_bars, y_range(model_population[:, :len(visible)], x_range)):\n",
      "  File \"/tmp/ipykernel_212606/3635383174.py\", line 4, in y_range\n",
      "    if x in dict:\n",
      "  File \"/home/jviszlai/Envs/coresets/lib/python3.7/site-packages/tensorflow/python/framework/ops.py\", line 1060, in __bool__\n",
      "    return bool(self._numpy())\n",
      "ValueError: The truth value of an array with more than one element is ambiguous. Use a.any() or a.all()\n",
      "Traceback (most recent call last):\n"
     ]
    },
    {
     "name": "stdout",
     "output_type": "stream",
     "text": [
      "20\n",
      "21\n"
     ]
    },
    {
     "name": "stderr",
     "output_type": "stream",
     "text": [
      "  File \"/home/jviszlai/Envs/coresets/lib/python3.7/site-packages/matplotlib/backend_bases.py\", line 1216, in _on_timer\n",
      "    ret = func(*args, **kwargs)\n",
      "  File \"/home/jviszlai/Envs/coresets/lib/python3.7/site-packages/matplotlib/animation.py\", line 1477, in _step\n",
      "    still_going = super()._step(*args)\n",
      "  File \"/home/jviszlai/Envs/coresets/lib/python3.7/site-packages/matplotlib/animation.py\", line 1189, in _step\n",
      "    self._draw_next_frame(framedata, self._blit)\n",
      "  File \"/home/jviszlai/Envs/coresets/lib/python3.7/site-packages/matplotlib/animation.py\", line 1208, in _draw_next_frame\n",
      "    self._draw_frame(framedata)\n",
      "  File \"/home/jviszlai/Envs/coresets/lib/python3.7/site-packages/matplotlib/animation.py\", line 1776, in _draw_frame\n",
      "    self._drawn_artists = self._func(framedata, *self._args)\n",
      "  File \"/tmp/ipykernel_212606/4098761645.py\", line 19, in update\n",
      "    for rect, y in zip(m_bars, y_range(model_population[:, :len(visible)], x_range)):\n",
      "  File \"/tmp/ipykernel_212606/3635383174.py\", line 4, in y_range\n",
      "    if x in dict:\n",
      "  File \"/home/jviszlai/Envs/coresets/lib/python3.7/site-packages/tensorflow/python/framework/ops.py\", line 1060, in __bool__\n",
      "    return bool(self._numpy())\n",
      "ValueError: The truth value of an array with more than one element is ambiguous. Use a.any() or a.all()\n",
      "Traceback (most recent call last):\n",
      "  File \"/home/jviszlai/Envs/coresets/lib/python3.7/site-packages/matplotlib/backend_bases.py\", line 1216, in _on_timer\n",
      "    ret = func(*args, **kwargs)\n",
      "  File \"/home/jviszlai/Envs/coresets/lib/python3.7/site-packages/matplotlib/animation.py\", line 1477, in _step\n",
      "    still_going = super()._step(*args)\n",
      "  File \"/home/jviszlai/Envs/coresets/lib/python3.7/site-packages/matplotlib/animation.py\", line 1189, in _step\n",
      "    self._draw_next_frame(framedata, self._blit)\n",
      "  File \"/home/jviszlai/Envs/coresets/lib/python3.7/site-packages/matplotlib/animation.py\", line 1208, in _draw_next_frame\n",
      "    self._draw_frame(framedata)\n",
      "  File \"/home/jviszlai/Envs/coresets/lib/python3.7/site-packages/matplotlib/animation.py\", line 1776, in _draw_frame\n",
      "    self._drawn_artists = self._func(framedata, *self._args)\n",
      "  File \"/tmp/ipykernel_212606/4098761645.py\", line 19, in update\n",
      "    for rect, y in zip(m_bars, y_range(model_population[:, :len(visible)], x_range)):\n",
      "  File \"/tmp/ipykernel_212606/3635383174.py\", line 4, in y_range\n",
      "    if x in dict:\n",
      "  File \"/home/jviszlai/Envs/coresets/lib/python3.7/site-packages/tensorflow/python/framework/ops.py\", line 1060, in __bool__\n",
      "    return bool(self._numpy())\n",
      "ValueError: The truth value of an array with more than one element is ambiguous. Use a.any() or a.all()\n"
     ]
    },
    {
     "name": "stdout",
     "output_type": "stream",
     "text": [
      "22\n",
      "23\n"
     ]
    },
    {
     "name": "stderr",
     "output_type": "stream",
     "text": [
      "Traceback (most recent call last):\n",
      "  File \"/home/jviszlai/Envs/coresets/lib/python3.7/site-packages/matplotlib/backend_bases.py\", line 1216, in _on_timer\n",
      "    ret = func(*args, **kwargs)\n",
      "  File \"/home/jviszlai/Envs/coresets/lib/python3.7/site-packages/matplotlib/animation.py\", line 1477, in _step\n",
      "    still_going = super()._step(*args)\n",
      "  File \"/home/jviszlai/Envs/coresets/lib/python3.7/site-packages/matplotlib/animation.py\", line 1189, in _step\n",
      "    self._draw_next_frame(framedata, self._blit)\n",
      "  File \"/home/jviszlai/Envs/coresets/lib/python3.7/site-packages/matplotlib/animation.py\", line 1208, in _draw_next_frame\n",
      "    self._draw_frame(framedata)\n",
      "  File \"/home/jviszlai/Envs/coresets/lib/python3.7/site-packages/matplotlib/animation.py\", line 1776, in _draw_frame\n",
      "    self._drawn_artists = self._func(framedata, *self._args)\n",
      "  File \"/tmp/ipykernel_212606/4098761645.py\", line 19, in update\n",
      "    for rect, y in zip(m_bars, y_range(model_population[:, :len(visible)], x_range)):\n",
      "  File \"/tmp/ipykernel_212606/3635383174.py\", line 4, in y_range\n",
      "    if x in dict:\n",
      "  File \"/home/jviszlai/Envs/coresets/lib/python3.7/site-packages/tensorflow/python/framework/ops.py\", line 1060, in __bool__\n",
      "    return bool(self._numpy())\n",
      "ValueError: The truth value of an array with more than one element is ambiguous. Use a.any() or a.all()\n",
      "Traceback (most recent call last):\n",
      "  File \"/home/jviszlai/Envs/coresets/lib/python3.7/site-packages/matplotlib/backend_bases.py\", line 1216, in _on_timer\n",
      "    ret = func(*args, **kwargs)\n",
      "  File \"/home/jviszlai/Envs/coresets/lib/python3.7/site-packages/matplotlib/animation.py\", line 1477, in _step\n",
      "    still_going = super()._step(*args)\n",
      "  File \"/home/jviszlai/Envs/coresets/lib/python3.7/site-packages/matplotlib/animation.py\", line 1189, in _step\n",
      "    self._draw_next_frame(framedata, self._blit)\n",
      "  File \"/home/jviszlai/Envs/coresets/lib/python3.7/site-packages/matplotlib/animation.py\", line 1208, in _draw_next_frame\n",
      "    self._draw_frame(framedata)\n",
      "  File \"/home/jviszlai/Envs/coresets/lib/python3.7/site-packages/matplotlib/animation.py\", line 1776, in _draw_frame\n",
      "    self._drawn_artists = self._func(framedata, *self._args)\n",
      "  File \"/tmp/ipykernel_212606/4098761645.py\", line 19, in update\n",
      "    for rect, y in zip(m_bars, y_range(model_population[:, :len(visible)], x_range)):\n",
      "  File \"/tmp/ipykernel_212606/3635383174.py\", line 4, in y_range\n",
      "    if x in dict:\n",
      "  File \"/home/jviszlai/Envs/coresets/lib/python3.7/site-packages/tensorflow/python/framework/ops.py\", line 1060, in __bool__\n",
      "    return bool(self._numpy())\n",
      "ValueError: The truth value of an array with more than one element is ambiguous. Use a.any() or a.all()\n",
      "Traceback (most recent call last):\n",
      "  File \"/home/jviszlai/Envs/coresets/lib/python3.7/site-packages/matplotlib/backend_bases.py\", line 1216, in _on_timer\n",
      "    ret = func(*args, **kwargs)\n",
      "  File \"/home/jviszlai/Envs/coresets/lib/python3.7/site-packages/matplotlib/animation.py\", line 1477, in _step\n",
      "    still_going = super()._step(*args)\n",
      "  File \"/home/jviszlai/Envs/coresets/lib/python3.7/site-packages/matplotlib/animation.py\", line 1189, in _step\n",
      "    self._draw_next_frame(framedata, self._blit)\n",
      "  File \"/home/jviszlai/Envs/coresets/lib/python3.7/site-packages/matplotlib/animation.py\", line 1208, in _draw_next_frame\n",
      "    self._draw_frame(framedata)\n",
      "  File \"/home/jviszlai/Envs/coresets/lib/python3.7/site-packages/matplotlib/animation.py\", line 1776, in _draw_frame\n",
      "    self._drawn_artists = self._func(framedata, *self._args)\n",
      "  File \"/tmp/ipykernel_212606/4098761645.py\", line 19, in update\n",
      "    for rect, y in zip(m_bars, y_range(model_population[:, :len(visible)], x_range)):\n",
      "  File \"/tmp/ipykernel_212606/3635383174.py\", line 4, in y_range\n",
      "    if x in dict:\n",
      "  File \"/home/jviszlai/Envs/coresets/lib/python3.7/site-packages/tensorflow/python/framework/ops.py\", line 1060, in __bool__\n",
      "    return bool(self._numpy())\n",
      "ValueError: The truth value of an array with more than one element is ambiguous. Use a.any() or a.all()\n"
     ]
    },
    {
     "name": "stdout",
     "output_type": "stream",
     "text": [
      "24\n",
      "25\n"
     ]
    },
    {
     "name": "stderr",
     "output_type": "stream",
     "text": [
      "Traceback (most recent call last):\n",
      "  File \"/home/jviszlai/Envs/coresets/lib/python3.7/site-packages/matplotlib/backend_bases.py\", line 1216, in _on_timer\n",
      "    ret = func(*args, **kwargs)\n",
      "  File \"/home/jviszlai/Envs/coresets/lib/python3.7/site-packages/matplotlib/animation.py\", line 1477, in _step\n",
      "    still_going = super()._step(*args)\n",
      "  File \"/home/jviszlai/Envs/coresets/lib/python3.7/site-packages/matplotlib/animation.py\", line 1189, in _step\n",
      "    self._draw_next_frame(framedata, self._blit)\n",
      "  File \"/home/jviszlai/Envs/coresets/lib/python3.7/site-packages/matplotlib/animation.py\", line 1208, in _draw_next_frame\n",
      "    self._draw_frame(framedata)\n",
      "  File \"/home/jviszlai/Envs/coresets/lib/python3.7/site-packages/matplotlib/animation.py\", line 1776, in _draw_frame\n",
      "    self._drawn_artists = self._func(framedata, *self._args)\n",
      "  File \"/tmp/ipykernel_212606/4098761645.py\", line 19, in update\n",
      "    for rect, y in zip(m_bars, y_range(model_population[:, :len(visible)], x_range)):\n",
      "  File \"/tmp/ipykernel_212606/3635383174.py\", line 4, in y_range\n",
      "    if x in dict:\n",
      "  File \"/home/jviszlai/Envs/coresets/lib/python3.7/site-packages/tensorflow/python/framework/ops.py\", line 1060, in __bool__\n",
      "    return bool(self._numpy())\n",
      "ValueError: The truth value of an array with more than one element is ambiguous. Use a.any() or a.all()\n",
      "Traceback (most recent call last):\n",
      "  File \"/home/jviszlai/Envs/coresets/lib/python3.7/site-packages/matplotlib/backend_bases.py\", line 1216, in _on_timer\n",
      "    ret = func(*args, **kwargs)\n",
      "  File \"/home/jviszlai/Envs/coresets/lib/python3.7/site-packages/matplotlib/animation.py\", line 1477, in _step\n",
      "    still_going = super()._step(*args)\n",
      "  File \"/home/jviszlai/Envs/coresets/lib/python3.7/site-packages/matplotlib/animation.py\", line 1189, in _step\n",
      "    self._draw_next_frame(framedata, self._blit)\n",
      "  File \"/home/jviszlai/Envs/coresets/lib/python3.7/site-packages/matplotlib/animation.py\", line 1208, in _draw_next_frame\n",
      "    self._draw_frame(framedata)\n",
      "  File \"/home/jviszlai/Envs/coresets/lib/python3.7/site-packages/matplotlib/animation.py\", line 1776, in _draw_frame\n",
      "    self._drawn_artists = self._func(framedata, *self._args)\n",
      "  File \"/tmp/ipykernel_212606/4098761645.py\", line 19, in update\n",
      "    for rect, y in zip(m_bars, y_range(model_population[:, :len(visible)], x_range)):\n",
      "  File \"/tmp/ipykernel_212606/3635383174.py\", line 4, in y_range\n",
      "    if x in dict:\n",
      "  File \"/home/jviszlai/Envs/coresets/lib/python3.7/site-packages/tensorflow/python/framework/ops.py\", line 1060, in __bool__\n",
      "    return bool(self._numpy())\n",
      "ValueError: The truth value of an array with more than one element is ambiguous. Use a.any() or a.all()\n"
     ]
    },
    {
     "name": "stdout",
     "output_type": "stream",
     "text": [
      "26\n",
      "27\n"
     ]
    },
    {
     "name": "stderr",
     "output_type": "stream",
     "text": [
      "Traceback (most recent call last):\n",
      "  File \"/home/jviszlai/Envs/coresets/lib/python3.7/site-packages/matplotlib/backend_bases.py\", line 1216, in _on_timer\n",
      "    ret = func(*args, **kwargs)\n",
      "  File \"/home/jviszlai/Envs/coresets/lib/python3.7/site-packages/matplotlib/animation.py\", line 1477, in _step\n",
      "    still_going = super()._step(*args)\n",
      "  File \"/home/jviszlai/Envs/coresets/lib/python3.7/site-packages/matplotlib/animation.py\", line 1189, in _step\n",
      "    self._draw_next_frame(framedata, self._blit)\n",
      "  File \"/home/jviszlai/Envs/coresets/lib/python3.7/site-packages/matplotlib/animation.py\", line 1208, in _draw_next_frame\n",
      "    self._draw_frame(framedata)\n",
      "  File \"/home/jviszlai/Envs/coresets/lib/python3.7/site-packages/matplotlib/animation.py\", line 1776, in _draw_frame\n",
      "    self._drawn_artists = self._func(framedata, *self._args)\n",
      "  File \"/tmp/ipykernel_212606/4098761645.py\", line 19, in update\n",
      "    for rect, y in zip(m_bars, y_range(model_population[:, :len(visible)], x_range)):\n",
      "  File \"/tmp/ipykernel_212606/3635383174.py\", line 4, in y_range\n",
      "    if x in dict:\n",
      "  File \"/home/jviszlai/Envs/coresets/lib/python3.7/site-packages/tensorflow/python/framework/ops.py\", line 1060, in __bool__\n",
      "    return bool(self._numpy())\n",
      "ValueError: The truth value of an array with more than one element is ambiguous. Use a.any() or a.all()\n",
      "Traceback (most recent call last):\n",
      "  File \"/home/jviszlai/Envs/coresets/lib/python3.7/site-packages/matplotlib/backend_bases.py\", line 1216, in _on_timer\n",
      "    ret = func(*args, **kwargs)\n",
      "  File \"/home/jviszlai/Envs/coresets/lib/python3.7/site-packages/matplotlib/animation.py\", line 1477, in _step\n",
      "    still_going = super()._step(*args)\n",
      "  File \"/home/jviszlai/Envs/coresets/lib/python3.7/site-packages/matplotlib/animation.py\", line 1189, in _step\n",
      "    self._draw_next_frame(framedata, self._blit)\n",
      "  File \"/home/jviszlai/Envs/coresets/lib/python3.7/site-packages/matplotlib/animation.py\", line 1208, in _draw_next_frame\n",
      "    self._draw_frame(framedata)\n",
      "  File \"/home/jviszlai/Envs/coresets/lib/python3.7/site-packages/matplotlib/animation.py\", line 1776, in _draw_frame\n",
      "    self._drawn_artists = self._func(framedata, *self._args)\n",
      "  File \"/tmp/ipykernel_212606/4098761645.py\", line 19, in update\n",
      "    for rect, y in zip(m_bars, y_range(model_population[:, :len(visible)], x_range)):\n",
      "  File \"/tmp/ipykernel_212606/3635383174.py\", line 4, in y_range\n",
      "    if x in dict:\n"
     ]
    },
    {
     "name": "stdout",
     "output_type": "stream",
     "text": [
      "28\n"
     ]
    },
    {
     "name": "stderr",
     "output_type": "stream",
     "text": [
      "  File \"/home/jviszlai/Envs/coresets/lib/python3.7/site-packages/tensorflow/python/framework/ops.py\", line 1060, in __bool__\n",
      "    return bool(self._numpy())\n",
      "ValueError: The truth value of an array with more than one element is ambiguous. Use a.any() or a.all()\n"
     ]
    }
   ],
   "source": [
    "fig, ax = plt.subplots(figsize=[15,5])\n",
    "\n",
    "x_range = range(2 ** len(visible))\n",
    "data_dist = data_to_dict(data)\n",
    "init_model_dist = data_to_dict(pop_history[0][:, :len(visible)])\n",
    "width = 0.4\n",
    "\n",
    "m_bars = ax.bar(x_range, y_range(init_model_dist, x_range), color='palegreen', label=r'$P^{model}_v$', align='edge', width=width)\n",
    "d_bars = ax.bar(x_range, y_range(data_dist, x_range), color='lightsalmon', label=r'$P^{data}_v$', align='edge', width=-width)\n",
    "\n",
    "plt.grid(alpha=.4, linestyle='--')\n",
    "plt.legend(fontsize=14)\n",
    "plt.xlabel(r'Visible state', fontsize=14)\n",
    "plt.ylabel('Probability', fontsize=14)\n",
    "\n",
    "def update(frame):\n",
    "    model_population = pop_history[frame]\n",
    "    for rect, y in zip(m_bars, y_range(model_population[:, :len(visible)], x_range)):\n",
    "        rect.set_height(y)\n",
    "\n",
    "anim = FuncAnimation(fig, update, frames=np.array(range(len(pop_history))))\n",
    "plt.show()"
   ]
  },
  {
   "cell_type": "code",
   "execution_count": null,
   "metadata": {},
   "outputs": [],
   "source": []
  }
 ],
 "metadata": {
  "interpreter": {
   "hash": "eed1e518159ae409ec290f76bafd254a7bb88ab625d627d1507156d197880aa4"
  },
  "kernelspec": {
   "display_name": "Python 3.7.2 ('coresets')",
   "language": "python",
   "name": "python3"
  },
  "language_info": {
   "codemirror_mode": {
    "name": "ipython",
    "version": 3
   },
   "file_extension": ".py",
   "mimetype": "text/x-python",
   "name": "python",
   "nbconvert_exporter": "python",
   "pygments_lexer": "ipython3",
   "version": "3.7.2"
  },
  "orig_nbformat": 4
 },
 "nbformat": 4,
 "nbformat_minor": 2
}
